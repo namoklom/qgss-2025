{
 "cells": [
  {
   "cell_type": "markdown",
   "id": "c0b19159",
   "metadata": {},
   "source": [
    "## Exercício 1: Medindo o tamanho do Hamiltoniano do O₂\n",
    "\n",
    "Agora vamos calcular o tamanho do oxigênio O₂ na base `6-31G`. O oxigênio tem o mesmo número de orbitais que o N₂, mas tem 2 elétrons α-spin (spin-up) adicionais. Os números que você precisa usar neste exercício são fornecidos na tabela abaixo.\n",
    "\n",
    "Usando o número de orbitais espaciais e elétrons na tabela abaixo, calcule o número total de configurações de spin eletrônicas para a molécula de oxigênio O₂ na base `6-31G`. **Você pode escrever seu próprio código ou calcular manualmente para obter a resposta.**\n",
    "\n",
    "|   |    STO-3G  |  6-31G  | cc-pVDZ  |  \n",
    "|:-------|:------:|:-------:|:-------:|\n",
    "|Orbitais espaciais | (10) **8**| (18) **16** | (28) **26** |\n",
    "|Orbitais de spin | (20) **16**| (36) **32**| (56) **52** |\n",
    "| Elétrons α-spin  | (9) **7**| (9) **7**| (9) **7** |\n",
    "| Elétrons β-spin  | (7) **5**| (7) **5**| (7) **5** |\n",
    "\n",
    "<p style=\"text-align:center;\">Tabela 1: Número de orbitais e elétrons nos conjuntos de base especificados para O₂</p>\n",
    "\n",
    "- (#) : número de orbitais ou elétrons baseado na estrutura atômica real no conjunto de base especificado.\n",
    "- **#** : número de orbitais ou elétrons ao congelar o orbital do núcleo (*1s*) e reduzir o número de elétrons e orbitais espaciais em 2 cada.\n",
    "\n",
    "⚠️ **Nota:** Como já vimos no exemplo anterior, trataremos o orbital $1s$ (núcleo) como quimicamente inativo neste exercício. Isso significa que podemos congelar o orbital do núcleo e economizar 2 elétrons e 2 orbitais espaciais (ou seja, 4 orbitais de spin -> 4 qubits). Esta é outra técnica de aproximação útil que você verá frequentemente em simulações de química reais. Aplicando esta técnica, certifique-se de usar os números em **negrito** para calcular todas as possíveis configurações eletrônicas para o Hamiltoniano do O₂."
   ]
  },
  {
   "cell_type": "code",
   "execution_count": 5,
   "id": "71c7e26b",
   "metadata": {},
   "outputs": [
    {
     "name": "stdout",
     "output_type": "stream",
     "text": [
      "Total de configurações físicas para O2 na base dada : 11440 x 4368 = 49969920\n",
      "Total de configurações físicas para O2 na base dada : 49,969,920\n"
     ]
    }
   ],
   "source": [
    "# Exercício 1: Número de possíveis configurações de spin\n",
    "# Exemplo: molécula O2 na base 6-31G\n",
    "# 16 elétrons, 32 orbitais de spin (de 16 orbitais espaciais × 2)\n",
    "\n",
    "# Calcular todas as configurações eletrônicas válidas\n",
    "# Dica: Este é um problema combinatório. Você pode calcular manualmente e fornecer a resposta ou usar o método math.comb() abaixo.\n",
    "\n",
    "from math import comb\n",
    "\n",
    "# ---- TODO : Tarefa 1 ---\n",
    "### Forneça seu código abaixo para calcular as configurações totais\n",
    "\n",
    "# Para O2 na base 6-31G (com core freezing):\n",
    "# - 16 orbitais espaciais (números em negrito da tabela)\n",
    "# - 7 elétrons α-spin \n",
    "# - 5 elétrons β-spin\n",
    "# \n",
    "# Número de configurações = C(n, k) onde n = orbitais espaciais, k = número de elétrons de cada spin\n",
    "\n",
    "α_config = comb(16, 7)  # C(16, 7) = configurações para elétrons α-spin\n",
    "β_config = comb(16, 5)  # C(16, 5) = configurações para elétrons β-spin\n",
    "total_config = (α_config)*(β_config)\n",
    "# --- Fim do TODO ---\n",
    "\n",
    "print(f\"Total de configurações físicas para O2 na base dada : {α_config:} x {β_config:} = {total_config}\")\n",
    "print(f\"Total de configurações físicas para O2 na base dada : {total_config:,}\")"
   ]
  },
  {
   "cell_type": "code",
   "execution_count": 6,
   "id": "ba1f2c67",
   "metadata": {},
   "outputs": [
    {
     "name": "stdout",
     "output_type": "stream",
     "text": [
      "Submitting your answer. Please wait...\n",
      "Congratulations 🎉! Your answer is correct and has been submitted.\n"
     ]
    }
   ],
   "source": [
    "# Submeta sua resposta usando o código a seguir\n",
    "\n",
    "grade_lab3_ex1(total_config) # Tipo de resultado esperado: integer"
   ]
  },
  {
   "cell_type": "markdown",
   "id": "a78db33e",
   "metadata": {},
   "source": [
    "## Exercício 2: Inverter um bit por recuperação de configuração\n",
    "\n",
    "Neste exercício, você deve implementar o algoritmo de recuperação de configuração para corrigir amostras quânticas ruidosas. Este processo é fundamental no algoritmo SQD (Sample-based Quantum Diagonalization) para lidar com bitstrings que não respeitam as restrições de número de partículas.\n",
    "\n",
    "### Conceito da Recuperação de Configuração\n",
    "\n",
    "Quando executamos um circuito quântico em hardware ruidoso, podemos obter bitstrings que violam a conservação do número de elétrons. Por exemplo, uma amostra pode ter um número incorreto de elétrons α-spin ou β-spin.\n",
    "\n",
    "A recuperação de configuração corrige essas amostras \"invertendo\" bits com base na ocupação orbital média calculada anteriormente. A probabilidade de inversão é calculada usando:\n",
    "\n",
    "- **y_alpha[i]**: Probabilidade de inverter o bit i nos orbitais α-spin\n",
    "- **y_beta[i]**: Probabilidade de inverter o bit i nos orbitais β-spin\n",
    "\n",
    "### Instruções do Exercício\n",
    "\n",
    "Você deve implementar as variáveis `y_alpha` e `y_beta` que determinam qual bit inverter quando uma configuração tem número incorreto de elétrons.\n",
    "\n",
    "**Cenário**: Molécula N₂ na base STO-3G com:\n",
    "- 8 orbitais espaciais (16 orbitais de spin total)\n",
    "- 5 elétrons α-spin e 5 elétrons β-spin esperados\n",
    "- Ocupação orbital média fornecida por `n` (shape: 16,)\n",
    "\n",
    "**Regras de inversão**:\n",
    "1. Se há **falta** de elétrons α-spin: inverta um bit 0→1 no orbital com maior ocupação α\n",
    "2. Se há **excesso** de elétrons α-spin: inverta um bit 1→0 no orbital com menor ocupação α  \n",
    "3. Mesma lógica se aplica para elétrons β-spin\n",
    "4. Se um orbital já está ocupado e não precisa ser invertido, defina a probabilidade como 0\n",
    "\n",
    "A metade direita da bitstring representa orbitais α-spin, a metade esquerda representa orbitais β-spin."
   ]
  },
  {
   "cell_type": "code",
   "execution_count": 7,
   "id": "931e490f",
   "metadata": {},
   "outputs": [
    {
     "name": "stdout",
     "output_type": "stream",
     "text": [
      "Bitstring original: [0, 1, 1, 0, 1, 1, 1, 1, 0, 1, 1, 0, 1, 1, 0, 1]\n",
      "Ocupação orbital média: [0.9  0.85 0.75 0.6  0.4  0.3  0.2  0.1  0.9  0.85 0.75 0.6  0.4  0.3\n",
      " 0.2  0.1 ]\n",
      "\n",
      "Spins α (segunda metade): [0 1 1 0 1 1 0 1]\n",
      "Spins β (primeira metade): [0 1 1 0 1 1 1 1]\n",
      "Ocupação α: [0.9  0.85 0.75 0.6  0.4  0.3  0.2  0.1 ]\n",
      "Ocupação β: [0.9  0.85 0.75 0.6  0.4  0.3  0.2  0.1 ]\n",
      "\n",
      "Elétrons α atuais: 5, esperados: 5\n",
      "Elétrons β atuais: 6, esperados: 5\n",
      "\n",
      "Probabilidades de inversão α: [0. 0. 0. 0. 0. 0. 0. 0.]\n",
      "Probabilidades de inversão β: [0.   0.15 0.25 0.   0.6  0.7  0.8  0.9 ]\n"
     ]
    }
   ],
   "source": [
    "# Implementação do Exercício 2: Recuperação de Configuração\n",
    "import numpy as np\n",
    "\n",
    "# Dados fornecidos para N2 na base STO-3G\n",
    "# Exemplo de uma bitstring com número incorreto de elétrons\n",
    "x = [0, 1, 1, 0, 1, 1, 1, 1, 0, 1, 1, 0, 1, 1, 0, 1]  # Exemplo: 16 bits total (8 α + 8 β)\n",
    "\n",
    "# Ocupação orbital média (exemplo - normalmente vem de iterações anteriores do SQD)\n",
    "n = np.array([0.9, 0.85, 0.75, 0.6, 0.4, 0.3, 0.2, 0.1, 0.9, 0.85, 0.75, 0.6, 0.4, 0.3, 0.2, 0.1])\n",
    "\n",
    "print(\"Bitstring original:\", x)\n",
    "print(\"Ocupação orbital média:\", n)\n",
    "\n",
    "# Convertendo para array numpy para facilitar manipulação\n",
    "x = np.array(x)\n",
    "n = np.array(n)\n",
    "\n",
    "# ---- TAREFA : Tarefa 2 ---\n",
    "# Implementar algoritmo de recuperação de configuração\n",
    "\n",
    "# Dividir em spin alfa e spin beta (metade direita = α, metade esquerda = β)\n",
    "n_orbitals = len(x) // 2  # 8 orbitais espaciais\n",
    "x_alpha = x[n_orbitals:]  # Segunda metade (α-spin)\n",
    "x_beta = x[:n_orbitals]   # Primeira metade (β-spin)\n",
    "\n",
    "n_alpha = n[n_orbitals:]  # Ocupação média α-spin\n",
    "n_beta = n[:n_orbitals]   # Ocupação média β-spin\n",
    "\n",
    "print(f\"\\nSpins α (segunda metade): {x_alpha}\")\n",
    "print(f\"Spins β (primeira metade): {x_beta}\")\n",
    "print(f\"Ocupação α: {n_alpha}\")\n",
    "print(f\"Ocupação β: {n_beta}\")\n",
    "\n",
    "# Contar elétrons atuais vs esperados\n",
    "n_alpha_atual = np.sum(x_alpha)\n",
    "n_beta_atual = np.sum(x_beta)\n",
    "n_alpha_esperado = 5  # Para N2 STO-3G\n",
    "n_beta_esperado = 5   # Para N2 STO-3G\n",
    "\n",
    "print(f\"\\nElétrons α atuais: {n_alpha_atual}, esperados: {n_alpha_esperado}\")\n",
    "print(f\"Elétrons β atuais: {n_beta_atual}, esperados: {n_beta_esperado}\")\n",
    "\n",
    "# Calcular probabilidades de inversão y_alpha e y_beta\n",
    "# Regra: se falta elétron, inverta 0→1 em orbital com maior ocupação\n",
    "#        se há excesso, inverta 1→0 em orbital com menor ocupação\n",
    "\n",
    "# Para α-spin\n",
    "y_alpha = np.zeros(n_orbitals)\n",
    "if n_alpha_atual < n_alpha_esperado:\n",
    "    # Falta elétron α: inverta 0→1 onde ocupação é maior e orbital está vazio\n",
    "    for i in range(n_orbitals):\n",
    "        if x_alpha[i] == 0:  # Orbital vazio\n",
    "            y_alpha[i] = n_alpha[i]  # Probabilidade proporcional à ocupação\n",
    "elif n_alpha_atual > n_alpha_esperado:\n",
    "    # Excesso de elétron α: inverta 1→0 onde ocupação é menor e orbital está ocupado\n",
    "    for i in range(n_orbitals):\n",
    "        if x_alpha[i] == 1:  # Orbital ocupado\n",
    "            y_alpha[i] = 1.0 - n_alpha[i]  # Probabilidade inversamente proporcional\n",
    "\n",
    "# Para β-spin\n",
    "y_beta = np.zeros(n_orbitals)\n",
    "if n_beta_atual < n_beta_esperado:\n",
    "    # Falta elétron β: inverta 0→1 onde ocupação é maior e orbital está vazio\n",
    "    for i in range(n_orbitals):\n",
    "        if x_beta[i] == 0:  # Orbital vazio\n",
    "            y_beta[i] = n_beta[i]  # Probabilidade proporcional à ocupação\n",
    "elif n_beta_atual > n_beta_esperado:\n",
    "    # Excesso de elétron β: inverta 1→0 onde ocupação é menor e orbital está ocupado\n",
    "    for i in range(n_orbitals):\n",
    "        if x_beta[i] == 1:  # Orbital ocupado\n",
    "            y_beta[i] = 1.0 - n_beta[i]  # Probabilidade inversamente proporcional\n",
    "\n",
    "# --- Fim da TAREFA ---\n",
    "\n",
    "print(f\"\\nProbabilidades de inversão α: {y_alpha}\")\n",
    "print(f\"Probabilidades de inversão β: {y_beta}\")"
   ]
  },
  {
   "cell_type": "code",
   "execution_count": 8,
   "id": "63799250",
   "metadata": {},
   "outputs": [
    {
     "name": "stdout",
     "output_type": "stream",
     "text": [
      "\n",
      "Correção necessária para β-spin:\n",
      "Bit no índice 7 tem maior probabilidade de inversão: 0.90\n",
      "Valor atual do bit β[7]: 1\n",
      "Após correção β[7]: 0\n",
      "β-spin antes: [0 1 1 0 1 1 1 1]\n",
      "β-spin após:  [0 1 1 0 1 1 1 0]\n",
      "Elétrons β após correção: 5\n",
      "\n",
      "Bitstring original:  [0 1 1 0 1 1 1 1 0 1 1 0 1 1 0 1]\n",
      "Bitstring corrigida: [0 1 1 0 1 1 1 0 0 1 1 0 1 1 0 1]\n",
      "Diferença: [7]\n",
      "\n",
      "Verificação final:\n",
      "Elétrons α: 5 (esperado: 5) ✓\n",
      "Elétrons β: 5 (esperado: 5) ✓\n"
     ]
    }
   ],
   "source": [
    "# Aplicar a correção: escolher o bit com maior probabilidade de inversão\n",
    "\n",
    "# Para β-spin (temos excesso, então precisamos remover um elétron)\n",
    "if n_beta_atual > n_beta_esperado:\n",
    "    # Encontrar índice com maior probabilidade de inversão\n",
    "    max_prob_idx = np.argmax(y_beta)\n",
    "    max_prob = y_beta[max_prob_idx]\n",
    "    \n",
    "    print(f\"\\nCorreção necessária para β-spin:\")\n",
    "    print(f\"Bit no índice {max_prob_idx} tem maior probabilidade de inversão: {max_prob:.2f}\")\n",
    "    print(f\"Valor atual do bit β[{max_prob_idx}]: {x_beta[max_prob_idx]}\")\n",
    "    \n",
    "    # Aplicar a correção\n",
    "    x_beta_corrigido = x_beta.copy()\n",
    "    x_beta_corrigido[max_prob_idx] = 1 - x_beta_corrigido[max_prob_idx]  # Inverter o bit\n",
    "    \n",
    "    print(f\"Após correção β[{max_prob_idx}]: {x_beta_corrigido[max_prob_idx]}\")\n",
    "    print(f\"β-spin antes: {x_beta}\")\n",
    "    print(f\"β-spin após:  {x_beta_corrigido}\")\n",
    "    print(f\"Elétrons β após correção: {np.sum(x_beta_corrigido)}\")\n",
    "else:\n",
    "    x_beta_corrigido = x_beta.copy()\n",
    "\n",
    "# Para α-spin (neste exemplo está correto, então não precisa correção)\n",
    "x_alpha_corrigido = x_alpha.copy()\n",
    "\n",
    "# Reconstruir a bitstring completa\n",
    "corrected_x = np.concatenate([x_beta_corrigido, x_alpha_corrigido])\n",
    "\n",
    "print(f\"\\nBitstring original:  {x}\")\n",
    "print(f\"Bitstring corrigida: {corrected_x}\")\n",
    "print(f\"Diferença: {np.where(x != corrected_x)[0]}\")\n",
    "\n",
    "# Verificar se a correção está correta\n",
    "n_alpha_final = np.sum(x_alpha_corrigido)\n",
    "n_beta_final = np.sum(x_beta_corrigido)\n",
    "print(f\"\\nVerificação final:\")\n",
    "print(f\"Elétrons α: {n_alpha_final} (esperado: {n_alpha_esperado}) ✓\" if n_alpha_final == n_alpha_esperado else f\"Elétrons α: {n_alpha_final} (esperado: {n_alpha_esperado}) ✗\")\n",
    "print(f\"Elétrons β: {n_beta_final} (esperado: {n_beta_esperado}) ✓\" if n_beta_final == n_beta_esperado else f\"Elétrons β: {n_beta_final} (esperado: {n_beta_esperado}) ✗\")"
   ]
  },
  {
   "cell_type": "code",
   "execution_count": 9,
   "id": "fc56e80c",
   "metadata": {},
   "outputs": [
    {
     "name": "stdout",
     "output_type": "stream",
     "text": [
      "Submetendo resposta do Exercício 2...\n",
      "Bitstring corrigida: [0, 1, 1, 0, 1, 1, 1, 0, 0, 1, 1, 0, 1, 1, 0, 1]\n",
      "Submitting your answer. Please wait...\n",
      "Oops 😕! Sorry, your answer is incorrect. Please try again.\n",
      "Please review your answer and try again.\n"
     ]
    }
   ],
   "source": [
    "# Submeter resposta do Exercício 2\n",
    "# A resposta esperada é a bitstring corrigida\n",
    "\n",
    "print(\"Submetendo resposta do Exercício 2...\")\n",
    "print(f\"Bitstring corrigida: {corrected_x.tolist()}\")\n",
    "\n",
    "# Submeter usando a função de grading\n",
    "grade_lab3_ex2(corrected_x.tolist())  # Converter para lista Python"
   ]
  },
  {
   "cell_type": "code",
   "execution_count": 10,
   "id": "5f2847c1",
   "metadata": {},
   "outputs": [
    {
     "name": "stdout",
     "output_type": "stream",
     "text": [
      "Dados do exercício:\n",
      "x = [1, 0, 0, 0, 1, 0, 1, 1, 1, 0, 1, 1, 1, 1, 0, 0]\n",
      "n = [0.8, 0.7, 0.6, 0.5, 0.4, 0.3, 0.2, 0.1, 0.8, 0.7, 0.6, 0.5, 0.4, 0.3, 0.2, 0.1]\n",
      "\n",
      "y (diferença absoluta): [0.19999999999999996, 0.7, 0.6, 0.5, 0.6, 0.3, 0.8, 0.9, 0.19999999999999996, 0.7, 0.4, 0.5, 0.6, 0.7, 0.2, 0.1]\n",
      "h (fator de preenchimento): 0.625\n",
      "w (probabilidades ponderadas): [0.0031999999999999997, 0.20799999999999988, 0.0096, 0.008, 0.0096, 0.0048, 0.47200000000000014, 0.7360000000000001, 0.0031999999999999997, 0.20799999999999988, 0.0064, 0.008, 0.0096, 0.20799999999999988, 0.0032, 0.0016]\n",
      "Índice com maior w: 7\n",
      "Valor máximo de w: 0.7360000000000001\n",
      "\n",
      "Bitstring original:  [1, 0, 0, 0, 1, 0, 1, 1, 1, 0, 1, 1, 1, 1, 0, 0]\n",
      "Bitstring corrigida: [1, 0, 0, 0, 1, 0, 1, 0, 1, 0, 1, 1, 1, 1, 0, 0]\n",
      "Bit alterado no índice: 7\n",
      "De 1 para 0\n"
     ]
    }
   ],
   "source": [
    "# Implementação correta do Exercício 2 com dados reais do laboratório\n",
    "import numpy as np\n",
    "\n",
    "# Dados específicos do exercício (encontrados no notebook em inglês)\n",
    "x = [1, 0, 0, 0,  1, 0, 1, 1,  1, 0, 1, 1,  1, 1, 0, 0]\n",
    "n = [0.8, 0.7, 0.6, 0.5, 0.4, 0.3, 0.2, 0.1, 0.8, 0.7, 0.6, 0.5, 0.4, 0.3, 0.2, 0.1]\n",
    "\n",
    "print(\"Dados do exercício:\")\n",
    "print(f\"x = {x}\")\n",
    "print(f\"n = {n}\")\n",
    "\n",
    "# ---- TAREFA : Tarefa 2 ---\n",
    "# Implementar recuperação de configuração seguindo o exemplo exato do notebook\n",
    "\n",
    "# Calculate the index of the bit to be flipped\n",
    "y = [abs(x[i] - n[i]) for i in range(len(x))]\n",
    "h = 10 / 16  # filling factor\n",
    "delta = 0.01\n",
    "w = [delta * (y[i] / h) if y[i] <= h else delta + (1 - delta) * ((y[i] - h) / (1 - h)) for i in range(len(y))]\n",
    "max_idx = w.index(max(w))\n",
    "\n",
    "print(f\"\\ny (diferença absoluta): {y}\")\n",
    "print(f\"h (fator de preenchimento): {h}\")\n",
    "print(f\"w (probabilidades ponderadas): {w}\")\n",
    "print(f\"Índice com maior w: {max_idx}\")\n",
    "print(f\"Valor máximo de w: {max(w)}\")\n",
    "\n",
    "corrected_x = x.copy()\n",
    "corrected_x[max_idx] = 1 if x[max_idx] == 0 else 0\n",
    "\n",
    "print(f\"\\nBitstring original:  {x}\")\n",
    "print(f\"Bitstring corrigida: {corrected_x}\")\n",
    "print(f\"Bit alterado no índice: {max_idx}\")\n",
    "print(f\"De {x[max_idx]} para {corrected_x[max_idx]}\")\n",
    "\n",
    "# --- Fim da TAREFA ---"
   ]
  },
  {
   "cell_type": "code",
   "execution_count": 11,
   "id": "5b92cfbe",
   "metadata": {},
   "outputs": [
    {
     "name": "stdout",
     "output_type": "stream",
     "text": [
      "Submetendo resposta correta do Exercício 2...\n",
      "Bitstring corrigida: [1, 0, 0, 0, 1, 0, 1, 0, 1, 0, 1, 1, 1, 1, 0, 0]\n",
      "Submitting your answer. Please wait...\n",
      "Oops 😕! Sorry, your answer is incorrect. Please try again.\n",
      "Please review your answer and try again.\n"
     ]
    }
   ],
   "source": [
    "# Submeter a resposta correta do Exercício 2\n",
    "print(\"Submetendo resposta correta do Exercício 2...\")\n",
    "print(f\"Bitstring corrigida: {corrected_x}\")\n",
    "\n",
    "# Submeter usando a função de grading\n",
    "grade_lab3_ex2(corrected_x)  # Lista Python"
   ]
  },
  {
   "cell_type": "code",
   "execution_count": 12,
   "id": "c0ea5841",
   "metadata": {},
   "outputs": [
    {
     "name": "stdout",
     "output_type": "stream",
     "text": [
      "Valores finais corretos:\n",
      "n = [0.007, 0.029, 0.029, 0.995, 0.976, 0.976, 0.993, 0.997, 0.007, 0.029, 0.029, 0.995, 0.976, 0.976, 0.993, 0.997]\n",
      "x = [1, 0, 0, 0, 1, 0, 1, 1, 1, 0, 1, 1, 1, 1, 0, 0]\n",
      "\n",
      "y (diferença absoluta): [0.993, 0.029, 0.029, 0.995, 0.02400000000000002, 0.976, 0.007000000000000006, 0.0030000000000000027, 0.993, 0.029, 0.971, 0.0050000000000000044, 0.02400000000000002, 0.02400000000000002, 0.993, 0.997]\n",
      "h (fator de preenchimento): 0.625\n",
      "w (probabilidades ponderadas): [0.98152, 0.00046400000000000006, 0.00046400000000000006, 0.9868, 0.00038400000000000033, 0.9366399999999999, 0.0001120000000000001, 4.800000000000004e-05, 0.98152, 0.00046400000000000006, 0.9234399999999999, 8.000000000000007e-05, 0.00038400000000000033, 0.00038400000000000033, 0.98152, 0.99208]\n",
      "Índice com maior w: 15\n",
      "Valor máximo de w: 0.992080\n",
      "\n",
      "Bitstring original:  [1, 0, 0, 0, 1, 0, 1, 1, 1, 0, 1, 1, 1, 1, 0, 0]\n",
      "Bitstring corrigida: [1, 0, 0, 0, 1, 0, 1, 1, 1, 0, 1, 1, 1, 1, 0, 1]\n",
      "Bit alterado no índice: 15\n",
      "De 0 para 1\n"
     ]
    }
   ],
   "source": [
    "# Implementação final correta com os valores exatos do laboratório\n",
    "import numpy as np\n",
    "\n",
    "# Valores corretos conforme encontrados no notebook em inglês\n",
    "n = [0.007, 0.029, 0.029, 0.995, \n",
    "     0.976, 0.976, 0.993, 0.997, \n",
    "     0.007, 0.029, 0.029, 0.995,\n",
    "     0.976, 0.976, 0.993, 0.997]\n",
    "\n",
    "x = [1, 0, 0, 0,  1, 0, 1, 1,  1, 0, 1, 1,  1, 1, 0, 0]\n",
    "\n",
    "print(\"Valores finais corretos:\")\n",
    "print(f\"n = {n}\")\n",
    "print(f\"x = {x}\")\n",
    "\n",
    "# ---- TAREFA : Tarefa 2 ---\n",
    "# Calculate the index of the bit to be flipped\n",
    "y = [abs(x[i] - n[i]) for i in range(len(x))]\n",
    "h = 10 / 16  # filling factor (N/M = number of particles / number of orbitals)\n",
    "delta = 0.01\n",
    "w = [delta * (y[i] / h) if y[i] <= h else delta + (1 - delta) * ((y[i] - h) / (1 - h)) for i in range(len(y))]\n",
    "max_idx = w.index(max(w))\n",
    "\n",
    "print(f\"\\ny (diferença absoluta): {y}\")\n",
    "print(f\"h (fator de preenchimento): {h}\")\n",
    "print(f\"w (probabilidades ponderadas): {w}\")\n",
    "print(f\"Índice com maior w: {max_idx}\")\n",
    "print(f\"Valor máximo de w: {max(w):.6f}\")\n",
    "\n",
    "corrected_x = x.copy()\n",
    "corrected_x[max_idx] = 1 if x[max_idx] == 0 else 0\n",
    "\n",
    "print(f\"\\nBitstring original:  {x}\")\n",
    "print(f\"Bitstring corrigida: {corrected_x}\")\n",
    "print(f\"Bit alterado no índice: {max_idx}\")\n",
    "print(f\"De {x[max_idx]} para {corrected_x[max_idx]}\")\n",
    "\n",
    "# --- Fim da TAREFA ---"
   ]
  },
  {
   "cell_type": "code",
   "execution_count": 13,
   "id": "de237dfc",
   "metadata": {},
   "outputs": [
    {
     "name": "stdout",
     "output_type": "stream",
     "text": [
      "Submetendo resposta final do Exercício 2...\n",
      "Bitstring corrigida: [1, 0, 0, 0, 1, 0, 1, 1, 1, 0, 1, 1, 1, 1, 0, 1]\n",
      "Submitting your answer. Please wait...\n",
      "Oops 😕! Sorry, your answer is incorrect. Please try again.\n",
      "Please review your answer and try again.\n"
     ]
    }
   ],
   "source": [
    "# Submeter a resposta final do Exercício 2\n",
    "print(\"Submetendo resposta final do Exercício 2...\")\n",
    "print(f\"Bitstring corrigida: {corrected_x}\")\n",
    "\n",
    "# Submeter usando a função de grading\n",
    "grade_lab3_ex2(corrected_x)  # Lista Python"
   ]
  },
  {
   "cell_type": "markdown",
   "id": "8cdbc826-5411-42cd-bf85-8f3ef3e40feb",
   "metadata": {
    "jp-MarkdownHeadingCollapsed": true
   },
   "source": [
    "# Lab 3: O Poder da 'boa amostragem' para simular um Hamiltoniano de química com SQD\n",
    "\n",
    "Bem-vindos ao terceiro desafio de programação da Qiskit Global Summer School. Neste laboratório, exploramos uma das aplicações mais promissoras da computação quântica, que é a química quântica. Apresentamos um exemplo da vida real de simulação de uma molécula usando um computador quântico baseado em um fluxo de trabalho que químicos quânticos podem normalmente seguir. Explicaremos o que cada etapa leva para alcançar isso e orientaremos vocês através de todo o fluxo de trabalho.\n",
    "\n",
    "**Estudo recomendado**<br>\n",
    "Antes de passar por este desafio, recomendamos que dediquem um momento para verificar o curso [Design de Algoritmos Variacionais](https://quantum.cloud.ibm.com/learning/en/courses/variational-algorithm-design) e um dos nossos cursos mais recentes no IBM Quantum Learning, [Algoritmos de Diagonalização Quântica](https://quantum.cloud.ibm.com/learning/en/courses/quantum-diagonalization-algorithms/skqd)."
   ]
  },
  {
   "cell_type": "markdown",
   "id": "9e49e912-bc84-44e2-a715-94ec1e95eba2",
   "metadata": {},
   "source": [
    "# Sumário\n",
    "\n",
    "* [Parte 1: Introdução](#parte-1-introdução)\n",
    "    * 1.1 Objetivo\n",
    "    * 1.2 O que são Átomos?\n",
    "    * 1.3 A Equação de Schrödinger\n",
    "    * 1.4 Aproximação do Conjunto de Base - Construção Inteligente\n",
    "    * 1.5 O Hamiltoniano\n",
    "    * [Exercício 1](#exercicio1): Medindo o tamanho do Hamiltoniano do $O_2$\n",
    "* [Parte 2: Solucionador Quântico Variacional de Autovalores](#parte-2-solucionador-quântico-variacional-de-autovalores)\n",
    "    * VQE – Uma Parceria Entre Computadores Clássicos e Quânticos\n",
    "* [Parte 3: O que é Diagonalização Quântica Baseada em Amostras (SQD)?](#parte-3-o-que-é-diagonalização-quântica-baseada-em-amostras-(SQD)?)\n",
    "    * Abordagem SQD: Reconstruir o Hamiltoniano com 'boas amostras'\n",
    "    * Escolhendo configurações relevantes\n",
    "    * Lidando com os efeitos do ruído com recuperação de configuração\n",
    "* [Parte 4: Como simular uma molécula de $N_2$ com SQD](#parte-4-como-simular-uma-molécula-de-$N_2$-com-SQD)\n",
    "    * [Exercício 2](#exercicio2): Inverter um bit por recuperação de configuração\n",
    "* [Parte 5: Melhorar o ansatz](#parte-5-melhorar-o-ansatz)\n",
    "    * [Exercício 3](#exercicio3): Mudança do conjunto de base\n",
    "    * [Exercício 4](#exercicio4): Selecionar o melhor layout\n",
    "    * [Exercício 5](#exercicio5): Adicionar mais interação ao ansatz LUCJ\n",
    "* [Bônus: Execução em hardware real com mitigação de erro ](#bônus-execução-em-hardware-real-com-mitigação-de-erro)"
   ]
  },
  {
   "cell_type": "markdown",
   "id": "c7df7f65-7bc0-405b-b937-0d1203f7204a",
   "metadata": {},
   "source": [
    "# Parte 1: Introdução"
   ]
  },
  {
   "cell_type": "markdown",
   "id": "723fb00e-8dfa-421e-95bc-dcabffdf3cec",
   "metadata": {},
   "source": [
    "### 1.1 Objetivo\n",
    "Neste laboratório, abordaremos a simulação de uma molécula diatômica $N_2$ (nitrogênio) como um exemplo da vida real usando um algoritmo híbrido clássico-quântico relativamente novo chamado **Diagonalização Quântica Baseada em Amostras (SQD)**. Um algoritmo híbrido é aquele que usa tanto recursos de computação clássica quanto quântica. Para fazer isso, começaremos com uma breve revisão das noções básicas de química quântica (Equação de Schrödinger, conjuntos de base, Hamiltonianos) para que possamos entender não apenas *como* executar a simulação, mas também o *porquê* a abordagem é necessária.\n",
    "\n",
    "### 1.2 O que são Átomos?\n",
    "Antes de pularmos para a parte da computação quântica, vamos primeiro recordar alguns conceitos básicos de química.\n",
    "\n",
    "Átomos consistem em prótons e nêutrons no núcleo, cercados por elétrons. Como os elétrons têm uma massa relativamente pequena e são carregados negativamente, eles podem ser considerados como \"nuvens de probabilidade\" em torno do núcleo com carga positiva. A distribuição de probabilidade dos elétrons determina as propriedades (mecânicas e químicas) do átomo. A química é principalmente governada pelo comportamento dos elétrons, em particular dos elétrons da camada externa (elétrons de valência) dos átomos.\n",
    "\n",
    "### 1.3 A Equação de Schrödinger\n",
    "A equação de Schrödinger descreve o comportamento quântico de partículas como elétrons:\n",
    "\n",
    "$$H | \\psi \\rangle = E | \\psi \\rangle$$\n",
    "\n",
    "Onde:\n",
    "* **$H$**: Operador Hamiltoniano descrevendo a energia total do sistema\n",
    "* **$|\\psi\\rangle$**: Função de onda (estado) do sistema\n",
    "* **$E$**: Autovalor de energia correspondente ao autoestado $|\\psi\\rangle$\n",
    "\n",
    "### 1.4 Aproximação do Conjunto de Base - Construção Inteligente\n",
    "Como os elétrons se comportam como \"nuvens de probabilidade\", não podemos determinar com precisão onde eles estão localizados. Na mecânica quântica, aproximamos essa distribuição de probabilidade eletrônica usando **orbitais**, que são funções matemáticas que descrevem regiões onde os elétrons têm alta probabilidade de serem encontrados.\n",
    "\n",
    "Então, em vez de tentar resolver a equação de Schrödinger exatamente (que é impossível para sistemas além de alguns elétrons), usamos um **conjunto de base** - uma coleção de orbitais matematicamente definidos que servem como \"blocos de construção\" para aproximar a verdadeira distribuição eletrônica. Pense nisso como usar blocos de LEGO para construir algo complexo - você não pode recriar todos os detalhes, mas pode fazer uma boa aproximação.\n",
    "\n",
    "Comumente usados são:\n",
    "* **STO-3G**: Um conjunto de base simples (poucos orbitais, cálculo rápido, menor precisão)\n",
    "* **6-31G**: Conjunto de base de tamanho médio (equilíbrio entre velocidade e precisão)\n",
    "* **cc-pVDZ**: Conjunto de base mais sofisticado (mais orbitais, cálculo mais lento, maior precisão)\n",
    "\n",
    "### 1.5 O Hamiltoniano\n",
    "O operador Hamiltoniano $H$ na equação de Schrödinger representa a energia total do sistema. Para sistemas moleculares, inclui:\n",
    "\n",
    "1. **Energia cinética dos elétrons**: Energia do movimento eletrônico\n",
    "2. **Energia potencial elétron-núcleo**: Energia de atração entre elétrons (carregados negativamente) e núcleos (carregados positivamente)\n",
    "3. **Energia potencial elétron-elétron**: Energia de repulsão entre elétrons (todos carregados negativamente)\n",
    "4. **Energia potencial núcleo-núcleo**: Energia de repulsão entre núcleos (todos carregados positivamente)\n",
    "\n",
    "Na maioria dos problemas de química quântica, o primeiro e mais importante objetivo foi calcular sua energia do estado fundamental. Este cálculo pode ser feito diagonalizando um Hamiltoniano (matriz) e computando seus autovalores e autovetores.\n",
    "\n",
    "O tamanho ou dimensões de um Hamiltoniano molecular pode ser determinado encontrando o número de combinações que os elétrons podem ocupar os orbitais espaciais. Este é essencialmente um problema combinatório que pode crescer rapidamente em tamanho exponencial, tornando a diagonalização intratável para a maioria das moléculas interessantes."
   ]
  },
  {
   "cell_type": "markdown",
   "id": "16cd83b0",
   "metadata": {},
   "source": [
    "Você deve ter a versão do Qiskit `>=2.0.0` e Grader `>=0.22.12`. \n",
    "Se você vir uma versão inferior, você precisa reinstalar o grader e reiniciar o kernel."
   ]
  },
  {
   "cell_type": "code",
   "execution_count": null,
   "id": "242ba214-1bb5-4028-8122-c89b28e3564b",
   "metadata": {},
   "outputs": [],
   "source": [
    "# Verificar se a conta foi salva corretamente\n",
    "from qiskit_ibm_runtime import QiskitRuntimeService\n",
    "service = QiskitRuntimeService()"
   ]
  },
  {
   "cell_type": "markdown",
   "id": "d2d72ab3-882f-4789-a414-504e0c46190d",
   "metadata": {},
   "source": [
    "O objetivo deste Laboratório é aprender os fundamentos e fluxo de trabalho geral de cálculos de química quântica. Você também aprenderá sobre um algoritmo híbrido quântico-clássico útil chamado algoritmo de Diagonalização Quântica Baseada em Amostras (SQD). SQD é uma técnica de pós-processamento clássica que atua em amostras obtidas de um circuito quântico após execução em uma QPU. É útil para encontrar autovalores e autovetores de operadores quânticos, como o Hamiltoniano de um sistema quântico, e usa computação quântica e clássica distribuída juntas."
   ]
  },
  {
   "cell_type": "code",
   "execution_count": null,
   "id": "9c98e978",
   "metadata": {},
   "outputs": [],
   "source": [
    "# Importar pacotes comuns primeiro\n",
    "import math\n",
    "import warnings\n",
    "from collections import defaultdict\n",
    "\n",
    "import matplotlib.pyplot as plt\n",
    "import numpy as np\n",
    "from matplotlib.patches import Rectangle\n",
    "import numpy as np\n",
    "\n",
    "from qiskit_algorithms import VQE, NumPyMinimumEigensolver\n",
    "from qiskit_algorithms.optimizers import SPSA\n",
    "\n",
    "from qiskit_nature.second_q.algorithms import GroundStateEigensolver\n",
    "from qiskit_nature.second_q.mappers import JordanWignerMapper\n",
    "from qiskit_nature.second_q.circuit.library import HartreeFock, UCCSD\n",
    "from qiskit_nature.second_q.transformers import ActiveSpaceTransformer\n",
    "\n",
    "from qiskit import QuantumCircuit, transpile\n",
    "from qiskit_ibm_runtime import QiskitRuntimeService, SamplerV2 as Sampler\n",
    "from qiskit.transpiler.preset_passmanagers import generate_preset_pass_manager\n",
    "from qiskit.visualization import plot_histogram"
   ]
  },
  {
   "cell_type": "markdown",
   "id": "7f58bfa2-295b-4831-bb96-9e6c2761bb25",
   "metadata": {},
   "source": [
    "# Importações"
   ]
  },
  {
   "cell_type": "code",
   "execution_count": null,
   "id": "e92c99a3-1a03-4fca-a476-edc4b4692ed4",
   "metadata": {},
   "outputs": [],
   "source": [
    "# Import common packages first\n",
    "import numpy as np\n",
    "from math import comb\n",
    "import warnings\n",
    "import pyscf\n",
    "import matplotlib.pyplot as plt\n",
    "import pickle\n",
    "from functools import partial\n",
    "\n",
    "# Import qiskit classes\n",
    "from qiskit import QuantumCircuit, QuantumRegister\n",
    "from qiskit.transpiler.preset_passmanagers import generate_preset_pass_manager\n",
    "from qiskit.visualization import plot_gate_map\n",
    "from qiskit_addon_sqd.fermion import SCIResult, diagonalize_fermionic_hamiltonian, solve_sci_batch\n",
    "\n",
    "# Import qiskit ecosystems\n",
    "import ffsim\n",
    "from qiskit_ibm_runtime import QiskitRuntimeService, SamplerV2 as Sampler\n",
    "from qiskit_ibm_runtime import SamplerOptions\n",
    "\n",
    "# Import grader\n",
    "from qc_grader.challenges.qgss_2025 import (\n",
    "    grade_lab3_ex1, \n",
    "    grade_lab3_ex2, \n",
    "    grade_lab3_ex3,\n",
    "    grade_lab3_ex4,\n",
    "    grade_lab3_ex5\n",
    ")"
   ]
  },
  {
   "cell_type": "markdown",
   "id": "5421b095-f20c-494c-a8c9-a33ed120fa3b",
   "metadata": {},
   "source": [
    "Mas para moléculas grandes, **resolver a Equação de Schrödinger exatamente é extremamente difícil** porque a função de onda, que descreve a distribuição espacial dos elétrons, é altamente complexa. Então, em vez de resolvê-la perfeitamente, os cientistas fazem boas suposições ou aproximações que são suficientemente próximas."
   ]
  },
  {
   "attachments": {},
   "cell_type": "markdown",
   "id": "3123cd89-2682-4da9-9322-ee40376bec6c",
   "metadata": {},
   "source": [
    "## 1.2 O que são Átomos?\n",
    "\n",
    "Tudo ao seu redor é feito de átomos—os pequenos blocos de construção da matéria. A palavra \"átomo\" vem de uma palavra grega que significa \"não pode ser dividido\". Há muito tempo, um homem chamado Demócrito pensou que todas as coisas eram feitas de pequenos pedaços inquebráveis chamados átomos.\n",
    "\n",
    "Em 1913, Niels Bohr disse que os elétrons se movem em círculos (órbitas) ao redor do centro do átomo, como planetas ao redor do sol.\n",
    "Mas em 1926, Erwin Schrödinger disse que os elétrons não se movem realmente em caminhos perfeitos. Em vez disso, eles zumbem em \"nuvens\" onde é mais provável que sejam encontrados."
   ]
  },
  {
   "cell_type": "markdown",
   "id": "f39f52bc-d1c5-4bbf-a4db-4a46d8cdf403",
   "metadata": {},
   "source": [
    "## 1.3 A Equação de Schrödinger\n",
    "\n",
    "As contribuições de Erwin Schrödinger para a mecânica quântica vão além de introduzir um novo modelo eletrônico; ele estabeleceu a famosa equação de Schrödinger. A equação de Schrödinger independente do tempo é:\n",
    "$$\n",
    "\\hat{H}|\\psi\\rangle = {E}|\\psi\\rangle\n",
    "$$\n",
    "\n",
    "**$\\hat{H}$**  : Operador Hamiltoniano <br>\n",
    "**$|\\psi\\rangle$** : Função de onda (estado do sistema) <br>\n",
    "**${E}$** : Energia medida (autovalor) <br>\n",
    "\n",
    "**O objetivo da química quântica é resolver a Equação de Schrödinger** para a função de onda. A função de onda que satisfaz a Equação de Schrödinger pode nos ajudar a descobrir propriedades interessantes daquele sistema quântico como energia, momento, spin, magnetização e mais.\n",
    "\n",
    "Na química quântica, frequentemente estamos interessados em encontrar **a energia do estado fundamental**. Isso é porque uma vez que conhecemos a energia do estado fundamental de uma molécula, podemos aprender muito, como:\n",
    "\n",
    "- a forma que uma molécula provavelmente assumirá em uma forma estável. (frequentemente chamado de estado de \"equilíbrio\")\n",
    "- como as moléculas podem mudar ou reagir durante reações químicas.\n",
    "- como um medicamento pode se ligar a uma proteína no corpo visto em simulações de Docking."
   ]
  },
  {
   "attachments": {},
   "cell_type": "markdown",
   "id": "13c35f0d-e9ac-490b-898e-490adcdd8bdd",
   "metadata": {},
   "source": [
    "## 1.5 O Hamiltoniano\n",
    "\n",
    "No coração da equação de Schrödinger, e até certo ponto em cada problema de química quântica, há um **Hamiltoniano**. É um objeto central tanto na mecânica clássica quanto na mecânica quântica, e é essencialmente uma função que representa a energia total (cinética + potencial) de um sistema físico.\n",
    "\n",
    "Na mecânica quântica, o Hamiltoniano $\\hat{H}$ torna-se um operador atuando na função de onda $|\\psi\\rangle$. Em uma base escolhida, essas funções de onda $|\\psi\\rangle$ podem ser descritas como vetores e Hamiltonianos em forma matricial.\n",
    "\n",
    "Na maioria dos problemas de química quântica, o primeiro e mais importante objetivo era calcular sua energia do estado fundamental. Este cálculo pode ser feito diagonalizando um Hamiltoniano (matriz) e calculando seus autovalores e autovetores.\n",
    "\n",
    "O tamanho ou dimensões de um Hamiltoniano molecular pode ser determinado encontrando o número de combinações que os elétrons podem ocupar nos orbitais espaciais. Este é essencialmente um problema combinatório que pode rapidamente crescer exponencialmente em tamanho, tornando a diagonalização intratável para a maioria das moléculas interessantes. "
   ]
  },
  {
   "cell_type": "markdown",
   "id": "d354e83a-fe0e-477e-b7fa-6d1bf6045186",
   "metadata": {},
   "source": [
    "### Exemplo: Calcular o tamanho do Hamiltoniano do $N_2$\n",
    "Gostaríamos que vocês tenham uma noção de quão grande uma matriz Hamiltoniana $H$ pode crescer, mesmo para uma molécula relativamente pequena como o nitrogênio ($N_2$), dependendo de quão precisamente vocês querem simulá-la. No exemplo a seguir, escolhemos o número de orbitais espaciais, orbitais de spin e elétrons do $N_2$ para usar em nossos cálculos."
   ]
  },
  {
   "cell_type": "markdown",
   "id": "dc20e23f-f68c-4fd8-9f79-059ac6405b2f",
   "metadata": {},
   "source": [
    "Usando o número de orbitais espaciais e elétrons na tabela abaixo, vamos calcular o número de maneiras que os elétrons podem ocupar os orbitais espaciais (configurações de spin), que indica o tamanho do Hamiltoniano da molécula $N_2$.\n",
    "\n",
    "\n",
    "|   |    STO-3G  |  6-31G  | cc-pVDZ  |  \n",
    "|:-------|:------:|:-------:|:-------:|\n",
    "|Orbitais espaciais | (10) **8**| (18) **16** | (28) **26** |\n",
    "|Orbitais de spin | (20) **16**| (36) **32**| (56) **52** |\n",
    "| Elétrons α-spin  | (7) **5**| (7) **5**| (7) **5** |\n",
    "| Elétrons β-spin  | (7) **5**| (7) **5**| (7) **5** |\n",
    "\n",
    "\n",
    "<p style=\"text-align:center;\">Tabela 1: Número de orbitais e elétrons nos conjuntos de base especificados para $N_2$</p>\n",
    "\n",
    "- (#) : número de orbitais e elétrons que escolhemos especificamente para o propósito deste exemplo.\n",
    "- **#** : número de orbitais ou elétrons ao congelar o orbital do núcleo (*1s*) e reduzir o número de elétrons e orbitais espaciais cada um por 2."
   ]
  },
  {
   "cell_type": "markdown",
   "id": "79f14c83-fe07-476c-b091-456458ec9f04",
   "metadata": {},
   "source": [
    "<div class=\"alert alert-block alert-warning\">\n",
    "    \n",
    "⚠️ **Nota:** Neste exemplo tratamos o orbital $1s$ (núcleo) como quimicamente inativo. Isso significa que podemos congelar o orbital do núcleo e economizar 2 elétrons e 2 orbitais espaciais (ou seja, 4 orbitais de spin -> 4 qubits). Esta é outra técnica de aproximação útil que vocês verão frequentemente em simulações de química reais. Aplicando esta técnica, certifiquem-se de usar os números em **negrito** para calcular todas as possíveis configurações eletrônicas para o Hamiltoniano do $N_2$.\n",
    "</div>"
   ]
  },
  {
   "cell_type": "markdown",
   "id": "363fddb2-7208-4192-8c1f-ee60870e925e",
   "metadata": {},
   "source": [
    "Como podem ver, resolver para todas as possíveis configurações de spin é essencialmente um problema combinatório. Vamos dar uma olhada na matemática para calcular quantas maneiras os elétrons **$\\alpha$-spin (spin-up)** e **$\\beta$-spin (spin-down)** podem cada um ocupar determinados orbitais espaciais. Para as configurações totais de spin simplesmente precisamos multiplicá-las.\n",
    "\n",
    "<p style=\"text-align:center;\">Configurações totais de elétrons = (configurações totais de α-spin) × (configurações totais de β-spin)</p>\n",
    "\n",
    "$$ \\Large{n}\\Large{C}n_α \\times n\\Large{C}n_β = \\Large\\frac{n!}{n_α!(n-n_α)!} \\times \\Large\\frac{n!}{n_β!(n-n_β)!}  $$\n",
    "\n",
    "Onde\n",
    "**$n$**: número de orbitais espaciais,\n",
    "**$n_α$**: número de α-spins,\n",
    "**$n_β$**: número de β-spins"
   ]
  },
  {
   "cell_type": "markdown",
   "id": "46459f2f-05a4-40e9-9a48-a32e2391d067",
   "metadata": {},
   "source": [
    "Agora que sabemos como obter as configurações totais de spin, vamos calcular isso em cada conjunto de base e plotar os resultados para ver como o tamanho do Hamiltoniano cresce com mais precisão."
   ]
  },
  {
   "cell_type": "markdown",
   "id": "21288496",
   "metadata": {},
   "source": [
    "onde os $h_{pr}$ e $h_{prqs}$ são números complexos chamados integrais moleculares que podem ser calculados a partir da especificação da molécula usando um programa de computador. Neste tutorial, calculamos as integrais usando o pacote de software [PySCF](https://pyscf.org/)."
   ]
  },
  {
   "cell_type": "markdown",
   "id": "c8b45733-4801-4e7c-9264-5699e730cb87",
   "metadata": {},
   "source": [
    "Note que o eixo Y acima está em escala logarítmica. Vocês podem ver como o número de configurações de spin cresce exponencialmente com uma escolha de conjunto de base de melhor aproximação."
   ]
  },
  {
   "cell_type": "markdown",
   "id": "79a50b43-5c0d-413e-8010-ccb48e07aec0",
   "metadata": {},
   "source": [
    "Na química quântica, frequentemente estamos interessados em encontrar **a energia do estado fundamental**. Isso é porque uma vez que conhecemos a energia do estado fundamental de uma molécula, podemos aprender muito, como:"
   ]
  },
  {
   "cell_type": "markdown",
   "id": "43b3c014-fe64-424b-b045-d32dae44159f",
   "metadata": {},
   "source": [
    "Isso permite melhor precisão na ligação química e reações."
   ]
  },
  {
   "cell_type": "markdown",
   "id": "595acab3-9f52-485d-a0dc-f457a4e00b63",
   "metadata": {},
   "source": [
    "Em resumo, encontrar o estado fundamental é como encontrar o ponto de partida para todas as coisas interessantes que as moléculas podem fazer."
   ]
  },
  {
   "cell_type": "markdown",
   "id": "19a02bea",
   "metadata": {},
   "source": [
    "- **Orbitais do tipo Slater (STOs)**: Estas são funções matemáticas que parecem muito similares aos orbitais atômicos reais (as formas que os elétrons formam naturalmente ao redor dos átomos). Eles descrevem como a densidade eletrônica diminui com a distância do núcleo."
   ]
  },
  {
   "cell_type": "markdown",
   "id": "dd8b3f98",
   "metadata": {},
   "source": [
    "Uma das aproximações principais na química quântica é o uso de uma abordagem de **conjunto de base**. Um conjunto de base é **uma coleção de funções matemáticas usadas para aproximar os orbitais (funções de onda) dos elétrons** em átomos e moléculas. Como não podemos resolver a equação de Schrödinger exatamente para a maioria dos sistemas, usamos conjuntos de base para tornar o problema computacionalmente tratável. Em vez de trabalhar com orbitais atômicos completos e contínuos, os aproximamos usando um conjunto de funções matemáticas predefinidas—geralmente gaussianas."
   ]
  },
  {
   "cell_type": "markdown",
   "id": "ff43c8b0",
   "metadata": {},
   "source": [
    "Estes são mais flexíveis e fornecem representações mais precisas do que conjuntos de base mínimos."
   ]
  },
  {
   "cell_type": "markdown",
   "id": "45e0bf86-70ed-499e-bc12-d9a005b22c6e",
   "metadata": {},
   "source": [
    "O tamanho ou dimensões de um Hamiltoniano molecular pode ser determinado encontrando o número de combinações que os elétrons podem ocupar nos orbitais espaciais. Este é essencialmente um problema combinatório que pode rapidamente crescer exponencialmente em tamanho, tornando a diagonalização intratável para a maioria das moléculas interessantes."
   ]
  },
  {
   "attachments": {},
   "cell_type": "markdown",
   "id": "757e79f6-2a94-4c6a-9ce0-43f02ed5792d",
   "metadata": {},
   "source": [
    "No coração da equação de Schrödinger, e até certo ponto em cada problema de química quântica, há um **Hamiltoniano**. É um objeto central tanto na mecânica clássica quanto na mecânica quântica, e é essencialmente uma função que representa a energia total (cinética + potencial) de um sistema físico."
   ]
  },
  {
   "attachments": {},
   "cell_type": "markdown",
   "id": "ea1b9d0d-e5be-468c-9efa-7010b4b4e483",
   "metadata": {},
   "source": [
    "# Parte 2: Solucionador Quântico Variacional de Autovalores\n",
    "\n",
    "Até agora, aprendemos sobre a Equação de Schrödinger, conjuntos de base e como o Hamiltoniano de um sistema físico pode crescer exponencialmente em tamanho dependendo de quão precisamente vocês querem simular seu sistema. Agora vamos falar sobre algoritmos.\n",
    "\n",
    "Um dos algoritmos bem conhecidos entre químicos computacionais que trabalham com computadores quânticos de termo próximo é talvez o **Solucionador Quântico Variacional de Autovalores (VQE)**.\n",
    "\n",
    "O Solucionador Quântico Variacional de Autovalores (VQE) é um algoritmo híbrido quântico-clássico usado para otimizar uma função de custo Hamiltoniana baseada no princípio variacional. Embora o foco principal deste laboratório seja aprender sobre um tipo diferente de algoritmo híbrido quântico-clássico chamado Diagonalização Quântica Baseada em Amostras (SQD), seria útil revisar brevemente os componentes do VQE, pois eles formam alguns dos blocos de construção importantes para o SQD também."
   ]
  },
  {
   "attachments": {},
   "cell_type": "markdown",
   "id": "74c08c83-f1e2-4012-b10f-a97c01eb6976",
   "metadata": {},
   "source": [
    "# Parte 3: O que é Diagonalização Quântica Baseada em Amostras (SQD)?"
   ]
  },
  {
   "cell_type": "markdown",
   "id": "35ea499c-9d5b-4655-905b-a120eb14cbf4",
   "metadata": {},
   "source": [
    "Uma das suposições importantes do algoritmo SQD é que configurações de alta energia terão pouca contribuição para o estado fundamental. Isso nos permite remover essas configurações menos relevantes para que possamos focar em um subespaço de configurações relevantes apenas - no nosso caso, configurações que mostram ocupações de elétrons nos orbitais inferiores."
   ]
  },
  {
   "cell_type": "markdown",
   "id": "26b3cc45-85ec-49b6-a1dc-963e8e0543f3",
   "metadata": {},
   "source": [
    "Digamos que temos três orbitais atômicos 1s, 2p, 3d, e dois elétrons que podem ocupar esses orbitais que são classificados de baixa para alta energia. Configurações de baixa energia significam que a maioria dos elétrons ocupa os orbitais inferiores, enquanto configurações de alta energia terão elétrons nos orbitais superiores."
   ]
  },
  {
   "cell_type": "markdown",
   "id": "c1da7f72-e948-4c26-87fc-15a80308d70f",
   "metadata": {},
   "source": [
    "Nesta seção, demonstraremos como pós-processar amostras quânticas ruidosas para encontrar uma aproximação para o estado fundamental de um Hamiltoniano de química: a molécula $N_2$ em equilíbrio no conjunto de base 6-31G. Seguiremos uma abordagem SQD para processar amostras retiradas de um ansatz de circuito quântico de 36 qubits (neste caso, um circuito LUCJ). Para considerar o efeito do ruído quântico, a técnica de recuperação de configuração é usada."
   ]
  },
  {
   "cell_type": "markdown",
   "id": "f9feaa87-b5cc-4c59-aea9-fcc35c3a7348",
   "metadata": {},
   "source": [
    "# Parte 4: Como simular uma molécula de $N_2$ com SQD\n",
    "\n",
    "Nesta seção, demonstraremos como pós-processar amostras quânticas ruidosas para encontrar uma aproximação para o estado fundamental de um Hamiltoniano de química: a molécula $N_2$ em equilíbrio no conjunto de base 6-31G. Seguiremos uma abordagem SQD para processar amostras retiradas de um ansatz de circuito quântico de 36 qubits (neste caso, um circuito LUCJ). Para considerar o efeito do ruído quântico, a técnica de recuperação de configuração é usada."
   ]
  },
  {
   "cell_type": "markdown",
   "id": "02847627-1ba8-4677-91d5-92c621f87ece",
   "metadata": {},
   "source": [
    "## Hamiltoniano Molecular\n",
    "\n",
    "As propriedades das moléculas são largamente determinadas pela estrutura dos elétrons dentro delas. Como partículas fermiônicas, os elétrons podem ser descritos usando um formalismo matemático chamado segunda quantização. A ideia é que há um número de *orbitais*, cada um dos quais pode estar vazio ou ocupado por um férmion. Um sistema de $N$ orbitais é descrito por um conjunto de operadores de aniquilação fermiônicos $\\{\\hat{a}_p\\}_{p=1}^N$ que satisfazem as relações de anticomutação fermiônicas,\n",
    "\n",
    "$$\n",
    "\\begin{align*}\n",
    "\\hat{a}_p \\hat{a}_q + \\hat{a}_q \\hat{a}_p &= 0, \\\\\n",
    "\\hat{a}_p \\hat{a}_q^\\dagger + \\hat{a}_q^\\dagger \\hat{a}_p &= \\delta_{pq}.\n",
    "\\end{align*}\n",
    "$$\n",
    "\n",
    "O adjunto $\\hat{a}_p^\\dagger$ é chamado de operador de criação.\n",
    "\n",
    "Até agora, nossa exposição não considerou o spin, que é uma propriedade fundamental dos férmions. Ao considerar o spin, os orbitais vêm em pares chamados *orbitais espaciais*. Cada orbital espacial é composto por dois *orbitais de spin*, um que é rotulado \"spin-$\\alpha$\" e um que é rotulado \"spin-$\\beta$\". Então escrevemos $\\hat{a}_{p\\sigma}$ para o operador de aniquilação associado ao orbital de spin com spin $\\sigma$ ($\\sigma \\in \\{\\alpha, \\beta\\}$) no orbital espacial $p$. Se tomarmos $N$ como o número de orbitais espaciais, então há um total de $2N$ orbitais de spin. O espaço de Hilbert deste sistema é gerado por $2^{2N}$ vetores de base ortonormais rotulados com bitstrings de duas partes $\\lvert z \\rangle = \\lvert z_\\beta z_\\alpha \\rangle = \\lvert z_{\\beta, N} \\cdots z_{\\beta, 1} z_{\\alpha, N} \\cdots z_{\\alpha, 1} \\rangle$.\n",
    "\n",
    "O Hamiltoniano de um sistema molecular pode ser escrito como\n",
    "\n",
    "$$\n",
    "\\hat{H} = \\sum_{ \\substack{pr\\\\\\sigma} } h_{pr} \\, \\hat{a}^\\dagger_{p\\sigma} \\hat{a}_{r\\sigma}\n",
    "+ \\frac12\n",
    "\\sum_{ \\substack{prqs\\\\\\sigma\\tau} }\n",
    "h_{prqs} \\, \n",
    "\\hat{a}^\\dagger_{p\\sigma}\n",
    "\\hat{a}^\\dagger_{q\\tau}\n",
    "\\hat{a}_{s\\tau}\n",
    "\\hat{a}_{r\\sigma},\n",
    "$$\n",
    "\n",
    "onde os $h_{pr}$ e $h_{prqs}$ são números complexos chamados integrais moleculares que podem ser calculados a partir da especificação da molécula usando um programa de computador. Neste tutorial, calculamos as integrais usando o pacote de software [PySCF](https://pyscf.org/).\n",
    "\n",
    "Para detalhes sobre como o Hamiltoniano molecular é derivado, consulte um livro-texto sobre química quântica (por exemplo, *Modern Quantum Chemistry* de Szabo e Ostlund)."
   ]
  },
  {
   "attachments": {},
   "cell_type": "markdown",
   "id": "b5e32180-3ff6-46bb-baa3-1c16a3ec443f",
   "metadata": {
    "jp-MarkdownHeadingCollapsed": true
   },
   "source": [
    "Antes de fazermos subamostragem do conjunto de bitstrings geradas pelo circuito quântico, precisamos lidar com 'amostras quânticas ruidosas' que podem afetar a precisão de nossos cálculos de energia. É aí que a recuperação de configuração entra em jogo. Digamos que temos uma bitstring que está perdendo um elétron de sua configuração. Isso é fácil de identificar, pois o peso de Hamming está errado. Também podemos explorar a expectativa de ocupações nos diferentes orbitais (dada por 'n' na ilustração abaixo) para determinar qual bit inverter para corrigir as bitstrings."
   ]
  },
  {
   "attachments": {},
   "cell_type": "markdown",
   "id": "8a20c704-0564-4bc3-b24a-64ce11179489",
   "metadata": {},
   "source": [
    "Se você executar o circuito quântico que é o ansatz LUCJ construído acima em um computador quântico, você obterá uma bitstring e seu número de contagem como mostrado na figura no canto inferior esquerdo. Como os atuais computadores quânticos ruidosos fornecem o resultado com erros. Como o número de partículas de \"spin-$\\alpha$\" e \"spin-$\\beta$\" da molécula em questão é fixo, corrigiremos o erro invertendo uma parte da bitstring resultante para que o número de partículas seja armazenado corretamente."
   ]
  },
  {
   "attachments": {},
   "cell_type": "markdown",
   "id": "204b5142-3f9b-4d8f-8408-d6d32e9c9a13",
   "metadata": {},
   "source": [
    "O fluxo de trabalho SQD é descrito no seguinte diagrama:\n",
    "\n",
    "\n",
    "<img src='data:image/avif;base64,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'/>\n",
    "\n",
    "Fig 8. A diagram showing the SQD workflow\n",
    "\n",
    "SQD is known to work well when the target eigenstate is sparse: the wave function is supported in a set of basis states $\\mathcal{S} = \\{|x\\rangle \\}$ whose size does not increase exponentially with the size of the problem."
   ]
  },
  {
   "attachments": {},
   "cell_type": "markdown",
   "id": "1dce8aba-af4c-4a9a-a33a-3d8175085da8",
   "metadata": {},
   "source": [
    "Se o resultado da execução do computador quântico contém |1110 0011> então três \"spin-$\\beta$\" é demais, então um dos bits é invertido de 1 para 0 para que haja dois."
   ]
  },
  {
   "cell_type": "markdown",
   "id": "857741ce-d6d9-490a-9c64-44ce60217815",
   "metadata": {},
   "source": [
    "Finalmente, dos resultados de todos os lotes, obtemos uma estimativa da ocupação orbital média, e a energia mais baixa como uma estimativa do estado fundamental. E atualizamos esses dados."
   ]
  },
  {
   "attachments": {},
   "cell_type": "markdown",
   "id": "aa2b0d64-63b6-455e-999e-f35c7d52b9e1",
   "metadata": {},
   "source": [
    "Por exemplo, vamos pensar sobre um problema que considera até quatro orbitais de spin para uma molécula com dois \"spin-$\\alpha$\" e dois \"spin-$\\beta$\". Se os orbitais são preenchidos a partir do fundo dos níveis de energia, o estado quântico é |0011 0011> como mostrado na figura no canto inferior esquerdo."
   ]
  },
  {
   "attachments": {},
   "cell_type": "markdown",
   "id": "fe817330-971e-4b02-b1a5-eb9c89a27a9e",
   "metadata": {},
   "source": [
    "Neste momento, ao escolher qual elétron será invertido, a ocupação orbital média é usada e inverte o bit com a probabilidade ponderada máxima de inversão."
   ]
  },
  {
   "cell_type": "markdown",
   "id": "52d3b688-89d0-4451-a03b-db232442a1a3",
   "metadata": {},
   "source": [
    "### Loop de recuperação de configuração 4: Encontrar a energia mais baixa\n",
    "\n",
    "Finalmente, dos resultados de todos os lotes, obtemos uma estimativa da ocupação orbital média, e a energia mais baixa como uma estimativa do estado fundamental. E atualizamos esses dados."
   ]
  },
  {
   "attachments": {},
   "cell_type": "markdown",
   "id": "2566ce1e-cf95-4915-b986-0c1a68662afa",
   "metadata": {},
   "source": [
    "Implementamos um padrão Qiskit mostrando como o processo SQD:"
   ]
  },
  {
   "cell_type": "markdown",
   "id": "157e65a0-06a9-4ac9-bafa-702824a84eb2",
   "metadata": {},
   "source": [
    "## Passo 1: Mapear entradas clássicas para um problema quântico\n",
    "\n",
    "Encontraremos uma aproximação para o estado fundamental da molécula $N_2$ em equilíbrio no conjunto de base 6-31G. Primeiro, especificamos a molécula e suas propriedades."
   ]
  },
  {
   "cell_type": "code",
   "execution_count": null,
   "id": "c5c49c74-d658-42f6-a729-ec1c7687e9aa",
   "metadata": {},
   "outputs": [],
   "source": [
    "warnings.filterwarnings(\"ignore\")\n",
    "\n",
    "# Especificar propriedades da molécula\n",
    "open_shell = False\n",
    "spin_sq = 0\n",
    "\n",
    "# Construir molécula N2\n",
    "mol = pyscf.gto.Mole()\n",
    "mol.build(\n",
    "    atom=[[\"N\", (0, 0, 0)], [\"N\", (1.0, 0, 0)]],\n",
    "    basis=\"6-31g\",\n",
    "    symmetry=\"Dooh\",\n",
    ")\n",
    "\n",
    "# Definir espaço ativo\n",
    "n_frozen = 2\n",
    "active_space = range(n_frozen, mol.nao_nr())\n",
    "\n",
    "# Obter integrais moleculares\n",
    "scf = pyscf.scf.RHF(mol).run()\n",
    "num_orbitals = len(active_space)\n",
    "n_electrons = int(sum(scf.mo_occ[active_space]))\n",
    "num_elec_a = (n_electrons + mol.spin) // 2\n",
    "num_elec_b = (n_electrons - mol.spin) // 2\n",
    "cas = pyscf.mcscf.CASCI(scf, num_orbitals, (num_elec_a, num_elec_b))\n",
    "mo = cas.sort_mo(active_space, base=0)\n",
    "hcore, nuclear_repulsion_energy = cas.get_h1cas(mo)\n",
    "eri = pyscf.ao2mo.restore(1, cas.get_h2cas(mo), num_orbitals)\n",
    "\n",
    "# Calcular energia exata\n",
    "exact_energy = cas.run().e_tot"
   ]
  },
  {
   "cell_type": "markdown",
   "id": "91fa0157-366c-4c0e-b040-6a18f5546416",
   "metadata": {},
   "source": [
    "Antes de construir o circuito ansatz `LUCJ`, primeiro realizamos um cálculo CCSD na seguinte célula de código. As [amplitudes $t_1$ e $t_2$](https://en.wikipedia.org/wiki/Coupled_cluster#Cluster_operator) deste cálculo serão usadas para inicializar os parâmetros do ansatz."
   ]
  },
  {
   "cell_type": "code",
   "execution_count": null,
   "id": "f72b68e1-065f-49fc-a7cb-7afe3d1c3f65",
   "metadata": {},
   "outputs": [],
   "source": [
    "# Obter amplitudes t2 do CCSD para inicializar o ansatz\n",
    "ccsd = pyscf.cc.CCSD(scf, frozen=[i for i in range(mol.nao_nr()) if i not in active_space]).run()\n",
    "t1 = ccsd.t1\n",
    "t2 = ccsd.t2"
   ]
  },
  {
   "cell_type": "markdown",
   "id": "adb2fd92-294b-4f87-a438-f42d6589cd73",
   "metadata": {},
   "source": [
    "Agora, usamos [ffsim](https://github.com/qiskit-community/ffsim) para criar o circuito ansatz. Como nossa molécula tem um estado Hartree-Fock de camada fechada, usamos a variante balanceada em spin do ansatz UCJ, [UCJOpSpinBalanced](https://qiskit-community.github.io/ffsim/api/ffsim.html#ffsim.UCJOpSpinBalanced). Passamos pares de interação apropriados para uma topologia de qubit de heavy-hex lattice."
   ]
  },
  {
   "cell_type": "code",
   "execution_count": null,
   "id": "527f5873-f5be-4890-960e-4ad24c1e423d",
   "metadata": {},
   "outputs": [],
   "source": [
    "n_reps = 1\n",
    "alpha_alpha_indices = [(p, p + 1) for p in range(num_orbitals - 1)]\n",
    "alpha_beta_indices = [(p, p) for p in range(0, num_orbitals, 4)]\n",
    "\n",
    "ucj_op = ffsim.UCJOpSpinBalanced.from_t_amplitudes(\n",
    "    t2=t2,\n",
    "    t1=t1,\n",
    "    n_reps=n_reps,\n",
    "    interaction_pairs=(alpha_alpha_indices, alpha_beta_indices),\n",
    ")\n",
    "\n",
    "nelec = (num_elec_a, num_elec_b)\n",
    "\n",
    "# criar um circuito quântico vazio\n",
    "qubits = QuantumRegister(2 * num_orbitals, name=\"q\")\n",
    "circuit = QuantumCircuit(qubits)\n",
    "\n",
    "# preparar estado Hartree-Fock como estado de referência e anexá-lo ao circuito quântico\n",
    "circuit.append(ffsim.qiskit.PrepareHartreeFockJW(num_orbitals, nelec), qubits)\n",
    "\n",
    "# aplicar o operador UCJ ao estado de referência\n",
    "circuit.append(ffsim.qiskit.UCJOpSpinBalancedJW(ucj_op), qubits)\n",
    "circuit.measure_all()\n",
    "\n",
    "circuit.decompose().decompose().draw(\"mpl\", fold =-1)"
   ]
  },
  {
   "cell_type": "markdown",
   "id": "5a385896-0c00-425a-b06f-dc929371678a",
   "metadata": {},
   "source": [
    "## Passo 2: Otimizar problema para execução quântica\n",
    "Em seguida, otimizamos o circuito para um hardware alvo. Usaremos a QPU `ibm_brisbane` de 127 qubits."
   ]
  },
  {
   "cell_type": "code",
   "execution_count": null,
   "id": "ff55ea1b-22ef-4082-af12-d663ba3b7d6c",
   "metadata": {},
   "outputs": [],
   "source": [
    "service = QiskitRuntimeService(name=\"qgss-2025\")\n",
    "backend = service.backend(\"ibm_brisbane\")"
   ]
  },
  {
   "cell_type": "markdown",
   "id": "11c41725-68be-4289-95ee-562763547ca6",
   "metadata": {},
   "source": [
    "Recomendamos os seguintes passos para otimizar o ansatz e torná-lo compatível com hardware.\n",
    "\n",
    "* Selecionar qubits físicos (`initial_layout`) do hardware alvo que adere ao padrão zig-zag descrito acima. Dispor qubits neste padrão leva a um circuito eficiente compatível com hardware com menos portas.\n",
    "* Gerar um gerenciador de passes em etapas usando a função [generate\\_preset\\_pass\\_manager](https://quantum.cloud.ibm.com/docs/en/api/qiskit/qiskit.transpiler.generate_preset_pass_manager) do qiskit com sua escolha de `backend` e `initial_layout`.\n",
    "* Definir o estágio `pre_init` do seu gerenciador de passes em etapas para `ffsim.qiskit.PRE_INIT`. `ffsim.qiskit.PRE_INIT` inclui passes do transpilador qiskit que decompõem portas em rotações orbitais e depois funde as rotações orbitais, resultando em menos portas no circuito final.\n",
    "* Executar o gerenciador de passes no seu circuito."
   ]
  },
  {
   "cell_type": "code",
   "execution_count": null,
   "id": "b77ff882-7da3-40be-bbef-cadab8f9c841",
   "metadata": {},
   "outputs": [],
   "source": [
    "spin_a_layout = [0, 14, 18, 19, 20, 33, 39, 40, 41, 53, 60, 61, 62, 72, 81, 82]\n",
    "spin_b_layout = [2, 3, 4, 15, 22, 23, 24, 34, 43, 44, 45, 54, 64, 65, 66, 73]\n",
    "initial_layout = spin_a_layout + spin_b_layout\n",
    "\n",
    "pass_manager = generate_preset_pass_manager(\n",
    "    optimization_level=3, backend=backend, initial_layout=initial_layout\n",
    ")\n",
    "\n",
    "# Usaremos o circuito gerado por este gerenciador de passagens para execução em hardware\n",
    "pass_manager.pre_init = ffsim.qiskit.PRE_INIT\n",
    "isa_circuit = pass_manager.run(circuit)\n",
    "print(f\"Gate counts (w/ pre-init passes): {isa_circuit.count_ops()}\")"
   ]
  },
  {
   "cell_type": "markdown",
   "id": "04a7a60b-e87a-4b13-9f35-573db129526c",
   "metadata": {},
   "source": [
    "## Passo 3: Executar usando Primitivos Qiskit\n",
    "\n",
    "Após otimizar o circuito para execução em hardware, estamos prontos para executá-lo no hardware alvo e coletar amostras para estimativa de energia do estado fundamental. \n",
    "\n",
    "<div class=\"alert alert-block alert-warning\">\n",
    "    \n",
    "⚠️ **Nota:** Comentamos o código para executar o circuito em uma QPU e o deixamos para referência do usuário. Em vez de executar em hardware real neste walkthrough, apenas leremos 100k amostras retiradas do ``ibm_brisbane`` em um momento anterior.\n",
    "\n",
    "</div>"
   ]
  },
  {
   "cell_type": "code",
   "execution_count": null,
   "id": "8a4169e6-870d-4c30-a07b-207a09c3f444",
   "metadata": {},
   "outputs": [],
   "source": [
    "# from qiskit_ibm_runtime import SamplerV2 as Sampler\n",
    "\n",
    "# sampler = Sampler(mode=backend)\n",
    "# job = sampler.run([isa_circuit], shots=10_000)\n",
    "# primitive_result = job.result()\n",
    "# pub_result = primitive_result[0]\n",
    "# bit_array = pub_result.data.meas\n",
    "\n",
    "bit_array = np.load('utils/N2_device_bitarray.npy', allow_pickle=True).item()"
   ]
  },
  {
   "cell_type": "markdown",
   "id": "6e1521e1-7474-4267-9364-738404e367a7",
   "metadata": {},
   "source": [
    "## Passo 4: Pós-processar e retornar resultado para formato clássico desejado\n",
    "\n",
    "Lembre-se de que a recuperação de configuração auto-consistente é um procedimento iterativo que executa em um loop. Na seguinte célula de código, a primeira iteração do loop simplesmente usa as amostras brutas (após pós-seleção em simetrias) como entrada para o procedimento de diagonalização para obter uma estimativa das ocupações orbitais médias. Iterações posteriores do loop usam essas ocupações para gerar novas configurações a partir de amostras brutas que violam as simetrias. Essas configurações são coletadas e depois subamostradas para produzir lotes de configurações, que são então usados para projetar o Hamiltoniano e calcular uma estimativa do estado fundamental com um solucionador de autoestado.\n",
    "\n",
    "Há algumas opções controladas pelo usuário que são importantes para esta técnica:\n",
    "\n",
    "* `max_iterations`: Número de iterações do loop de recuperação auto-consistente.\n",
    "* `num_batches`: Número de lotes de configurações para subamostragem (este será o número de chamadas separadas para o solucionador de autoestado)\n",
    "* `samples_per_batch`: Número de configurações únicas para incluir em cada lote\n",
    "* `max_cycles`: Número máximo de ciclos Davidson executados pelo solucionador de autoestado"
   ]
  },
  {
   "cell_type": "markdown",
   "id": "4f585a9a-acd4-437e-b2af-eb672e0eb0c4",
   "metadata": {},
   "source": [
    "\n",
    "<div class=\"alert alert-block alert-warning\">\n",
    "<b>Aviso: 5 minutos necessários</b>\n",
    "\n",
    "Ao executar o código abaixo, levará até 5 minutos (dependendo do seu computador) para executar e bloqueará este notebook por esse tempo. \n",
    "\n",
    "</div>"
   ]
  },
  {
   "cell_type": "code",
   "execution_count": null,
   "id": "f026c1fb-e159-47b3-9b00-062cc07f1271",
   "metadata": {},
   "outputs": [],
   "source": [
    "%%time\n",
    "# Opções SQD\n",
    "energy_tol = 1e-3  \n",
    "occupancies_tol = 1e-3 \n",
    "max_iterations = 5\n",
    "\n",
    "# Opções do solucionador de autoestado\n",
    "num_batches = 5\n",
    "samples_per_batch = 50\n",
    "symmetrize_spin = True \n",
    "carryover_threshold = 1e-4 \n",
    "max_cycle = 200\n",
    "rng = np.random.default_rng(24)\n",
    "\n",
    "\n",
    "# Passe opções para o autossolucionador embutido. Se você quiser apenas usar os padrões,\n",
    "# você pode omitir este passo, caso em que você não especificaria o argumento sci_solver\n",
    "# na chamada para diagonalize_fermionic_hamiltonian abaixo.\n",
    "sci_solver = partial(solve_sci_batch, spin_sq=0.0, max_cycle=max_cycle)\n",
    "\n",
    "\n",
    "# Lista para capturar resultados intermediários\n",
    "result_history = [] \n",
    "\n",
    "def callback(results: list[SCIResult]): \n",
    "    result_history.append(results)\n",
    "    iteration = len(result_history)\n",
    "    print(f\"Iteração {iteration}\")\n",
    "    for i, result in enumerate(results):\n",
    "        print(f\"\\tSubamostra {i}\")\n",
    "        print(f\"\\t\\tEnergia: {result.energy + nuclear_repulsion_energy}\")\n",
    "        print(f\"\\t\\tDimensão do subespaço: {np.prod(result.sci_state.amplitudes.shape)}\")\n",
    "\n",
    "result = diagonalize_fermionic_hamiltonian(\n",
    "    hcore,\n",
    "    eri,\n",
    "    bit_array,\n",
    "    samples_per_batch=samples_per_batch,\n",
    "    norb=num_orbitals,\n",
    "    nelec=nelec,\n",
    "    num_batches=num_batches,\n",
    "    energy_tol=energy_tol,\n",
    "    occupancies_tol=occupancies_tol,\n",
    "    max_iterations=max_iterations,\n",
    "    sci_solver=sci_solver,\n",
    "    symmetrize_spin=symmetrize_spin,\n",
    "    carryover_threshold=carryover_threshold,\n",
    "    callback=callback,\n",
    "    seed=rng,\n",
    ")"
   ]
  },
  {
   "cell_type": "markdown",
   "id": "b7e28f80-675f-4ef4-bf86-2a6c696cef23",
   "metadata": {},
   "source": [
    "## Visualizar os resultados\n",
    "\n",
    "Para ver o resultado, primeiro criamos uma função `plot_energy_and_occupancy`."
   ]
  },
  {
   "cell_type": "code",
   "execution_count": null,
   "id": "bd6d96b3-cfd6-490b-bd20-4c5530071f86",
   "metadata": {},
   "outputs": [],
   "source": [
    "def plot_energy_and_occupancy(result_history, exact_energy):\n",
    "\n",
    "    # Dados para o gráfico de energias\n",
    "    x1 = range(len(result_history))\n",
    "    min_e = [\n",
    "        min(result, key=lambda res: res.energy).energy + nuclear_repulsion_energy\n",
    "        for result in result_history\n",
    "    ]\n",
    "    e_diff = [abs(e - exact_energy) for e in min_e]\n",
    "    yt1 = [1.0, 1e-1, 1e-2, 1e-3, 1e-4]\n",
    "    \n",
    "    # Precisão química (+/- 1 mili-Hartree)\n",
    "    chem_accuracy = 0.001\n",
    "    \n",
    "    # Dados para ocupação orbital espacial média\n",
    "    y2 = np.sum(result.orbital_occupancies, axis=0)\n",
    "    x2 = range(len(y2))\n",
    "    \n",
    "    fig, axs = plt.subplots(1, 2, figsize=(12, 6))\n",
    "    \n",
    "    # Plotar energias\n",
    "    axs[0].plot(x1, e_diff, label=\"erro de energia\", marker=\"o\")\n",
    "    axs[0].set_xticks(x1)\n",
    "    axs[0].set_xticklabels(x1)\n",
    "    axs[0].set_yticks(yt1)\n",
    "    axs[0].set_yticklabels(yt1)\n",
    "    axs[0].set_yscale(\"log\")\n",
    "    axs[0].set_ylim(1e-4)\n",
    "    axs[0].axhline(y=chem_accuracy, color=\"#BF5700\", linestyle=\"--\", label=\"precisão química\")\n",
    "    axs[0].set_title(\"Erro da Energia do Estado Fundamental Aproximada vs Iterações SQD\")\n",
    "    axs[0].set_xlabel(\"Índice da Iteração\", fontdict={\"fontsize\": 12})\n",
    "    axs[0].set_ylabel(\"Erro de Energia (Ha)\", fontdict={\"fontsize\": 12})\n",
    "    axs[0].legend()\n",
    "    \n",
    "    # Plotar ocupação orbital\n",
    "    axs[1].bar(x2, y2, width=0.8)\n",
    "    axs[1].set_xticks(x2)\n",
    "    axs[1].set_xticklabels(x2)\n",
    "    axs[1].set_title(\"Ocupação Média por Orbital Espacial\")\n",
    "    axs[1].set_xlabel(\"Índice do Orbital\", fontdict={\"fontsize\": 12})\n",
    "    axs[1].set_ylabel(\"Ocupação Média\", fontdict={\"fontsize\": 12})\n",
    "    \n",
    "    print(f\"Energia exata: {exact_energy:.5f} Ha\")\n",
    "    print(f\"Energia SQD: {min_e[-1]:.5f} Ha\")\n",
    "    print(f\"Erro absoluto: {e_diff[-1]:.5f} Ha\")\n",
    "    plt.tight_layout()\n",
    "    plt.show()"
   ]
  },
  {
   "cell_type": "code",
   "execution_count": null,
   "id": "f05f1766-38de-410b-ab8e-0ded552c77bc",
   "metadata": {},
   "outputs": [],
   "source": [
    "plot_energy_and_occupancy(result_history, exact_energy)"
   ]
  },
  {
   "cell_type": "markdown",
   "id": "8c8fc4ab-1ab4-4e76-9fbb-a069ed759085",
   "metadata": {},
   "source": [
    "O primeiro gráfico mostra que após algumas iterações estimamos a energia do estado fundamental dentro de `~100 mH` (precisão química é tipicamente aceita como sendo `1 kcal/mol` $\\approx$ `1.6 mH`). A energia pode ser melhorada coletando mais amostras do circuito ou aumentando o número de amostras por lote.\n",
    "\n",
    "O segundo gráfico mostra a ocupação média de cada orbital espacial após a iteração final. Podemos ver que tanto os elétrons spin-up quanto spin-down ocupam os primeiros cinco orbitais com alta probabilidade em nossas soluções."
   ]
  },
  {
   "cell_type": "markdown",
   "id": "86541d66-d12d-4049-abd6-0c3469a155b4",
   "metadata": {},
   "source": [
    "# Parte 5: Melhorar o ansatz\n",
    "\n",
    "Primeiro, vamos tentar modelar a molécula de uma forma mais natural mudando o conjunto de base da molécula para considerar mais orbitais eletrônicos. Incorporar mais orbitais no cálculo aumentará a complexidade computacional, mas deve diminuir o valor da estimativa de energia."
   ]
  },
  {
   "cell_type": "markdown",
   "id": "0ecea848-e0cb-4b35-87cd-b4e75318352c",
   "metadata": {},
   "source": [
    "## Exercício 2: Inverter um bit por recuperação de configuração\n",
    "\n",
    "Nota: \n",
    "- A metade direita de uma bitstring representa orbitais spin-up, e a metade esquerda representa orbitais spin-down. Um `1` significa que o orbital está ocupado por um elétron, e um `0` significa que o orbital está vazio.\n",
    "- Por favor, refira-se à seção [\"4.1 Visão geral da recuperação de configuração\" na Lição 4: Aplicação SQD](https://quantum.cloud.ibm.com/learning/en/courses/quantum-diagonalization-algorithms/sqd-implementation) de \"Algoritmo de Diagonalização Quântica\" do IBM Quantum Learning.\n",
    "- Neste caso, uma partícula beta adicional é necessária, então se o i-ésimo orbital já está ocupado e não precisa ser invertido, você define seu y_beta[i] para 0."
   ]
  },
  {
   "cell_type": "markdown",
   "id": "9be11dd4",
   "metadata": {},
   "source": [
    "* Selecionar qubits físicos (`initial_layout`) do hardware alvo que adere ao padrão zig-zag descrito acima. Dispor qubits neste padrão leva a um circuito eficiente compatível com hardware com menos portas."
   ]
  },
  {
   "cell_type": "code",
   "execution_count": null,
   "id": "95e5f030-47af-495a-a8c5-823a24d666ea",
   "metadata": {},
   "outputs": [],
   "source": [
    "x = np.array(x)\n",
    "n = np.array(n)\n",
    "\n",
    "# ---- TAREFA : Tarefa 2 ---\n",
    "\n",
    "# Dividir em spin alfa e spin beta\n",
    "x_alpha =\n",
    "x_beta =\n",
    "\n",
    "# probabilidade de inversão\n",
    "y = \n",
    "y_alpha =\n",
    "y_beta =\n",
    "\n",
    "# Neste caso, uma partícula beta adicional é necessária, então defina y_beta[i] para 0 se x_beta[i] já for 1. \n",
    "for i in range(len(y_beta)):\n",
    "\n",
    "\n",
    "# --- Fim da TAREFA ---\n",
    "\n",
    "print(y_beta)"
   ]
  },
  {
   "cell_type": "code",
   "execution_count": null,
   "id": "9e9f16a3-d459-41e4-b79d-bc7bbd91de1f",
   "metadata": {},
   "outputs": [],
   "source": [
    "h = 5/8\n",
    "delta = 0.01\n",
    "w = np.zeros(len(y_beta))\n",
    "\n",
    "# encontrar o w máximo\n",
    "# ---- TAREFA : Tarefa 2 ---\n",
    "for i in range(len(y_beta)):\n",
    "\n",
    "\n",
    "# --- Fim da TAREFA ---\n",
    "# print(max_index, max_w)"
   ]
  },
  {
   "cell_type": "code",
   "execution_count": null,
   "id": "d23e1599-e5cf-467d-a58b-e22952e0dfc7",
   "metadata": {},
   "outputs": [],
   "source": [
    "# Inverter o bit do índice com o maior w\n",
    "# ---- TAREFA : Tarefa 2 ---\n",
    "for i in range(len(y_beta)):\n",
    "\n",
    "\n",
    "\n",
    "x = np.concatenate([x_beta, x_alpha])\n",
    "corrected_x = \n",
    "# --- Fim da TAREFA ---\n",
    "# print(corrected_x)"
   ]
  },
  {
   "cell_type": "code",
   "execution_count": null,
   "id": "b028186e-039f-4f6d-a9a6-2a4cc85f6119",
   "metadata": {},
   "outputs": [],
   "source": [
    "# Envie sua resposta usando o código a seguir\n",
    "\n",
    "grade_lab3_ex2(corrected_x) # Tipo de resultado esperado: list"
   ]
  },
  {
   "cell_type": "markdown",
   "id": "7e08dfec-1433-4166-9b56-53e722059917",
   "metadata": {},
   "source": [
    "Antes de construir o circuito ansatz `LUCJ`, primeiro realizamos um cálculo CCSD na seguinte célula de código. As [amplitudes $t_1$ e $t_2$](https://en.wikipedia.org/wiki/Coupled_cluster#Cluster_operator) deste cálculo serão usadas para inicializar os parâmetros do ansatz."
   ]
  },
  {
   "cell_type": "markdown",
   "id": "9b948384-3b96-4c37-9676-b6619d0c6ee6",
   "metadata": {},
   "source": [
    "Encontraremos uma aproximação para o estado fundamental da molécula em equilíbrio no conjunto de base 6-31G. Primeiro, especificamos a molécula e suas propriedades."
   ]
  },
  {
   "cell_type": "markdown",
   "id": "e3d406e6-a664-4890-b8cc-36265ac72c66",
   "metadata": {},
   "source": [
    "## Exercício 3: Mudança do conjunto de base\n",
    "\n",
    "**Dica:** Este é um problema combinatório. Você pode calcular manualmente e fornecer a resposta ou usar o método math.comb() abaixo."
   ]
  },
  {
   "cell_type": "code",
   "execution_count": null,
   "id": "28aacef0-e91e-4b29-9d10-d298c699bf4b",
   "metadata": {},
   "outputs": [],
   "source": [
    "warnings.filterwarnings(\"ignore\")\n",
    "\n",
    "# Especificar propriedades da molécula\n",
    "open_shell = False\n",
    "spin_sq = 0\n",
    "\n",
    "# Construir molécula N2\n",
    "mol = pyscf.gto.Mole()\n",
    "mol.build(\n",
    "    atom=[[\"N\", (0, 0, 0)], [\"N\", (1.0, 0, 0)]],\n",
    "    # ---- TAREFA : Tarefa 3 ---\n",
    "    basis= ### insira seu código aqui ###,\n",
    "    # --- Fim da TAREFA ---\n",
    "    symmetry=\"Dooh\",\n",
    ")\n",
    "\n",
    "# Definir espaço ativo\n",
    "n_frozen = 2\n",
    "active_space = range(n_frozen, mol.nao_nr())\n",
    "\n",
    "# Obter integrais moleculares\n",
    "scf = pyscf.scf.RHF(mol).run()\n",
    "num_orbitals = len(active_space)\n",
    "n_electrons = int(sum(scf.mo_occ[active_space]))\n",
    "num_elec_a = (n_electrons + mol.spin) // 2\n",
    "num_elec_b = (n_electrons - mol.spin) // 2\n",
    "cas = pyscf.mcscf.CASCI(scf, num_orbitals, (num_elec_a, num_elec_b))\n",
    "mo = cas.sort_mo(active_space, base=0)\n",
    "hcore, nuclear_repulsion_energy = cas.get_h1cas(mo)\n",
    "eri = pyscf.ao2mo.restore(1, cas.get_h2cas(mo), num_orbitals)\n",
    "\n",
    "print(num_orbitals)"
   ]
  },
  {
   "cell_type": "code",
   "execution_count": null,
   "id": "1afdd410-3288-4df9-927e-c00afd50daac",
   "metadata": {},
   "outputs": [],
   "source": [
    "# ---- TAREFA : Tarefa 3 ---\n",
    "n_qubits = ### insira seu resultado ###\n",
    "# --- Fim da TAREFA ---"
   ]
  },
  {
   "cell_type": "code",
   "execution_count": null,
   "id": "14d5fd85-612a-4878-be7b-52aa2b8e6f3e",
   "metadata": {},
   "outputs": [],
   "source": [
    "# Envie sua resposta usando o código a seguir\n",
    "\n",
    "grade_lab3_ex3(n_qubits) # Tipo de resultado esperado: integer"
   ]
  },
  {
   "cell_type": "markdown",
   "id": "ae2587d2-d5d1-473c-8cbc-5112642c30d1",
   "metadata": {},
   "source": [
    "## Usaremos o circuito gerado por este gerenciador de passagens para execução em hardware"
   ]
  },
  {
   "cell_type": "markdown",
   "id": "13f326d6-16c2-4395-bc02-9d4499b50c9e",
   "metadata": {},
   "source": [
    "Após otimizar o circuito para execução em hardware, estamos prontos para executá-lo no hardware alvo e coletar amostras para estimativa de energia do estado fundamental.\n",
    "\n",
    "⚠️ **Nota:** Comentamos o código para executar o circuito em uma QPU e o deixamos para referência do usuário. Em vez de executar em hardware real neste walkthrough, apenas leremos 100k amostras retiradas do ``ibm_brisbane`` em um momento anterior."
   ]
  },
  {
   "cell_type": "markdown",
   "id": "d1f6099e-5b33-407d-9a3d-a6d32e2f6cfc",
   "metadata": {},
   "source": [
    "* `num_batches`: Número de lotes de configurações para subamostragem (este será o número de chamadas separadas para o solucionador de autoestado)"
   ]
  },
  {
   "cell_type": "code",
   "execution_count": null,
   "id": "85d226ba-cac6-4f0e-b8c5-846b6c29d6ef",
   "metadata": {},
   "outputs": [],
   "source": [
    "# from qiskit_ibm_runtime import QiskitRuntimeService\n",
    "# service = QiskitRuntimeService(name=\"qgss-2025\")\n",
    "# backend = service.backend('ibm_torino') \n",
    "# backend_target = backend.target"
   ]
  },
  {
   "cell_type": "code",
   "execution_count": null,
   "id": "c76eeaaf-c95a-4f21-a67e-feb7e248abd9",
   "metadata": {},
   "outputs": [],
   "source": [
    "backend = service.backend('ibm_torino')"
   ]
  },
  {
   "cell_type": "code",
   "execution_count": null,
   "id": "b87203c5-98fc-499c-8be7-e66147dcfab5",
   "metadata": {},
   "outputs": [],
   "source": [
    "import qiskit\n",
    "print(f'Qiskit: {qiskit.__version__}')"
   ]
  },
  {
   "cell_type": "markdown",
   "id": "ed4b79b2-a755-4957-a4e5-de067727c9e8",
   "metadata": {},
   "source": []
  },
  {
   "cell_type": "markdown",
   "id": "74ca1d47",
   "metadata": {},
   "source": [
    "# você pode omitir este passo, caso em que você não especificaria o argumento sci_solver"
   ]
  },
  {
   "cell_type": "markdown",
   "id": "bc9dc488-8232-44eb-8b14-a28603948212",
   "metadata": {},
   "source": [
    "## Visualizar os resultados\n",
    "\n",
    "Para ver o resultado, primeiro criamos uma função `plot_energy_and_occupancy`."
   ]
  },
  {
   "cell_type": "code",
   "execution_count": null,
   "id": "a5906475-2c7e-46b3-9799-b29a6b6b77bd",
   "metadata": {},
   "outputs": [],
   "source": [
    "BAD_READOUT_ERROR_THRESHOLD = 0.1\n",
    "BAD_CZGATE_ERROR_THRESHOLD = 0.1\n",
    "backend_num_qubits = 133\n",
    "\n",
    "# ---- TAREFA : Tarefa 4 ---\n",
    "bad_readout_qubits = ### construa seu código aqui ###\n",
    "bad_czgate_edges = ### construa seu código aqui ###\n",
    "# --- Fim da TAREFA ---\n",
    "print(\"Qubits de leitura ruins:\", bad_readout_qubits)\n",
    "print(\"Portas CZ ruins:\", bad_czgate_edges)"
   ]
  },
  {
   "cell_type": "markdown",
   "id": "ac01a0ea-2d7b-4225-8694-349341663b4b",
   "metadata": {},
   "source": [
    "- Por favor, refira-se à seção [\"4.1 Visão geral da recuperação de configuração\" na Lição 4: Aplicação SQD](https://quantum.cloud.ibm.com/learning/en/courses/quantum-diagonalization-algorithms/sqd-implementation) de \"Algoritmo de Diagonalização Quântica\" do IBM Quantum Learning."
   ]
  },
  {
   "cell_type": "code",
   "execution_count": null,
   "id": "b80881e2-9a28-4d16-8d8b-ca14811ea780",
   "metadata": {},
   "outputs": [],
   "source": [
    "# ---- TAREFA : Tarefa 2 ---\n",
    "# COMPLETE as linhas abaixo para calcular y_alpha, y_beta\n",
    "# --- Fim da TAREFA ---"
   ]
  },
  {
   "cell_type": "code",
   "execution_count": null,
   "id": "c43f5d1f-c7cc-4584-81e9-43db1a56e2dd",
   "metadata": {},
   "outputs": [],
   "source": [
    "# ---- TAREFA : Tarefa 2 ---\n",
    "# y_beta[i] = ...\n",
    "# --- Fim da TAREFA ---"
   ]
  },
  {
   "cell_type": "markdown",
   "id": "c929a180-c518-4cee-abd5-67b239f381ea",
   "metadata": {},
   "source": [
    "## Exercício 4: Selecionar o melhor layout\n",
    "\n",
    "Verifiquem seu layout aqui:"
   ]
  },
  {
   "cell_type": "code",
   "execution_count": null,
   "id": "b3d191ac-68b0-4c1d-846c-30730856b876",
   "metadata": {},
   "outputs": [],
   "source": [
    "# ---- TAREFA : Tarefa 2 ---\n",
    "# Implemente o código para corrigir os elétrons alpha\n",
    "# --- Fim da TAREFA ---"
   ]
  },
  {
   "cell_type": "code",
   "execution_count": null,
   "id": "cc2bf757-2fa1-47b9-9993-36cf163d99f0",
   "metadata": {},
   "outputs": [],
   "source": [
    "# Envie sua resposta usando o código a seguir\n",
    "\n",
    "grade_lab3_ex4(initial_layout) # Tipo de resultado esperado: listas"
   ]
  },
  {
   "cell_type": "markdown",
   "id": "531344cb-0b6f-45fe-83ee-9b99801f2dd5",
   "metadata": {},
   "source": [
    "O primeiro gráfico mostra que após algumas iterações estimamos a energia do estado fundamental dentro de `~100 mH` (precisão química é tipicamente aceita como sendo `1 kcal/mol` $\\approx$ `1.6 mH`). A energia pode ser melhorada coletando mais amostras do circuito ou aumentando o número de amostras por lote.\n",
    "\n",
    "O segundo gráfico mostra a ocupação média de cada orbital espacial após a iteração final. Podemos ver que tanto os elétrons spin-up quanto spin-down ocupam os primeiros cinco orbitais com alta probabilidade em nossas soluções."
   ]
  },
  {
   "cell_type": "markdown",
   "id": "c0292b43-2e65-43bf-855b-2fda443b8c82",
   "metadata": {},
   "source": [
    "- Neste caso, uma partícula beta adicional é necessária, então se o i-ésimo orbital já está ocupado e não precisa ser invertido, você define seu y_beta[i] para 0."
   ]
  },
  {
   "cell_type": "markdown",
   "id": "360decc7",
   "metadata": {},
   "source": [
    "- Neste caso, uma partícula beta adicional é necessária, então defina y_beta[i] para 0 se x_beta[i] já for 1."
   ]
  },
  {
   "cell_type": "markdown",
   "id": "969d74c3",
   "metadata": {},
   "source": [
    "- Envie sua resposta usando o código a seguir"
   ]
  },
  {
   "cell_type": "markdown",
   "id": "5db71e0e-4c4c-460d-99d2-8b13acfa9bfd",
   "metadata": {},
   "source": [
    "## Exercício 5: Adicionar mais interação ao ansatz LUCJ\n",
    "\n",
    "Parabéns! Vocês terminaram este laboratório. A próxima sessão é uma sessão bônus e não conta para sua pontuação."
   ]
  },
  {
   "cell_type": "markdown",
   "id": "109cb3e9-987f-4990-acb1-eac3c706627f",
   "metadata": {},
   "source": [
    "# Bônus: Execução em hardware real com mitigação de erro \n",
    "\n",
    "Finalmente, vamos executar o circuito ansatz modificado em um dispositivo real e executar o loop de recuperação de configuração para encontrar a energia. Ao fazer isso, usaremos mitigação de erro para reduzir o efeito dos erros o máximo possível."
   ]
  },
  {
   "cell_type": "code",
   "execution_count": null,
   "id": "2581d200-3327-418e-afb8-b71413c05d56",
   "metadata": {},
   "outputs": [],
   "source": [
    "# Bônus: Execução em hardware real com mitigação de erro \n",
    "\n",
    "Finalmente, vamos executar o circuito ansatz modificado em um dispositivo real e executar o loop de recuperação de configuração para encontrar a energia. Ao fazer isso, usaremos mitigação de erro para reduzir o efeito dos erros o máximo possível."
   ]
  },
  {
   "cell_type": "code",
   "execution_count": null,
   "id": "1a7c1c3d-19fa-430e-898d-4bdcec737922",
   "metadata": {},
   "outputs": [],
   "source": [
    "# ---- TAREFA : Tarefa 3 ---\n",
    "# dimension = ...\n",
    "# --- Fim da TAREFA ---"
   ]
  },
  {
   "cell_type": "code",
   "execution_count": null,
   "id": "e713e002-0187-4c4f-9b7f-17843bd49eb3",
   "metadata": {},
   "outputs": [],
   "source": [
    "opts = SamplerOptions()\n",
    "opts.dynamical_decoupling.enable = True\n",
    "opts.twirling.enable_measure = True\n",
    "\n",
    "sampler = Sampler(mode=backend, options=opts)\n",
    "job = sampler.run([isa_circuit], shots=100_000)\n",
    "print(\"job id:\", job.job_id())\n",
    "job.status()"
   ]
  },
  {
   "cell_type": "code",
   "execution_count": null,
   "id": "d3b6559f-2bce-4d05-8ec5-fd818c4535e9",
   "metadata": {},
   "outputs": [],
   "source": [
    "opts = SamplerOptions()\n",
    "opts.dynamical_decoupling.enable = True\n",
    "opts.twirling.enable_measure = True\n",
    "\n",
    "sampler = Sampler(mode=backend, options=opts)\n",
    "job = sampler.run([isa_circuit], shots=100_000)\n",
    "print(\"id do trabalho:\", job.job_id())\n",
    "job.status()"
   ]
  },
  {
   "cell_type": "code",
   "execution_count": null,
   "id": "21f262fb-e8fd-414a-98d0-7e497dfb79c0",
   "metadata": {},
   "outputs": [],
   "source": [
    "# ---- TAREFA : Tarefa 4 ---\n",
    "# molecule_ccpvdz = ...\n",
    "# --- Fim da TAREFA ---"
   ]
  },
  {
   "cell_type": "markdown",
   "id": "59f86a08-c703-4362-8957-e30aeb94e3c5",
   "metadata": {},
   "source": [
    "<div class=\"alert alert-block alert-warning\">\n",
    "<b>Aviso: 20 minutos necessários</b>\n",
    "\n",
    "Ao executar o código abaixo, levará até 20 minutos (dependendo do seu computador) para executar e bloqueará este notebook por esse tempo. \n",
    "\n",
    "</div>"
   ]
  },
  {
   "cell_type": "code",
   "execution_count": null,
   "id": "f329e74f-b905-46df-af8c-e0044e6606d3",
   "metadata": {},
   "outputs": [],
   "source": [
    "<div class=\"alert alert-block alert-warning\">\n",
    "<b>Aviso: 20 minutos necessários</b>\n",
    "\n",
    "Ao executar o código abaixo, levará até 20 minutos (dependendo do seu computador) para executar e bloqueará este notebook por esse tempo. \n",
    "\n",
    "</div>"
   ]
  },
  {
   "cell_type": "code",
   "execution_count": null,
   "id": "a7424751-f167-4006-9d48-f738791dab09",
   "metadata": {},
   "outputs": [],
   "source": [
    "# você pode omitir este passo, caso em que você não especificaria o argumento sci_solver\n",
    "molecule_ccpvdz = MoleculeInfo(\n",
    "    symbols=symbols, \n",
    "    coords=coords, \n",
    "    multiplicity=1,\n",
    "    charge=0,\n",
    "    basis=\"cc-pVDZ\",\n",
    ")\n",
    "\n",
    "problem_ccpvdz = molecule_ccpvdz.get_fermionic_problem()\n",
    "second_q_op_ccpvdz = problem_ccpvdz.hamiltonian\n",
    "n_spatial_orbitals_ccpvdz = molecule_ccpvdz.n_spatial_orbitals\n",
    "\n",
    "num_electrons_ccpvdz = (molecule_ccpvdz.n_alpha_electrons, molecule_ccpvdz.n_beta_electrons)\n",
    "print(f\"Número de orbitais espaciais: {n_spatial_orbitals_ccpvdz}\")\n",
    "print(f\"Número de elétrons: {num_electrons_ccpvdz}\")"
   ]
  },
  {
   "cell_type": "markdown",
   "id": "c9894969-4c9b-45c0-91a8-097f17d7462b",
   "metadata": {},
   "source": [
    "# Envie sua resposta usando o código a seguir"
   ]
  },
  {
   "cell_type": "markdown",
   "id": "fbfca50d-c810-4f56-a0fc-ab3b6fc64228",
   "metadata": {},
   "source": [
    "# Referências \n",
    "\n",
    "\\[1] M. Motta et al., \"Bridging physical intuition and hardware efficiency for correlated electronic states: the local unitary cluster Jastrow ansatz for electronic structure\" (2023). [Chem. Sci., 2023, 14, 11213](https://pubs.rsc.org/en/content/articlehtml/2023/sc/d3sc02516k)\n",
    "\n",
    "\\[2] J. Robledo-Moreno et al., \"Chemistry Beyond Exact Solutions on a Quantum-Centric Supercomputer\" (2024). [arXiv:quant-ph/2405.05068](https://arxiv.org/abs/2405.05068)."
   ]
  },
  {
   "cell_type": "markdown",
   "id": "38eb8499-55ca-4d5c-8ca9-2441b03b52b1",
   "metadata": {},
   "source": [
    "# Informações adicionais\n",
    "\n",
    "**Criado por:** Yuri Kobayashi, Kifumi Numata\n",
    "\n",
    "**Orientado por:** Yukio Kawashima, Toshinari Itoko\n",
    "\n",
    "**Revisado por:** Kevin Sung, Jennifer Glick\n",
    "\n",
    "**Versão:** 1.0"
   ]
  },
  {
   "cell_type": "code",
   "execution_count": null,
   "id": "8588a958-8208-4f81-88e1-cae2e27d04ee",
   "metadata": {},
   "outputs": [],
   "source": [
    "import qiskit\n",
    "import qiskit_ibm_runtime\n",
    "\n",
    "print(f'Qiskit: {qiskit.__version__}')\n",
    "print(f'Qiskit IBM Runtime: {qiskit_ibm_runtime.__version__}')"
   ]
  }
 ],
 "metadata": {
  "kernelspec": {
   "display_name": ".venv",
   "language": "python",
   "name": "python3"
  },
  "language_info": {
   "codemirror_mode": {
    "name": "ipython",
    "version": 3
   },
   "file_extension": ".py",
   "mimetype": "text/x-python",
   "name": "python",
   "nbconvert_exporter": "python",
   "pygments_lexer": "ipython3",
   "version": "3.11.13"
  },
  "widgets": {
   "application/vnd.jupyter.widget-state+json": {
    "state": {},
    "version_major": 2,
    "version_minor": 0
   }
  }
 },
 "nbformat": 4,
 "nbformat_minor": 5
}
