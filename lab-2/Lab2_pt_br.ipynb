{
 "cells": [
  {
   "cell_type": "markdown",
   "metadata": {},
   "source": [
    "# Lab 2: Superando o Ruído\n",
    "\n",
    "Neste laboratório, mergulhamos no mundo do ruído quântico e exploramos as diferentes técnicas para navegar pelos desafios do ruído, a fim de obter bons resultados com os computadores quânticos atuais. No contexto de um problema Max-cut de pequeno porte, fornecemos um guia passo a passo para reduzir o ruído e executar um algoritmo quântico em um computador quântico. Apresentamos diferentes técnicas de transpilação e mitigação de erros para minimizar o erro e garantir que os resultados permaneçam corretos apesar do ruído. Finalmente, o laboratório conclui com um exercício bônus onde todas as técnicas discutidas são implementadas em hardware quântico real.\n",
    "\n",
    "# Sumário\n",
    "\n",
    "0. [Requisitos](#requirements)\n",
    "1. [Introdução](#intro)  \n",
    "    - [Espírito do Laboratório](#spirit)\n",
    "    - [O que é ruído quântico?](#quantum-noise)  \n",
    "    - [Fontes de ruído](#sources)\n",
    "        * [Exercício 1: Encontre os qubits com T1, T2 mais longos, maiores fidelidades de porta e menores erros de leitura](#exercise_1)\n",
    "2. [Problema Max-cut](#max-cut)\n",
    "    - [Exercício 2: Do Grafo ao Hamiltoniano](#exercise_2)\n",
    "3. [Simulador quântico com ruído](#noisy-simulator)\n",
    "    - [Escolhendo o backend](#choosing-backend)\n",
    "    - [Exercício 3: Contagem de Erros](#exercise_3)\n",
    "    - [Estimando erros usando NEAT](#neat)\n",
    "4. [Transpilação](#transpilation)\n",
    "    - [Exercício 4: Bom Mapeamento](#exercise_4)\n",
    "    - [Exercício 5: Melhor Mapeamento](#exercise_5)\n",
    "5. [Mitigação de Erros (EM)](#em)\n",
    "    - [Extrapolação de Ruído Zero (ZNE)](#zne)\n",
    "    - [Exercício 6: Implementando ZNE](#exercise_6)\n",
    "6. [Conclusões](#conclusions)\n",
    "7. [Desafio Bônus: Ampliando!](#bonus)\n",
    "8. [Referências](#references)"
   ]
  },
  {
   "cell_type": "markdown",
   "metadata": {},
   "source": [
    "<a id=\"requirements\"></a>\n",
    "\n",
    "## 0. Requisitos \n",
    "\n",
    "Para executar este laboratório, você precisará das seguintes dependências do Python:"
   ]
  },
  {
   "cell_type": "code",
   "execution_count": null,
   "metadata": {},
   "outputs": [],
   "source": [
    "%pip install -U qiskit \"qc-grader[qiskit,jupyter] @ git+https://github.com/qiskit-community/Quantum-Challenge-Grader.git\"\n",
    "%pip install 'qiskit[visualization]'\n",
    "%pip install qiskit-ibm-runtime\n",
    "%pip install qiskit-aer\n",
    "%pip install rustworkx\n",
    "%pip install pylatexenc\n",
    "%pip install qiskit matplotlib\n",
    "%pip install qiskit-aer"
   ]
  },
  {
   "cell_type": "code",
   "execution_count": null,
   "metadata": {},
   "outputs": [],
   "source": [
    "import qiskit\n",
    "import qc_grader\n",
    "\n",
    "print(f\"Qiskit version: {qiskit.__version__}\")\n",
    "print(f\"Grader version: {qc_grader.__version__}\")"
   ]
  },
  {
   "cell_type": "markdown",
   "metadata": {},
   "source": [
    "## 1. Introdução <a id=\"intro\"></a>\n",
    "\n",
    "### 1.1 Espírito do laboratório <a id=\"spirit\"></a>\n",
    "\n",
    "O ruído é um tópico central no projeto e uso de computadores quânticos, e é uma das principais características dos dispositivos atuais. Mas o que exatamente significa ruído na informação quântica? Geralmente nos referimos ao termo ruído como qualquer transformação indesejada que perturba o resultado esperado da medição de um estado quântico. Categorizamos os erros em dois grupos:"
   ]
  },
  {
   "cell_type": "code",
   "execution_count": null,
   "metadata": {},
   "outputs": [],
   "source": [
    "# Verifica se a conta foi salva corretamente\n",
    "from qiskit_ibm_runtime import QiskitRuntimeService\n",
    "\n",
    "\n",
    "service = QiskitRuntimeService(name=\"qgss-2025\")\n",
    "service.saved_accounts()"
   ]
  },
  {
   "cell_type": "markdown",
   "metadata": {},
   "source": [
    "### 1.2 O que é ruído quântico? <a id=\"quantum-noise\"></a>\n",
    "\n",
    "- **Erros incoerentes**: A origem desses erros é naturalmente quântica, pois vem da interação do sistema quântico com o ambiente. Erros incoerentes são a razão pela qual a maioria dos computadores quânticos atuais precisa ser resfriada a uma temperatura da ordem de mK, para reduzir essas interações indesejadas e preservar a coerência do sistema. Essas interações criam estados mistos, que introduzem aleatoriedade na saída e tornam esses erros particularmente problemáticos. Um exemplo concreto é o tempo de relaxamento $T_1$, que descreve como um qubit no estado excitado $|1\\rangle$ decai espontaneamente para o estado fundamental $|0\\rangle$ ao longo do tempo. Se uma medição for atrasada, esse decaimento pode fazer com que o qubit seja lido incorretamente como $|0\\rangle$ quando deveria ser $|1\\rangle$.\n",
    "\n",
    "- **Erros coerentes**: Esses erros são determinísticos e resultam de imperfeições na implementação de portas quânticas ou na calibração do sistema. Por exemplo, se uma porta RX (rotação em torno do eixo X) deveria girar um qubit em $\\pi/2$ radianos, mas na verdade o gira em $\\pi/2 + \\epsilon$ devido a imprecisões no campo de controle, isso introduziria um erro coerente sistemático. Embora esses erros sejam problemáticos, eles são mais previsíveis e podem ser corrigidos com técnicas de calibração adequadas."
   ]
  },
  {
   "cell_type": "code",
   "execution_count": null,
   "metadata": {},
   "outputs": [],
   "source": [
    "import rustworkx as rx\n",
    "import numpy as np\n",
    "import matplotlib.pyplot as plt\n",
    "from rustworkx.visualization import mpl_draw as draw_graph\n",
    "from qiskit_ibm_runtime import QiskitRuntimeService\n",
    "from scipy.optimize import minimize\n",
    "\n",
    "from qiskit import QuantumCircuit\n",
    "from qiskit.providers.fake_provider import GenericBackendV2\n",
    "from qiskit.quantum_info import SparsePauliOp, Statevector, DensityMatrix, Operator\n",
    "from qiskit.circuit.library import QAOAAnsatz\n",
    "from qiskit.transpiler.preset_passmanagers import generate_preset_pass_manager\n",
    "from qiskit.visualization import plot_histogram\n",
    "from qiskit.transpiler import Layout\n",
    "\n",
    "from qiskit_ibm_runtime import (\n",
    "    Session,\n",
    "    EstimatorV2 as Estimator,\n",
    "    SamplerV2 as Sampler,\n",
    "    EstimatorOptions,\n",
    ")\n",
    "from qiskit_ibm_runtime.debug_tools import Neat\n",
    "from qiskit_aer import AerSimulator\n",
    "\n",
    "from utils import zne_method, plot_zne, plot_backend_errors_and_counts\n",
    "from qc_grader.challenges.qgss_2025 import (\n",
    "    grade_lab2_ex1,\n",
    "    grade_lab2_ex2,\n",
    "    grade_lab2_ex3,\n",
    "    grade_lab2_ex4,\n",
    "    grade_lab2_ex5,\n",
    "    grade_lab2_ex6a,\n",
    "    grade_lab2_ex6b,\n",
    ")\n",
    "\n",
    "# Define seed para reprodutibilidade\n",
    "seed = 43"
   ]
  },
  {
   "cell_type": "markdown",
   "metadata": {},
   "source": [
    "### 1.3 Fontes de ruído <a id=\"sources\"></a>\n",
    "\n",
    "Como mencionado acima, algumas fontes de ruído vêm de diferentes fatores, incluindo a implementação imperfeita de portas quânticas como pulsos eletromagnéticos, erros de leitura, decoerência do sistema quântico, e assim por diante.\n",
    "\n",
    "Entre as diferentes métricas que podem ser usadas para avaliar quão bom ou resiliente ao ruído um computador quântico (ou um qubit) é contra as fontes de ruído, podemos distinguir algumas:"
   ]
  },
  {
   "cell_type": "markdown",
   "metadata": {},
   "source": [
    "<a id=\"exercise_1\"></a>\n",
    "\n",
    "<b>Exercício 1: Encontre os melhores qubits</b> \n",
    "\n",
    "Neste primeiro exercício, você fornecerá o melhor valor de cada uma das seguintes métricas, bem como o qubit, ou par de qubits, que possui esse valor:\n",
    "\n",
    "- **T1 (tempo de relaxamento)**: Qubit com o maior T1 e seu valor\n",
    "- **T2 (tempo de coerência)**: Qubit com o maior T2 e seu valor  \n",
    "- **Fidelidade de porta de um qubit**: Qubit com a maior fidelidade de porta de um qubit e seu valor\n",
    "- **Fidelidade de porta de dois qubits**: Par de qubits com a maior fidelidade de porta CNOT e seu valor\n",
    "- **Erro de leitura**: Qubit com o menor erro de leitura e seu valor"
   ]
  },
  {
   "cell_type": "code",
   "execution_count": null,
   "metadata": {},
   "outputs": [],
   "source": [
    "# Execute para criar arrays de propriedades\n",
    "service = QiskitRuntimeService(name=\"qgss-2025\")\n",
    "# Definimos um backend específico\n",
    "brisbane_backend = service.backend(\"ibm_brisbane\")\n",
    "# Obtemos as propriedades do sistema, número de qubits e mapa de acoplamento\n",
    "properties = brisbane_backend.properties()\n",
    "num_qubits = brisbane_backend.num_qubits\n",
    "coupling_map = brisbane_backend.coupling_map\n",
    "\n",
    "# Definimos várias listas de métricas para todos os qubits do backend\n",
    "t1, t2, gate_error_x, readout_error, gate_error_ecr = [], [], [], [], []\n",
    "for i in range(num_qubits):\n",
    "    t1.append(properties.t1(i))\n",
    "    t2.append(properties.t2(i))\n",
    "    gate_error_x.append(properties.gate_error(gate=\"x\", qubits=i))\n",
    "    readout_error.append(properties.readout_error(i))\n",
    "for pair in coupling_map:\n",
    "    gate_error_ecr.append(properties.gate_error(gate=\"ecr\", qubits=pair))"
   ]
  },
  {
   "cell_type": "code",
   "execution_count": null,
   "metadata": {
    "scrolled": true
   },
   "outputs": [],
   "source": [
    "def find_best_metrics(backend: QiskitRuntimeService.backend) -> list[tuple[int or list, float]]:\n",
    "    \"\"\"Encontra os melhores qubits e par de qubits baseado em várias métricas de hardware.\"\"\"\n",
    "    properties = backend.properties()\n",
    "    num_qubits = backend.num_qubits\n",
    "    coupling_map = backend.coupling_map\n",
    "\n",
    "    # Define listas de métricas para o backend\n",
    "    t1, t2, gate_error_x, readout_error, gate_error_ecr = [], [], [], [], []\n",
    "    for i in range(num_qubits):\n",
    "        t1.append(properties.t1(i))\n",
    "        t2.append(properties.t2(i))\n",
    "        gate_error_x.append(properties.gate_error(gate=\"x\", qubits=i))\n",
    "        readout_error.append(properties.readout_error(i))\n",
    "    for pair in coupling_map:\n",
    "        gate_error_ecr.append(properties.gate_error(gate=\"ecr\", qubits=pair))\n",
    "\n",
    "    # Objetivo: Obter o melhor valor e o índice ou índices dos qubits das seguintes métricas:\n",
    "    # encontrar o melhor qubit (index_t1_max) com o maior T1 e seu valor (max_t1)\n",
    "    index_t1_max = t1.index(max(t1))\n",
    "    max_t1 = max(t1)\n",
    "\n",
    "    # encontrar o melhor qubit (index_t2_max) com o maior T2 e seu valor (max_t2)\n",
    "    index_t2_max = t2.index(max(t2))\n",
    "    max_t2 = max(t2)\n",
    "\n",
    "    # encontrar o melhor qubit (index_min_x_error) com o menor erro de porta x e seu valor (min_x_error)\n",
    "    index_min_x_error = gate_error_x.index(min(gate_error_x))\n",
    "    min_x_error = min(gate_error_x)\n",
    "\n",
    "    # encontrar o melhor qubit (index_min_readout) com o menor erro de leitura e seu valor (min_readout)\n",
    "    index_min_readout = readout_error.index(min(readout_error))\n",
    "    min_readout = min(readout_error)\n",
    "\n",
    "    # encontrar o melhor par de qubits com erro ECR mínimo (min_ecr_pair) e seu valor (min_ecr_error)\n",
    "    min_ecr_error = min(gate_error_ecr)\n",
    "    coupling_pairs = list(coupling_map)\n",
    "    min_ecr_pair = list(coupling_pairs[gate_error_ecr.index(min_ecr_error)])\n",
    "\n",
    "    solutions = [\n",
    "        [int(index_t1_max), max_t1],\n",
    "        [int(index_t2_max), max_t2],\n",
    "        [int(index_min_x_error), min_x_error],\n",
    "        [int(index_min_readout), min_readout],\n",
    "        [min_ecr_pair, min_ecr_error]\n",
    "    ]\n",
    "    return solutions"
   ]
  },
  {
   "cell_type": "code",
   "execution_count": null,
   "metadata": {},
   "outputs": [],
   "source": [
    "# Submeta sua resposta usando o código a seguir\n",
    "grade_lab2_ex1(find_best_metrics)"
   ]
  },
  {
   "cell_type": "code",
   "execution_count": null,
   "metadata": {},
   "outputs": [],
   "source": [
    "# Função de teste para ver a saída\n",
    "from qiskit_ibm_runtime.fake_provider import FakeBrisbane\n",
    "test_backend = FakeBrisbane()\n",
    "result = find_best_metrics(test_backend)\n",
    "print(\"Saída da função:\", result)\n",
    "print(\"Tamanho do resultado:\", len(result))\n",
    "for i, item in enumerate(result):\n",
    "    print(f\"Item {i}: {item}, tipo: {type(item[0])}, {type(item[1])}\")"
   ]
  },
  {
   "cell_type": "markdown",
   "metadata": {},
   "source": [
    "# 2. O problema: Max-cut <a id=\"max-cut\"></a>\n",
    "\n",
    "O problema do corte máximo ([Max-cut](https://en.wikipedia.org/wiki/Maximum_cut)) é um problema de grafo que se enquadra na categoria de [NP-difícil](https://en.wikipedia.org/wiki/NP-hardnes), o que significa que não existe um algoritmo que possa resolvê-lo em tempo polinomial. O Max-cut é um problema de otimização com uma ampla gama de aplicações, incluindo clustering, ciência de redes, física estatística e aprendizado de máquina. O objetivo deste problema é dividir os nós de um grafo em dois conjuntos usando um único corte, de forma que o número de arestas que conectam os dois conjuntos seja maximizado.\n",
    "\n",
    "![Ilustração de um problema de max-cut](attachment:image.png)\n",
    "\n",
    "Neste laboratório, resolveremos um problema de Max-cut usando um algoritmo quântico. Também estudaremos como o ruído quântico afeta nossa solução e discutiremos estratégias para reduzir seu impacto, garantindo que ainda possamos obter resultados precisos apesar do ruído.\n",
    "\n",
    "Agora que temos um pouco de contexto sobre o problema Max-cut, vamos escolher um grafo específico para o qual queremos encontrar o corte máximo. Em particular, escolheremos o grafo do mapa de acoplamento de um computador quântico hipotético com conectividade total $^*$."
   ]
  },
  {
   "cell_type": "markdown",
   "metadata": {},
   "source": [
    "<a id=\"exercise_2\"></a>\n",
    "\n",
    "<b>Exercício 2: Do Grafo ao Hamiltoniano</b> \n",
    "\n",
    "Neste segundo exercício, você deve encontrar uma maneira de mapear o problema do grafo dado para um Hamiltoniano usando as portas de identidade e Pauli.\n",
    "\n",
    "Para o problema Max-cut em um grafo $G = (V, E)$, queremos particionar os vértices $V$ em dois conjuntos. O objetivo é maximizar o número de arestas que conectam vértices em conjuntos diferentes. Podemos expressar esse objetivo usando nossas variáveis de spin **s<sub>i</sub>**. Se dois nós conectados `i` e `j` estão em partições diferentes (s<sub>i</sub> ≠ s<sub>j</sub>), o termo $s_i * s_j$ será -1. Se eles estiverem na mesma partição (s<sub>i</sub> = s<sub>j</sub>), o termo será +1.\n",
    "\n",
    "$$C = -\\frac{1}{2} \\sum_{(i,j) \\in E} (1 - s_i s_j)$$\n",
    "\n",
    "Aqui, substituímos as variáveis de spin clássicas `s_i` por suas contrapartes quânticas, os operadores **Z<sub>i</sub>** de Pauli, que atuam no `i`-ésimo qubit. O estado fundamental deste Hamiltoniano é o arranjo específico de estados de qubit (`|0⟩` ou `|1⟩`) que minimiza essa energia, nos dando diretamente a solução para o problema Max-cut.\n",
    "\n",
    "$$H = -\\frac{1}{2} \\sum_{(i,j) \\in E} (I - Z_i Z_j)$$\n",
    "\n",
    "**Seu Objetivo:** Converter o objeto 'grafo' que acabamos de criar em um Hamiltoniano de Ising, que é a função de custo para o nosso problema Max-cut."
   ]
  },
  {
   "cell_type": "code",
   "execution_count": null,
   "metadata": {},
   "outputs": [],
   "source": [
    "# Definimos o seed\n",
    "seed = 43\n",
    "# Definimos o número de nós:\n",
    "n = 5\n",
    "# Definimos o grafo\n",
    "graph = rx.PyGraph()\n",
    "graph.add_nodes_from(np.arange(0, n, 1))\n",
    "generic_backend = GenericBackendV2(n, seed=seed)\n",
    "weights = 1\n",
    "# Tornamos explicitamente assimétrico para ter um conjunto menor de soluções\n",
    "graph.add_edges_from([(edge[0], edge[1], weights) for edge in generic_backend.coupling_map][:-1])\n",
    "draw_graph(graph, node_size=200, with_labels=True, width=1)"
   ]
  },
  {
   "cell_type": "markdown",
   "metadata": {},
   "source": [
    "# 2.3 Solução QAOA <a id=\"qaoa-solution\"></a>\n",
    "\n",
    "Agora que mapeamos com sucesso nosso problema Max-cut para um Hamiltoniano de Ising, traduzimos um problema de grafo clássico para um problema de busca de estado fundamental quântico. A solução para o problema original está codificada no estado com a menor energia possível (o \"estado fundamental\") deste Hamiltoniano.\n",
    "\n",
    "Vários algoritmos quânticos podem ser empregados para encontrar este estado fundamental. Um dos mais proeminentes é o Algoritmo de Otimização Aproximada Quântica ([QAOA](https://en.wikipedia.org/wiki/Quantum_optimization_algorithms)). O QAOA é conhecido por sua adaptabilidade, profundidade de circuito relativamente baixa e forte desempenho em uma variedade de tarefas de otimização.\n",
    "\n",
    "Se você quiser uma descrição completa do QAOA, recomendamos este [tutorial](https://quantum.cloud.ibm.com/docs/tutorials/quantum-approximate-optimization-algorithm), bem como a lição [QAOA em escala de utilidade](https://quantum.cloud.ibm.com/learning/courses/quantum-computing-in-practice/utility-scale-qaoa) do curso de computação quântica na prática. Aqui, comentaremos brevemente sobre a ideia principal por trás dele.\n",
    "\n",
    "O QAOA é um algoritmo quântico variacional inspirado no teorema adiabático, que afirma que um sistema quântico permanece em seu estado fundamental se evoluir lentamente o suficiente. O QAOA imita isso começando no estado fundamental de um Hamiltoniano conhecido (o misturador) e evoluindo em direção ao estado fundamental de um Hamiltoniano que codifica nosso problema (o custo). Isso é feito através de camadas alternadas dos dois Hamiltonianos, com cada passo controlado por parâmetros ajustáveis que guiam o sistema em direção à solução ótima.\n",
    "\n",
    "Após esta pequena explicação da teoria, vamos praticar usando o `QAOAAnsatz` do Qiskit para implementar o QAOA e resolver nosso problema Max-cut."
   ]
  },
  {
   "cell_type": "markdown",
   "metadata": {},
   "source": [
    "Depois de definirmos o circuito QAOA, devemos passá-lo para o gerenciador de passes para transpilá-lo para as portas nativas do backend."
   ]
  },
  {
   "cell_type": "code",
   "execution_count": null,
   "metadata": {},
   "outputs": [],
   "source": [
    "def graph_to_Pauli(graph: rx.PyGraph) -> list[tuple[str, float]]:\n",
    "    \"\"\"Converte o grafo para lista de Pauli.\"\"\"\n",
    "    pauli_list = []\n",
    "    n = graph.num_nodes()\n",
    "    \n",
    "    # Usa edge_list() como no tutorial da IBM\n",
    "    for edge in graph.edge_list():\n",
    "        pauli_word = ['I'] * n\n",
    "        pauli_word[edge[0]] = 'Z'\n",
    "        pauli_word[edge[1]] = 'Z'\n",
    "        \n",
    "        # Obtém o peso usando get_edge_data como no tutorial\n",
    "        weight = graph.get_edge_data(edge[0], edge[1])\n",
    "        \n",
    "        # Inverte a string de Pauli como no tutorial da IBM\n",
    "        pauli_list.append((''.join(pauli_word)[::-1], weight))\n",
    "    \n",
    "    return pauli_list"
   ]
  },
  {
   "cell_type": "code",
   "execution_count": null,
   "metadata": {},
   "outputs": [],
   "source": [
    "# Submeta sua resposta usando o código a seguir\n",
    "grade_lab2_ex2(graph_to_Pauli)"
   ]
  },
  {
   "cell_type": "code",
   "execution_count": null,
   "metadata": {},
   "outputs": [],
   "source": [
    "# Debug simples para pesos das arestas do grafo\n",
    "print(\"Propriedades do grafo:\")\n",
    "print(f\"Número de nós: {graph.num_nodes()}\")\n",
    "print(f\"Número de arestas: {graph.num_edges()}\")\n",
    "print(f\"Lista de arestas primeiras 5: {graph.edge_list()[:5]}\")\n",
    "print(f\"Lista de arestas ponderadas primeiras 5: {graph.weighted_edge_list()[:5]}\")\n",
    "\n",
    "# Verifica se os pesos importam\n",
    "edge_weights = set()\n",
    "for _, _, weight in graph.weighted_edge_list():\n",
    "    edge_weights.add(weight)\n",
    "print(f\"Pesos únicos das arestas: {edge_weights}\")\n",
    "\n",
    "# Testa abordagem simples\n",
    "simple_paulis = []\n",
    "for i, j, weight in graph.weighted_edge_list():\n",
    "    pauli_word = ['I'] * graph.num_nodes()\n",
    "    pauli_word[i] = 'Z'\n",
    "    pauli_word[j] = 'Z'\n",
    "    simple_paulis.append((''.join(pauli_word), weight))\n",
    "\n",
    "print(f\"\\nPrimeiros 3 termos de Pauli com pesos:\")\n",
    "for i, (pauli, coeff) in enumerate(simple_paulis[:3]):\n",
    "    print(f\"{pauli}: {coeff}\")"
   ]
  },
  {
   "cell_type": "markdown",
   "metadata": {},
   "source": [
    "No próximo exercício, você contará o erro total acumulado da aplicação dos diferentes circuitos quânticos aos três backends. Podemos fazer isso usando [`backend.properties()`](https://quantum.cloud.ibm.com/docs/en/guides/get-qpu-information#dynamic-backend-information), [`circuit.data`](https://quantum.cloud.ibm.com/docs/en/api/qiskit/qiskit.circuit.QuantumCircuit) e [`backend.configuration()`](https://quantum.cloud.ibm.com/docs/api/qiskit/qiskit.circuit.QuantumCircuit), pois eles nos fornecerão as informações necessárias.\n",
    "\n",
    "<a id=\"exercise_3\"></a>\n",
    "\n",
    "<b>Exercício 3: Contagem de Erros</b> \n",
    "\n",
    "Neste terceiro exercício, você estimará o erro total introduzido por todas as instruções ao executar circuitos quânticos em diferentes backends, completando a função `accululated_errors`.<br> \n",
    "\n",
    "**Dica**: Você pode estimar o erro total acumulado simplesmente somando todos os erros de porta individuais. Por exemplo, se um circuito contém apenas uma porta RZ e uma CNOT, o erro total seria aproximadamente RZ_error + CNOT_error.\n",
    "\n",
    "Embora essa aproximação possa produzir resultados semelhantes, o objetivo deste exercício é ensiná-lo a acessar informações detalhadas do backend e realizar uma estimativa mais precisa das taxas de erro específicas por qubit."
   ]
  },
  {
   "cell_type": "code",
   "execution_count": null,
   "metadata": {},
   "outputs": [],
   "source": [
    "layers = 2\n",
    "qaoa_circuit = QAOAAnsatz(cost_operator=cost_hamiltonian, reps=layers)\n",
    "qaoa_circuit.measure_all()\n",
    "qaoa_circuit.draw(\"mpl\")"
   ]
  },
  {
   "cell_type": "markdown",
   "metadata": {},
   "source": [
    "Após definirmos o circuito QAOA, devemos passá-lo para o gerenciador de passes para transpilá-lo para as portas nativas do backend."
   ]
  },
  {
   "cell_type": "code",
   "execution_count": null,
   "metadata": {},
   "outputs": [],
   "source": [
    "# Cria o Hamiltoniano de custo a partir dos termos de Pauli\n",
    "max_cut_paulis = graph_to_Pauli(graph)\n",
    "cost_hamiltonian = SparsePauliOp.from_list(max_cut_paulis)"
   ]
  },
  {
   "cell_type": "code",
   "execution_count": null,
   "metadata": {},
   "outputs": [],
   "source": [
    "# Cria o gerenciador de passes para transpilação\n",
    "\n",
    "pm = generate_preset_pass_manager(\n",
    "    optimization_level=3, backend=generic_backend, seed_transpiler=seed\n",
    ")\n",
    "\n",
    "qaoa_circuit_transpiled = pm.run(qaoa_circuit)\n",
    "qaoa_circuit_transpiled.draw(\"mpl\", fold=False, idle_wires=False)"
   ]
  },
  {
   "cell_type": "markdown",
   "metadata": {},
   "source": [
    "Vamos ver quais backends estão disponíveis para você."
   ]
  },
  {
   "cell_type": "code",
   "execution_count": null,
   "metadata": {},
   "outputs": [],
   "source": [
    "init_params = np.zeros(2 * layers)"
   ]
  },
  {
   "cell_type": "markdown",
   "metadata": {},
   "source": [
    "Vamos plotar os resultados."
   ]
  },
  {
   "cell_type": "code",
   "execution_count": null,
   "metadata": {},
   "outputs": [],
   "source": [
    "objective_func_vals = []\n",
    "\n",
    "\n",
    "def cost_func_estimator(\n",
    "    params: list, ansatz: QuantumCircuit, isa_hamiltonian: SparsePauliOp, estimator: Estimator\n",
    ") -> float:\n",
    "    \"\"\"Compute the cost function value using a parameterized ansatz and an estimator for a given Hamiltonian.\"\"\"\n",
    "    if isa_hamiltonian.num_qubits != ansatz.num_qubits:\n",
    "        isa_hamiltonian = isa_hamiltonian.apply_layout(ansatz.layout)\n",
    "    pub = (ansatz, isa_hamiltonian, params)\n",
    "    job = estimator.run([pub])\n",
    "    results = job.result()[0]\n",
    "    cost = results.data.evs\n",
    "    objective_func_vals.append(cost)\n",
    "    return cost\n",
    "\n",
    "\n",
    "def train_qaoa(\n",
    "    params: list,\n",
    "    circuit: QuantumCircuit,\n",
    "    hamiltonian: SparsePauliOp,\n",
    "    backend: QiskitRuntimeService.backend,\n",
    ") -> tuple:\n",
    "    \"\"\"Optimize QAOA parameters using COBYLA and an estimator on a given backend.\"\"\"\n",
    "    with Session(backend=backend) as session:\n",
    "        options = {\"simulator\": {\"seed_simulator\": seed}}\n",
    "        estimator = Estimator(mode=session, options=options)\n",
    "        estimator.options.default_shots = 100000\n",
    "\n",
    "        result = minimize(\n",
    "            cost_func_estimator,\n",
    "            params,\n",
    "            args=(circuit, hamiltonian, estimator),\n",
    "            method=\"COBYLA\",\n",
    "            options={\"maxiter\": 200, \"rhobeg\": 1, \"catol\": 1e-3, \"tol\": 0.0001},\n",
    "        )\n",
    "    print(result)\n",
    "    return result, objective_func_vals\n",
    "\n",
    "\n",
    "result_qaoa, objective_func_vals = train_qaoa(\n",
    "    init_params, qaoa_circuit_transpiled, cost_hamiltonian, generic_backend\n",
    ")"
   ]
  },
  {
   "cell_type": "markdown",
   "metadata": {},
   "source": [
    "Como esperado, `ibm_torino` nos fornece a maior probabilidade de medir uma solução. Isso confirma que nossa análise anterior de estimativa de erro estava correta ao prever qual backend executaria o algoritmo com erros mínimos. Para entender melhor o impacto do ruído, também podemos comparar essas probabilidades com a do `GenericBackend`, que simula um cenário ideal e sem ruído."
   ]
  },
  {
   "cell_type": "code",
   "execution_count": null,
   "metadata": {},
   "outputs": [],
   "source": [
    "plt.figure(figsize=(12, 6))\n",
    "plt.plot(objective_func_vals)\n",
    "plt.xlabel(\"Iteration\")\n",
    "plt.ylabel(\"Cost\")\n",
    "plt.show()"
   ]
  },
  {
   "cell_type": "markdown",
   "metadata": {},
   "source": [
    "Ótimo! Como você pode ver, nosso circuito treinou muito bem, convergindo para um valor que deve corresponder à energia mínima do Hamiltoniano de custo que representa nosso problema. Mas já terminamos? Como podemos ter certeza de que esta é realmente a energia mínima? E igualmente importante, embora possamos ter encontrado a energia mínima, a que estado fundamental ela corresponde? Ou, em outras palavras, qual é a solução real para o problema Max-cut?"
   ]
  },
  {
   "cell_type": "markdown",
   "metadata": {},
   "source": [
    "Viva! Encontramos com sucesso a solução correta do problema Max-cut usando QAOA!"
   ]
  },
  {
   "cell_type": "code",
   "execution_count": null,
   "metadata": {},
   "outputs": [],
   "source": [
    "def fold_global_circuit(circuit, scale_factor):\n",
    "    \"\"\"\n",
    "    Recebe um QuantumCircuit e um fator de escala (ímpar >= 1) e retorna um novo circuito\n",
    "    com folding global (ZNE): U (U†U)^k, onde k = (scale_factor - 1) // 2.\n",
    "    As medições devem estar apenas no final.\n",
    "    \"\"\"\n",
    "    from qiskit import QuantumCircuit\n",
    "    import copy\n",
    "\n",
    "    if scale_factor < 1 or scale_factor % 2 != 1:\n",
    "        raise ValueError(\"scale_factor deve ser um inteiro ímpar >= 1\")\n",
    "    k = (scale_factor - 1) // 2\n",
    "\n",
    "    # Remove medições do circuito original\n",
    "    clean = circuit.remove_final_measurements(inplace=False)\n",
    "\n",
    "    # Novo circuito com mesmo número de qubits e bits clássicos\n",
    "    qc = QuantumCircuit(circuit.num_qubits, circuit.num_clbits)\n",
    "\n",
    "    # Adiciona U\n",
    "    qc.append(clean, qc.qubits)\n",
    "\n",
    "    # Adiciona (U†U)^k\n",
    "    for _ in range(k):\n",
    "        qc.append(clean.inverse(), qc.qubits)\n",
    "        qc.append(clean, qc.qubits)\n",
    "\n",
    "    # Adiciona medições finais (na mesma ordem do circuito original)\n",
    "    for inst, qargs, cargs in circuit.data:\n",
    "        if inst.name == \"measure\":\n",
    "            qc.measure(qargs[0], cargs[0])\n",
    "\n",
    "    return qc"
   ]
  },
  {
   "cell_type": "markdown",
   "metadata": {},
   "source": [
    "Após a rotina de otimização ser executada, podemos ver como a função de custo evolui com o número de iterações para verificar como o algoritmo convergiu."
   ]
  },
  {
   "cell_type": "code",
   "execution_count": null,
   "metadata": {},
   "outputs": [],
   "source": [
    "eigenvalues, eigenvectors = np.linalg.eig(cost_hamiltonian)\n",
    "ground_energy = min(eigenvalues).real\n",
    "num_solutions = eigenvalues.tolist().count(ground_energy)\n",
    "index_solutions = np.where(eigenvalues == ground_energy)[0].tolist()\n",
    "print(f\"The ground energy of the Hamiltonian is {ground_energy}\")\n",
    "print(f\"The number of solutions of the problem is {num_solutions}\")\n",
    "print(f\"The list of the solutions based on their index is {index_solutions}\")"
   ]
  },
  {
   "cell_type": "markdown",
   "metadata": {},
   "source": [
    "Parece que temos 8 estados diferentes com probabilidades significativamente maiores que o resto, o que sugere que pode haver 8 estados fundamentais diferentes. Mas como podemos verificar isso? Felizmente para nós, este problema de Max-cut não é muito grande, então ainda pode ser resolvido analiticamente para nos ajudar a discernir se nossa solução é uma boa ou má aproximação. Vamos dar uma olhada!"
   ]
  },
  {
   "cell_type": "code",
   "execution_count": null,
   "metadata": {},
   "outputs": [],
   "source": [
    "def decimal_to_binary(decimal_list, n):\n",
    "    return [bin(num)[2:].zfill(n) for num in decimal_list]\n",
    "\n",
    "\n",
    "# Convert the solutions to quantum states\n",
    "states_solutions = decimal_to_binary(index_solutions, n)\n",
    "# Sort the dictionary items by their counts in descending order\n",
    "sorted_states = sorted(counts_list.items(), key=lambda item: item[1], reverse=True)\n",
    "# Take the top 'num_solutions' entries\n",
    "top_states = sorted_states[:num_solutions]\n",
    "# Extract only the states keys from the top entries\n",
    "qaoa_ground_states = sorted([state for state, count in top_states])\n",
    "print(f\"The analytical solutions for the Max-cut problem are: {states_solutions}\")\n",
    "print(f\"The QAOA ground states solutions for the Max-cut are: {qaoa_ground_states}\")"
   ]
  },
  {
   "cell_type": "markdown",
   "metadata": {},
   "source": [
    "Para resolver este problema de Max-cut analiticamente, diagonalizamos o Hamiltoniano de custo. Note que isso pode ser feito porque o tamanho do problema não é muito grande; no entanto, a complexidade deste problema escala exponencialmente com o número de nós (qubits), então o problema se torna intratável para um grande número de nós."
   ]
  },
  {
   "cell_type": "markdown",
   "metadata": {},
   "source": [
    "# 3. Simulador quântico com ruído <a id=\"noisy-simulator\"></a>\n",
    "\n",
    "Com tudo funcionando bem, agora podemos avaliar como o ruído afeta nossos resultados, comparando as execuções em um simulador quântico sem ruído e um simulador quântico com ruído!\n",
    "\n",
    "## 3.1 Escolhendo o backend <a id=\"choosing-backend\"></a>\n",
    "\n",
    "O primeiro passo é escolher um backend apropriado. Para esta demonstração, carregaremos uma instância do simulador [AerSimulator](https://quantum.cloud.ibm.com/docs/guides/AerSimulator) que está configurado para simular o ruído de dispositivos quânticos reais. Especificamente, usaremos o modelo de ruído de um dos dispositivos quânticos disponíveis na IBM Quantum Network."
   ]
  },
  {
   "cell_type": "code",
   "execution_count": null,
   "metadata": {},
   "outputs": [],
   "source": [
    "real_backends = service.backends()\n",
    "print(f\"Os computadores quânticos disponíveis para você são {real_backends}\")"
   ]
  },
  {
   "cell_type": "markdown",
   "metadata": {},
   "source": [
    "# 5. Mitigação de Erros (EM) <a id=\"em\"></a>\n",
    "\n",
    "Uma das principais áreas de pesquisa para lidar com o ruído inevitável em dispositivos quânticos é a **mitigação de erros (EM)**. A EM consiste em um conjunto de técnicas inteligentes projetadas para reduzir o impacto do ruído sem exigir códigos de correção de erros complexos ou qubits adicionais, recursos que permanecem limitados no hardware quântico de hoje. Em vez de corrigir erros à medida que ocorrem, a EM usa estratégias como repetição de loops, ajustes baseados em calibração e pós-processamento clássico para melhorar a qualidade dos resultados finais, levando a um desempenho aprimorado em nossos algoritmos quânticos."
   ]
  },
  {
   "cell_type": "markdown",
   "metadata": {},
   "source": [
    "## 5.1 Extrapolação de Ruído Zero (ZNE) <a id=\"zne\"></a>"
   ]
  },
  {
   "cell_type": "markdown",
   "metadata": {},
   "source": [
    "ZNE é uma poderosa técnica de mitigação de erros quânticos projetada para reduzir o impacto do ruído em circuitos quânticos sem exigir qubits adicionais ou correção de erros completa. O processo consiste em três estágios essenciais: amplificação de ruído, execução em vários níveis de ruído e extrapolação clássica de volta ao limite de ruído zero."
   ]
  },
  {
   "cell_type": "code",
   "execution_count": null,
   "metadata": {},
   "outputs": [],
   "source": [
    "# backends=[service.backend(\"alt_brisbane\"),service.backend(\"alt_kawasaki\"),service.backend(\"alt_torino\")]\n",
    "real_backends = [\n",
    "    service.backend(\"ibm_brisbane\"),\n",
    "    service.backend(\"ibm_sherbrooke\"),\n",
    "    service.backend(\"ibm_torino\"),\n",
    "]"
   ]
  },
  {
   "cell_type": "code",
   "execution_count": null,
   "metadata": {},
   "outputs": [],
   "source": [
    "noisy_fake_backends = []\n",
    "for backend in real_backends:\n",
    "    noisy_fake_backends.append(AerSimulator.from_backend(backend, seed_simulator=seed))\n",
    "print(f\"Os simuladores com ruído são {noisy_fake_backends}\")"
   ]
  },
  {
   "cell_type": "markdown",
   "metadata": {},
   "source": [
    "# Conclusões <a id=\"conclusions\"></a>\n",
    "\n",
    "Neste laboratório, exploramos as várias fontes de ruído que podem afetar seu circuito quântico e - mais importante - as ferramentas dedicadas que podemos usar para *superar o ruído*. Com essas ferramentas em mãos, você agora está bem equipado para enfrentar qualquer um de seus algoritmos quânticos em andamento e executá-los em hardware quântico real. Lembre-se, os principais passos a seguir são:\n",
    "\n",
    "- **Entenda seu dispositivo**: conheça as propriedades do hardware, como tempos de coerência, fidelidades de porta e erros de leitura para escolher os melhores qubits.\n",
    "- **Transpilação inteligente**: mapeie seu circuito lógico para o hardware físico de uma forma que minimize os erros, especialmente para portas de dois qubits.\n",
    "- **Aplique mitigação e supressão de erros** para reduzir ainda mais o impacto do ruído e melhorar o desempenho.\n",
    "\n",
    "A probabilidade de medir uma solução correta no `GenericBackend` sem ruído é, como esperado, maior do que nos backends com ruído. No entanto, a diferença não é tão grande. Isso destaca um ponto importante. Mesmo com os atuais computadores quânticos com ruído, desde que sejamos cuidadosos e inteligentes no projeto de nosso circuito e usemos as ferramentas certas, ainda podemos resolver muitos problemas com um bom grau de precisão!"
   ]
  },
  {
   "cell_type": "markdown",
   "metadata": {},
   "source": [
    "# Desafio Bônus: Ampliando! <a id=\"bonus\"></a>\n",
    "\n",
    "Como bônus, incluímos uma versão mais complicada deste problema, na qual você implementará o problema Max-cut em hardware quântico da IBM. Esta é a sua chance de colocar em prática tudo o que aprendeu, incluindo as técnicas de mitigação de erros!"
   ]
  },
  {
   "cell_type": "code",
   "execution_count": null,
   "metadata": {},
   "outputs": [],
   "source": [
    "def accumulated_errors(backend: QiskitRuntimeService.backend, circuit: QuantumCircuit) -> list:\n",
    "    \"\"\"Compute accumulated gate and readout errors for a given circuit on a specific backend.\"\"\"\n",
    "    acc_single_qubit_error = 0\n",
    "    acc_two_qubit_error = 0\n",
    "    single_qubit_gate_count = 0\n",
    "    two_qubit_gate_count = 0\n",
    "    acc_readout_error = 0\n",
    "    properties = backend.properties()\n",
    "    \n",
    "    # Identify qubits that have measurement operations\n",
    "    measured_qubits = set()\n",
    "    for instruction in circuit.data:\n",
    "        if instruction.operation.name == \"measure\":\n",
    "            measured_qubits.add(instruction.qubits[0]._index)\n",
    "\n",
    "    # Readout error only for measured qubits\n",
    "    for q in measured_qubits:\n",
    "        acc_readout_error += properties.readout_error(q)\n",
    "\n",
    "    # Identify two-qubit gate for the backend\n",
    "    basis_gates = backend.configuration().basis_gates\n",
    "    if \"ecr\" in basis_gates:\n",
    "        two_qubit_gate = \"ecr\"\n",
    "    elif \"cz\" in basis_gates:\n",
    "        two_qubit_gate = \"cz\"\n",
    "    elif \"cx\" in basis_gates:\n",
    "        two_qubit_gate = \"cx\"\n",
    "    else:\n",
    "        two_qubit_gate = None\n",
    "\n",
    "    # Loop over instructions in circuit.data\n",
    "    for instruction in circuit.data:\n",
    "        op = instruction.operation\n",
    "        qubits = [q._index for q in instruction.qubits]\n",
    "        # Single-qubit gates (not measure)\n",
    "        if op.num_qubits == 1 and op.name != \"measure\":\n",
    "            single_qubit_gate_count += 1\n",
    "            acc_single_qubit_error += properties.gate_error(gate=op.name, qubits=qubits[0])\n",
    "        # Two-qubit gates\n",
    "        elif op.num_qubits == 2 and op.name == two_qubit_gate:\n",
    "            two_qubit_gate_count += 1\n",
    "            acc_two_qubit_error += properties.gate_error(gate=two_qubit_gate, qubits=qubits)\n",
    "\n",
    "    acc_total_error = acc_two_qubit_error + acc_single_qubit_error + acc_readout_error\n",
    "    results = [\n",
    "        acc_total_error,\n",
    "        acc_two_qubit_error,\n",
    "        acc_single_qubit_error,\n",
    "        acc_readout_error,\n",
    "        single_qubit_gate_count,\n",
    "        two_qubit_gate_count,\n",
    "    ]\n",
    "    return results"
   ]
  },
  {
   "cell_type": "markdown",
   "metadata": {},
   "source": [
    "Não treinaremos o circuito QAOA em hardware, pois isso consumirá muito do seu plano Open Plan. Em vez disso, executaremos o estimador com os parâmetros otimizados e aplicaremos técnicas de mitigação de erros posteriormente para ver como podemos melhorar os resultados.\n",
    "\n",
    "Primeiro, calculamos a energia do estado fundamental em hardware sem mitigação de erros."
   ]
  },
  {
   "cell_type": "code",
   "execution_count": null,
   "metadata": {},
   "outputs": [],
   "source": [
    "qaoa_transpiled_list = []\n",
    "errors_and_counts_list = []\n",
    "for noisy_fake_backend in noisy_fake_backends:\n",
    "    pm = generate_preset_pass_manager(\n",
    "        backend=noisy_fake_backend,\n",
    "        optimization_level=3,\n",
    "        seed_transpiler=seed,\n",
    "    )\n",
    "    circuit = pm.run(qaoa_circuit)\n",
    "    qaoa_transpiled_list.append(circuit)\n",
    "\n",
    "    errors_and_counts = accumulated_errors(noisy_fake_backend, circuit)\n",
    "    errors_and_counts_list.append(errors_and_counts)\n",
    "# You can print your results to visualize if they are correct\n",
    "for backend, (\n",
    "    acc_total_error,\n",
    "    acc_two_qubit_error,\n",
    "    acc_single_qubit_error,\n",
    "    acc_readout_error,\n",
    "    single_qubit_gate_count,\n",
    "    two_qubit_gate_count,\n",
    ") in zip(noisy_fake_backends, errors_and_counts_list):\n",
    "    print(f\"Backend {backend.name}\")\n",
    "    print(f\"Accumulated two-qubit error of {two_qubit_gate_count} gates: {acc_two_qubit_error:.3f}\")\n",
    "    print(\n",
    "        f\"Accumulated one-qubit error of {single_qubit_gate_count} gates: {acc_single_qubit_error:.3f}\"\n",
    "    )\n",
    "    print(f\"Accumulated readout error: {acc_readout_error:.3f}\")\n",
    "    print(f\"Accumulated total error: {acc_total_error:.3f}\\n\")"
   ]
  },
  {
   "cell_type": "markdown",
   "metadata": {},
   "source": [
    "Vamos plotar os resultados."
   ]
  },
  {
   "cell_type": "code",
   "execution_count": null,
   "metadata": {},
   "outputs": [],
   "source": [
    "plot_backend_errors_and_counts(noisy_fake_backends, errors_and_counts_list)"
   ]
  },
  {
   "cell_type": "code",
   "execution_count": null,
   "metadata": {},
   "outputs": [],
   "source": [
    "# Submit your answer using the following code\n",
    "grade_lab2_ex3(accumulated_errors)"
   ]
  },
  {
   "cell_type": "markdown",
   "metadata": {},
   "source": [
    "Agora aplicamos diferentes técnicas de mitigação e supressão de erros.\n",
    "\n",
    "- **Pauli twirling**: esta técnica de mitigação de erros transforma ruído arbitrário em ruído de Pauli mais simples, aplicando e desfazendo aleatoriamente portas de Pauli em torno das operações, reduzindo o impacto de erros coerentes e permitindo uma modelagem e correção de ruído mais eficazes.\n",
    "- **TREX**: Twirled Readout Error eXtinction é uma técnica de mitigação de erros de leitura que reduz os erros de medição, invertendo aleatoriamente os qubits antes da medição e corrigindo classicamente os resultados, diagonalizando efetivamente a matriz de erros de leitura e simplificando sua inversão para uma estimativa mais precisa do valor esperado.\n",
    "- **ZNE**: como explicado anteriormente, ZNE é uma técnica de mitigação de erros que estima o resultado de uma computação quântica como se fosse executada em um dispositivo sem ruído. Para isso, aumenta deliberadamente o ruído de forma controlada, mede os resultados e, em seguida, extrapola de volta para o limite de ruído zero."
   ]
  },
  {
   "cell_type": "markdown",
   "metadata": {},
   "source": [
    "Agora podemos usar o primitivo Sampler em hardware real sem nenhuma técnica de mitigação e supressão de erros."
   ]
  },
  {
   "cell_type": "code",
   "execution_count": null,
   "metadata": {},
   "outputs": [],
   "source": [
    "opt_params_list = []\n",
    "counts_list_backends = []\n",
    "for noisy_fake_backend, circuit in zip(noisy_fake_backends[:1], qaoa_transpiled_list[:1]):\n",
    "    result_backend, _ = train_qaoa(init_params, circuit, cost_hamiltonian, noisy_fake_backend)\n",
    "    opt_params = result_backend.x\n",
    "    opt_params_list.append(opt_params)\n",
    "    counts_list_backend = sample_qaoa(opt_params, circuit, noisy_fake_backend)\n",
    "    counts_list_backends.append(counts_list_backend)"
   ]
  },
  {
   "cell_type": "markdown",
   "metadata": {},
   "source": [
    "<div class=\"alert alert-block alert-warning\">\n",
    "<b>Warning: 8 minutes needed. </b>\n",
    "\n",
    "Running the following code will take approximately 8 minutes to execute, and will block this notebook during that time. \n",
    "\n",
    "Se você quiser pular esta célula, vá diretamente para a [Seção 4](#transpiler).\n",
    "\n",
    "</div>"
   ]
  },
  {
   "cell_type": "code",
   "execution_count": null,
   "metadata": {},
   "outputs": [],
   "source": [
    "for noisy_fake_backend, circuit in zip(noisy_fake_backends[1:], qaoa_transpiled_list[1:]):\n",
    "    result_backend, _ = train_qaoa(init_params, circuit, cost_hamiltonian, noisy_fake_backend)\n",
    "    opt_params = result_backend.x\n",
    "    opt_params_list.append(opt_params)\n",
    "    counts_list_backend = sample_qaoa(opt_params, circuit, noisy_fake_backend)\n",
    "    counts_list_backends.append(counts_list_backend)"
   ]
  },
  {
   "cell_type": "markdown",
   "metadata": {},
   "source": [
    "# 3.2 Estimando erros usando NEAT <a id=\"neat\"></a>\n",
    "\n",
    "Até agora, analisamos individualmente as propriedades do dispositivo. Agora, vamos descobrir como estimar o impacto esperado do ruído para um circuito específico. Para isso, usaremos uma ferramenta bastante útil: **Noise Equivalent Application Testing (NEAT)**. \n",
    "\n",
    "Do ponto de vista prático, uma maneira de usar o NEAT é simular um circuito quântico em um cenário com e sem ruído, medindo um observável cujo valor esperado é exatamente 1 no caso ideal (sem ruído). Nesta configuração, qualquer desvio de 1 na simulação com ruído reflete diretamente o impacto do ruído no circuito. Uma maneira fácil de garantir que o observável atenda aos requisitos é escolher:"
   ]
  },
  {
   "cell_type": "code",
   "execution_count": null,
   "metadata": {},
   "outputs": [],
   "source": [
    "for noisy_fake_backend, counts_list_backend in zip(noisy_fake_backends, counts_list_backends):\n",
    "    solutions_counts = [counts_list_backend[key] for key in states_solutions]\n",
    "    print(\n",
    "        f\"Probability of measuring a solution for {noisy_fake_backend.name} is {float(sum(solutions_counts)/SHOTS)}\"\n",
    "    )"
   ]
  },
  {
   "cell_type": "markdown",
   "metadata": {},
   "source": [
    "Vamos aplicar o NEAT aos nossos diferentes backends com ruído para ver como eles se saem."
   ]
  },
  {
   "cell_type": "code",
   "execution_count": null,
   "metadata": {},
   "outputs": [],
   "source": [
    "solutions_counts_noiseless = [counts_list[key] for key in states_solutions]\n",
    "print(\n",
    "    f\"Probability of measuring a solution for {generic_backend.name} is {float(sum(solutions_counts_noiseless)/SHOTS)}\"\n",
    ")"
   ]
  },
  {
   "cell_type": "markdown",
   "metadata": {},
   "source": [
    "Primeiro, realizaremos uma transpilação do circuito quântico para um layout no computador quântico que minimize o número de portas de dois qubits, pois essa será a principal fonte de erro."
   ]
  },
  {
   "cell_type": "markdown",
   "metadata": {},
   "source": [
    "# 4. Transpilação <a id=\"transpilation\"></a>\n",
    "\n",
    "Usando a ferramenta NEAT, podemos observar como o valor esperado em uma simulação com ruído se desvia do valor ideal de 1, de uma forma que concorda com a análise de ruído realizada na [Seção 3.1](#choosing-backend). \n",
    "\n",
    "No entanto, a transpilação padrão nem sempre é a melhor. Vamos ver se conseguimos fazer melhor!"
   ]
  },
  {
   "cell_type": "code",
   "execution_count": null,
   "metadata": {},
   "outputs": [],
   "source": [
    "results = []\n",
    "for backend, opt_params in zip(noisy_fake_backends, opt_params_list):\n",
    "    print(f\"\\nRunning on backend: {backend.name}\")\n",
    "\n",
    "    # Prepare the QAOA circuit with optimized parameters\n",
    "    qaoa_neat = QAOAAnsatz(cost_operator=cost_hamiltonian, reps=layers)\n",
    "    qc = qaoa_neat.assign_parameters(opt_params)\n",
    "\n",
    "    # Transpile the circuit\n",
    "    qc_transpiled = generate_preset_pass_manager(\n",
    "        optimization_level=3,\n",
    "        basis_gates=backend.configuration().basis_gates[:n],\n",
    "        seed_transpiler=seed,\n",
    "    ).run(qc)\n",
    "    # Use cost Hamiltonian as observable for Cliffordization\n",
    "    obs = cost_hamiltonian\n",
    "    analyzer = Neat(backend)\n",
    "    clifford_pub = analyzer.to_clifford([(qc_transpiled, obs)])[0]\n",
    "\n",
    "    # Construct observable from Clifford circuit\n",
    "    state_clifford = Statevector.from_instruction(clifford_pub.circuit)\n",
    "    obs_clifford = SparsePauliOp.from_operator(Operator(DensityMatrix(state_clifford).data))\n",
    "\n",
    "    # Apply layout\n",
    "    pm = generate_preset_pass_manager(backend=backend, optimization_level=1, seed_transpiler=seed)\n",
    "    isa_qc = pm.run(clifford_pub.circuit)\n",
    "    isa_obs = obs_clifford.apply_layout(isa_qc.layout)\n",
    "\n",
    "    # Prepare pubs and simulate\n",
    "    pubs = [(isa_qc, isa_obs)]\n",
    "    result_noiseless = (\n",
    "        analyzer.ideal_sim(pubs, cliffordize=True, seed_simulator=seed)._pub_results[0].vals\n",
    "    )\n",
    "    noisy_results = (\n",
    "        analyzer.noisy_sim(pubs, cliffordize=True, seed_simulator=seed)._pub_results[0].vals\n",
    "    )\n",
    "\n",
    "    # Store and print results\n",
    "    results.append({\"backend\": backend.name, \"noiseless\": result_noiseless, \"noisy\": noisy_results})\n",
    "    print(f\"Ideal results on {backend.name}:\\n{result_noiseless:.3f}\")\n",
    "    print(f\"Noisy results on {backend.name}:\\n{noisy_results:.3f}\")"
   ]
  },
  {
   "cell_type": "markdown",
   "metadata": {},
   "source": [
    "# 4. Transpilador <a id=\"transpiler\"></a>\n",
    "\n",
    "O transpilador é uma das ferramentas mais importantes e úteis para executar circuitos quânticos em hardware quântico real. Ele serve como uma ponte entre a versão abstrata e idealizada de um circuito quântico e a implementação física no dispositivo quântico real. Quando você projeta um circuito, normalmente usa qubits virtuais e portas ideais sem considerar as limitações específicas do hardware. O transpilador traduz este circuito de alto nível em uma versão que pode ser implementada em um computador quântico real, usando apenas as operações de porta disponíveis nos qubits físicos do dispositivo.\n",
    "\n",
    "Por exemplo, suponha que seu circuito inclua uma porta CNOT entre os qubits virtuais 0 e 1. Em um dispositivo real, esses dois qubits podem não estar diretamente conectados. Nesses casos, o transpilador insere uma série de portas SWAP para mover os estados quânticos para qubits fisicamente adjacentes, permitindo a operação CNOT. Alternativamente, o transpilador pode encontrar um mapeamento de qubit mais eficiente, de modo que os qubits virtuais 0 e 1 sejam reatribuídos a qubits físicos que estão diretamente conectados - por exemplo, qubits 3 e 4, evitando assim a necessidade de portas SWAP adicionais.\n",
    "\n",
    "Até agora temos usado o transpilador implicitamente ao executar o gerenciador de passes em `generate_preset_pass_manager`. No entanto, agora vamos nos concentrar em entendê-lo melhor e aproveitá-lo ao máximo para um melhor design de circuito."
   ]
  },
  {
   "cell_type": "markdown",
   "metadata": {},
   "source": [
    "Uma das tarefas mais importantes de um transpilador quântico é determinar um layout ótimo de qubits para executar um circuito quântico. Isso envolve encontrar o melhor mapeamento entre os qubits virtuais do circuito e os qubits físicos do dispositivo. Para fazer isso, há algumas coisas a serem consideradas.\n",
    "\n",
    "Primeiro, o transpilador deve verificar todas as portas de dois qubits no circuito e garantir que os qubits físicos selecionados estejam conectados de uma forma que permita essas operações e reduza a necessidade de usar portas SWAP adicionais. Isso requer inspecionar o mapa de acoplamento, que mostra como os qubits físicos estão conectados.\n",
    "\n",
    "Primeiro realizaremos uma transpilação do circuito quântico para um layout no computador quântico que minimize o número de portas de dois qubits, já que essa será a principal fonte de erro.\n",
    "\n",
    "Em particular, consideraremos o backend `ibm_brisbane`, onde, como mostrado na [Seção 3.1](#choosing-backend), os erros de porta de dois qubits respondem pela maioria do erro total acumulado."
   ]
  },
  {
   "cell_type": "code",
   "execution_count": null,
   "metadata": {},
   "outputs": [],
   "source": [
    "# We select the `ibm_brisbane` backend\n",
    "num_backend = 0\n",
    "noisy_fake_backend = noisy_fake_backends[num_backend]\n",
    "\n",
    "pm = generate_preset_pass_manager(\n",
    "    backend=noisy_fake_backend,\n",
    "    optimization_level=3,\n",
    "    seed_transpiler=seed,\n",
    "    layout_method=\"sabre\",\n",
    ")\n",
    "circuit_transpiled = pm.run(qaoa_circuit)\n",
    "\n",
    "\n",
    "def two_qubit_gate_errors_per_circuit_layout(\n",
    "    circuit: QuantumCircuit, backend: QiskitRuntimeService.backend\n",
    ") -> tuple:\n",
    "    \"\"\"Calculate accumulated two-qubit gate errors and related metrics for a given circuit layout.\"\"\"\n",
    "    pair_list = []\n",
    "    error_pair_list = []\n",
    "    error_acc_pair_list = []\n",
    "    two_qubit_gate_count = 0\n",
    "    properties = backend.properties()\n",
    "    if \"ecr\" in (backend.configuration().basis_gates):\n",
    "        two_qubit_gate = \"ecr\"\n",
    "    elif \"cz\" in (backend.configuration().basis_gates):\n",
    "        two_qubit_gate = \"cz\"\n",
    "    for instruction in circuit.data:\n",
    "        if instruction.operation.num_qubits == 2:\n",
    "            two_qubit_gate_count += 1\n",
    "            pair = [instruction.qubits[0]._index, instruction.qubits[1]._index]\n",
    "            error_pair = properties.gate_error(gate=two_qubit_gate, qubits=pair)\n",
    "            if pair not in (pair_list):\n",
    "                pair_list.append(pair)\n",
    "                error_pair_list.append(error_pair)\n",
    "                error_acc_pair_list.append(error_pair)\n",
    "            else:\n",
    "                pos = pair_list.index(pair)\n",
    "                error_acc_pair_list[pos] += error_pair\n",
    "\n",
    "    acc_two_qubit_error = sum(error_acc_pair_list)\n",
    "    return (\n",
    "        acc_two_qubit_error,\n",
    "        two_qubit_gate_count,\n",
    "        pair_list,\n",
    "        error_pair_list,\n",
    "        error_acc_pair_list,\n",
    "    )\n",
    "\n",
    "\n",
    "(\n",
    "    acc_two_qubit_error,\n",
    "    two_qubit_gate_count,\n",
    "    pair_list,\n",
    "    error_pair_list,\n",
    "    error_acc_pair_list,\n",
    ") = two_qubit_gate_errors_per_circuit_layout(circuit_transpiled, noisy_fake_backend)\n",
    "two_qubit_ops_list = [int(a / b) for a, b in zip(error_acc_pair_list, error_pair_list)]\n",
    "# We print the results\n",
    "print(f\"The pairs of qubits that need to perform two-qubit operations are:\\n {pair_list}\")\n",
    "print(\n",
    "    f\"The errors introduced by each of the two-qubit operations are:\\n {[round(err,3) for err in error_pair_list]}\"\n",
    ")\n",
    "print(\n",
    "    f\"The accumulated errors introduced by each of the two-qubit operations are:\\n {[round(err,3) for err in error_acc_pair_list]}\"\n",
    ")\n",
    "print(f\"The repetitions of each one of the two-qubit operations is:\\n {two_qubit_ops_list}\")\n",
    "print(f\"The number of two-qubit operations in total:\\n {two_qubit_gate_count}\")\n",
    "print(f\"The total accumulated error by two-qubit operations is:\\n {acc_two_qubit_error:.3f}\")"
   ]
  },
  {
   "cell_type": "markdown",
   "metadata": {},
   "source": [
    "Existem dois tipos comuns de folding: **Folding Global** e **Folding Local**."
   ]
  },
  {
   "cell_type": "markdown",
   "metadata": {},
   "source": [
    "Nesta seção vimos que a transpilação é um passo fundamental na preparação de circuitos quânticos para serem executados em hardware real. Como diferentes dispositivos têm diferentes layouts e conjuntos de portas, um bom transpilador ajuda a adaptar seu circuito para se adequar ao hardware enquanto tenta manter coisas como profundidade quântica e taxas de erro baixas, alcançando assim melhor desempenho de seus algoritmos quânticos."
   ]
  },
  {
   "cell_type": "code",
   "execution_count": null,
   "metadata": {},
   "outputs": [],
   "source": [
    "# We build a graph with the connectivity constraints of our backend that includes the two-qubit gate errors as weights in the edges\n",
    "graph = rx.PyDiGraph()\n",
    "graph.add_nodes_from(np.arange(0, noisy_fake_backend.num_qubits, 1))\n",
    "two_qubit_gate = \"ecr\"\n",
    "graph.add_edges_from(\n",
    "    [\n",
    "        (\n",
    "            edge[0],\n",
    "            edge[1],\n",
    "            noisy_fake_backend.properties().gate_error(\n",
    "                gate=two_qubit_gate, qubits=(edge[0], edge[1])\n",
    "            ),\n",
    "        )\n",
    "        for edge in noisy_fake_backend.coupling_map\n",
    "    ]\n",
    ")\n",
    "draw_graph(graph, node_size=150, with_labels=True, width=1)"
   ]
  },
  {
   "cell_type": "markdown",
   "metadata": {},
   "source": [
    "Neste quinto exercício você usará o `layout_method` `sabre` para identificar o layout que tem o menor erro acumulado de portas de dois qubits.\n",
    "\n",
    "Para fazer isso, realize uma varredura sobre os valores de `seed_transpiler` de 0 a 500 e use o `generate_preset_pass_manager` com `optimization_level=3` para selecionar o melhor layout. Lembre-se de que você pode contar o erro acumulado das portas de dois qubits e o número de portas de dois qubits usando a função `two_qubit_gate_errors_per_circuit_layout`."
   ]
  },
  {
   "cell_type": "code",
   "execution_count": null,
   "metadata": {},
   "outputs": [],
   "source": [
    "def remap_nodes(original_labels: list, edge_list: list[list]) -> list[list[int]]:\n",
    "    \"\"\"Remap node labels to a new sequence starting from 0 based on their order in original_labels.\"\"\"\n",
    "    label_mapping = {label: idx for idx, label in enumerate(original_labels)}\n",
    "    remapped = [[label_mapping[src], label_mapping[dst]] for src, dst in edge_list]\n",
    "    return remapped\n",
    "\n",
    "\n",
    "layout_list = list(circuit_transpiled.layout.initial_layout.get_physical_bits().keys())[:5]\n",
    "logical_pair_list = remap_nodes(layout_list, pair_list)\n",
    "print(f\"Physical qubit layout list:\\n {layout_list}\")\n",
    "print(f\"\\nOriginal two-qubit gates list:\\n {pair_list}\")\n",
    "print(f\"\\nRemapped two-qubit gates list (in logical qubits):\\n {logical_pair_list}\")"
   ]
  },
  {
   "cell_type": "markdown",
   "metadata": {},
   "source": [
    "#### Folding Local\n",
    "\n",
    "O folding local foca em aumentar seletivamente o ruído em partes específicas do circuito quântico, geralmente em torno das portas ou subcircuitos mais propensos a erros. Em vez de dobrar todo o circuito como um bloco, este método foca em portas quânticas individuais ou grupos de portas. Isso fornece maior controle e calibração mais precisa do processo de amplificação de ruído. Sua operação é pegar de cada circuito quântico cada porta quântica $G$. Podemos aplicar folding local envolvendo-a com sua operação inversa da seguinte forma:\n",
    "\n",
    "$$G \\rightarrow G G^\\dagger G$$"
   ]
  },
  {
   "cell_type": "markdown",
   "metadata": {},
   "source": [
    "<b>Exercício 6b: Folding Local</b>\n",
    "\n",
    "**Seu Objetivo:** Implementar folding local em circuitos quânticos.\n",
    "\n",
    "Nesta segunda parte do Exercício 6 (Seção b), sua tarefa é escrever uma função que aplica folding local a um circuito quântico. Ao contrário do folding global, este método foca em portas individuais e as dobra seletivamente para amplificar o ruído em áreas específicas do circuito. A função deve permitir controle flexível das portas sendo dobradas (por exemplo, não podemos dobrar uma porta de medição) e sua avaliação em diferentes escalas de amplificação de ruído."
   ]
  },
  {
   "cell_type": "code",
   "execution_count": null,
   "metadata": {},
   "outputs": [],
   "source": [
    "def find_paths_with_weight_sum_below_threshold(\n",
    "    graph: rx.PyDiGraph,\n",
    "    threshold: float,\n",
    "    two_qubit_ops_list: list[int],\n",
    "    logical_pair_list: list[list[int]],\n",
    ") -> tuple[list[list[int]], list[float]]:\n",
    "    \"\"\"Find all valid paths through a graph whose weighted sum is below a given threshold.\"\"\"\n",
    "    valid_paths = []\n",
    "    valid_weights = []\n",
    "    for start_node in range(graph.num_nodes()):\n",
    "        paths = [[start_node]]\n",
    "        weights = [0]\n",
    "        for i in range(len(two_qubit_ops_list)):\n",
    "            new_paths = []\n",
    "            new_weights = []\n",
    "            for path, weight in zip(paths, weights):\n",
    "                if logical_pair_list[i][0] < logical_pair_list[i][1]:\n",
    "                    index_of_expanding_node = logical_pair_list[i][0]\n",
    "                    node_to_expand_from = path[index_of_expanding_node]\n",
    "                    for neighbor in graph.neighbors(node_to_expand_from):\n",
    "                        if neighbor not in path and graph.has_edge(node_to_expand_from, neighbor):\n",
    "                            edge_weight = graph.get_edge_data(node_to_expand_from, neighbor) * two_qubit_ops_list[i]\n",
    "                            new_paths.append(path + [neighbor])\n",
    "                            new_weights.append(weight + edge_weight)\n",
    "                else:\n",
    "                    index_of_expanding_node = logical_pair_list[i][1]\n",
    "                    node_to_expand_from = path[index_of_expanding_node]\n",
    "                    for neighbor in graph.neighbors_undirected(node_to_expand_from):\n",
    "                        if neighbor not in path and graph.has_edge(neighbor, node_to_expand_from):\n",
    "                            edge_weight = graph.get_edge_data(neighbor, node_to_expand_from) * two_qubit_ops_list[i]\n",
    "                            new_paths.append(path + [neighbor])\n",
    "                            new_weights.append(weight + edge_weight)\n",
    "            paths = new_paths\n",
    "            weights = new_weights\n",
    "        for path, weight in zip(paths, weights):\n",
    "            if weight < threshold:\n",
    "                valid_paths.append(path)\n",
    "                valid_weights.append(weight)\n",
    "    return valid_paths, valid_weights"
   ]
  },
  {
   "cell_type": "code",
   "execution_count": null,
   "metadata": {},
   "outputs": [],
   "source": [
    "# Define the optimal layout based on the previous analysis\n",
    "opt_layout = [72, 62, 81, 61, 63]  # Physical qubit layout from previous cell\n",
    "\n",
    "init_layout = Layout({q: phys for q, phys in zip(qaoa_circuit.qubits, opt_layout)})\n",
    "pm = generate_preset_pass_manager(\n",
    "    backend=noisy_fake_backend,\n",
    "    optimization_level=3,\n",
    "    seed_transpiler=seed,\n",
    "    initial_layout=init_layout,\n",
    "    layout_method=\"sabre\",\n",
    ")\n",
    "\n",
    "circuit_opt = pm.run(qaoa_circuit)\n",
    "circuit_opt.draw(idle_wires=False, fold=False)"
   ]
  },
  {
   "cell_type": "code",
   "execution_count": null,
   "metadata": {},
   "outputs": [],
   "source": [
    "# Submit your answer using the following code\n",
    "grade_lab2_ex4(find_paths_with_weight_sum_below_threshold)"
   ]
  },
  {
   "cell_type": "markdown",
   "metadata": {},
   "source": [
    "Depois de amplificar o ruído através do folding, o circuito quântico é executado várias vezes em diferentes níveis de ruído. Finalmente, no terceiro passo, **Extrapolação**, os resultados das execuções ruidosas são pós-processados usando métodos de ajuste clássicos, como extrapolação linear, polinomial ou exponencial, para estimar qual seria o resultado em um cenário hipotético de ruído zero. Através deste pipeline, ZNE ajuda a recuperar resultados de maior fidelidade do hardware quântico ruidoso atual, tornando-se uma ferramenta valiosa no cenário de computação quântica de curto prazo."
   ]
  },
  {
   "cell_type": "markdown",
   "metadata": {},
   "source": [
    "Para validar e analisar os resultados da ZNE que acabamos de implementar, podemos aplicar três tipos de métodos de extrapolação: linear, polinomial e exponencial. Essas abordagens ajudam a estimar a saída do circuito no limite de ruído zero com base nos dados coletados em níveis de ruído mais altos. Para ilustrar como isso pode ser feito, considere o seguinte código de exemplo:"
   ]
  },
  {
   "cell_type": "markdown",
   "metadata": {},
   "source": [
    "<a id=\"exercise_5\"></a>\n",
    "<div class=\"alert alert-block alert-success\">\n",
    "    \n",
    "<b>Exercício 5: Melhor Mapeamento </b> \n",
    "\n",
    "**Seu Objetivo:** Use o transpilador para encontrar o layout ótimo.\n",
    "\n",
    "Neste quinto exercício você usará o `layout_method` `sabre` para identificar o layout que tem o menor erro acumulado de portas de dois qubits. <br>\n",
    "\n",
    "Para fazer isso, realize uma varredura sobre os valores de `seed_transpiler` de 0 a 500 e use o `generate_preset_pass_manager` com `optimization_level=3` para selecionar o melhor layout. Lembre-se de que você pode contar o erro acumulado das portas de dois qubits e o número de portas de dois qubits usando a função `two_qubit_gate_errors_per_circuit_layout`.\n",
    "</div>"
   ]
  },
  {
   "cell_type": "code",
   "execution_count": null,
   "metadata": {},
   "outputs": [],
   "source": [
    "def finding_best_seed(\n",
    "    circuit: QuantumCircuit, backend: QiskitRuntimeService.backend\n",
    ") -> tuple[QuantumCircuit, int, float, int]:\n",
    "    \"\"\"Find the transpiler seed that minimizes two-qubit gate error for a given circuit and backend.\"\"\"\n",
    "\n",
    "    # We initialize the minimum error accumulated\n",
    "    min_err_acc_seed_loop = 100\n",
    "    circuit_opt_best_seed = None\n",
    "    best_seed_transpiler = None\n",
    "    two_qubit_gate_count_seed_loop = None\n",
    "    # First we loop over 500 seeds and transpile the circuit\n",
    "    for seed_transpiler in range(0, 500):\n",
    "        pm = generate_preset_pass_manager(\n",
    "            backend=backend,\n",
    "            optimization_level=3,\n",
    "            seed_transpiler=seed_transpiler,\n",
    "            layout_method=\"sabre\",\n",
    "        )\n",
    "        circuit_opt_seed = pm.run([circuit])[0]\n",
    "        # ---- TODO : Task 5 ---\n",
    "        # Goal: Find the transpiler seed that minimizes two-qubit gate error for a given circuit and backend looping from 0 to 500\n",
    "\n",
    "        # Use the `two_qubit_gate_errors_per_circuit_layout` function to count for the error of the transpile circuit\n",
    "        acc_two_qubit_error, two_qubit_gate_count, _, _, _ = two_qubit_gate_errors_per_circuit_layout(circuit_opt_seed, backend)\n",
    "\n",
    "        # Check if the error accounted above is smaller than min_err_acc_seed_loop. If so, assign the variables that this function returns\n",
    "        if acc_two_qubit_error < min_err_acc_seed_loop:\n",
    "            min_err_acc_seed_loop = acc_two_qubit_error\n",
    "            circuit_opt_best_seed = circuit_opt_seed\n",
    "            best_seed_transpiler = seed_transpiler\n",
    "            two_qubit_gate_count_seed_loop = two_qubit_gate_count\n",
    "\n",
    "        # --- End of TODO ---\n",
    "\n",
    "    return (\n",
    "        circuit_opt_best_seed,\n",
    "        best_seed_transpiler,\n",
    "        min_err_acc_seed_loop,\n",
    "        two_qubit_gate_count_seed_loop,\n",
    "    )"
   ]
  },
  {
   "cell_type": "code",
   "execution_count": null,
   "metadata": {},
   "outputs": [],
   "source": [
    "(\n",
    "    circuit_opt_seed_loop,\n",
    "    best_seed_transpiler,\n",
    "    min_err_acc_seed_loop,\n",
    "    two_qubit_gate_count_seed_loop,\n",
    ") = finding_best_seed(qaoa_circuit, noisy_fake_backend)\n",
    "\n",
    "best_layout = list(circuit_opt_seed_loop.layout.initial_layout.get_physical_bits().keys())[:n]\n",
    "print(f\"Best transpiler seed: {best_seed_transpiler}\")\n",
    "print(f\"Minimum accumulated two-qubit gate error: {min_err_acc_seed_loop:.3f}\")\n",
    "print(f\"Two-qubit gate count for best seed: {two_qubit_gate_count_seed_loop}\")\n",
    "print(f\"Best layout (first n logical qubits mapped to physical qubits):\\n {best_layout}\")"
   ]
  },
  {
   "cell_type": "code",
   "execution_count": null,
   "metadata": {},
   "outputs": [],
   "source": [
    "# Submit your answer using the following code\n",
    "grade_lab2_ex5(finding_best_seed)"
   ]
  },
  {
   "cell_type": "markdown",
   "metadata": {},
   "source": [
    "Em seguida, amostramos o circuito QAOA com esses circuitos para destacar a importância de uma boa transpilação."
   ]
  },
  {
   "cell_type": "markdown",
   "metadata": {},
   "source": [
    "<div class=\"alert alert-block alert-warning\">\n",
    "<b>Warning: 5 minutes needed.</b>\n",
    "\n",
    "Running the following code will take approximately 5 minutes to execute, and will block this notebook during that time.  You can skip to the next cell.\n",
    "\n",
    "</div>"
   ]
  },
  {
   "cell_type": "code",
   "execution_count": null,
   "metadata": {},
   "outputs": [],
   "source": [
    "counts_list_transpiled_circuits = []\n",
    "circuit_transpiled_list = [circuit_transpiled, circuit_opt_seed_loop]\n",
    "opt_params_list_transpiled_circuits = []\n",
    "for circuit in circuit_transpiled_list:\n",
    "    result_backend, _ = train_qaoa(init_params, circuit, cost_hamiltonian, noisy_fake_backend)\n",
    "    opt_params = result_backend.x\n",
    "    opt_params_list_transpiled_circuits.append(opt_params)\n",
    "    counts_list_transpiled_circuit = sample_qaoa(opt_params, circuit, noisy_fake_backend)\n",
    "    counts_list_transpiled_circuits.append(counts_list_transpiled_circuits)\n",
    "    solutions_counts = [counts_list_transpiled_circuit[key] for key in states_solutions]\n",
    "    print(f\"Probability of measuring a solution for is {float(sum(solutions_counts)/SHOTS)}\")"
   ]
  },
  {
   "cell_type": "markdown",
   "metadata": {},
   "source": [
    "No seguinte, lembre-se de usar o método de layout `sabre` e fazer um loop sobre diferentes seeds para minimizar uma métrica específica - como contagem de portas de dois qubits, profundidade ou erro acumulado - para maximizar o desempenho.\n",
    "\n",
    "Nesta seção vimos que a transpilação é um passo fundamental na preparação de circuitos quânticos para serem executados em hardware real. Como diferentes dispositivos têm diferentes layouts e conjuntos de portas, um bom transpilador ajuda a adaptar seu circuito para se adequar ao hardware enquanto tenta manter baixos fatores como profundidade quântica e taxas de erro, alcançando assim melhor desempenho de seus algoritmos quânticos."
   ]
  },
  {
   "cell_type": "markdown",
   "metadata": {},
   "source": [
    "# 5. Mitigação de Erros (EM) <a id=\"em\"></a>\n",
    "\n",
    "Uma das principais áreas de pesquisa para abordar o inevitável ruído em dispositivos quânticos é a **mitigação de erros (EM)**. EM consiste em um conjunto de técnicas inteligentes projetadas para reduzir o impacto do ruído sem exigir códigos complexos de correção de erro ou qubits adicionais, recursos que permanecem limitados no hardware quântico atual. Em vez de corrigir erros conforme eles ocorrem, EM usa estratégias como repetição de loops, ajustes baseados em calibração e pós-processamento clássico para melhorar a qualidade dos resultados finais, levando a um desempenho aprimorado em nossos algoritmos quânticos.\n",
    "\n",
    "Um dos métodos mais amplamente utilizados é a Extrapolação de Ruído Zero (ZNE). Nesta abordagem, o mesmo circuito quântico é executado múltiplas vezes com níveis de ruído deliberadamente aumentados. Então, técnicas de extrapolação matemática são aplicadas para estimar qual teria sido o resultado na ausência de ruído. Este método foi introduzido por [Temme et al. em 2017](https://journals.aps.org/prl/abstract/10.1103/PhysRevLett.119.180509)."
   ]
  },
  {
   "cell_type": "code",
   "execution_count": 73,
   "metadata": {},
   "outputs": [],
   "source": [
    "def fold_global_circuit(circuit: QuantumCircuit, scale_factor: int) -> QuantumCircuit:\n",
    "    \"\"\"Apply global circuit folding for Zero Noise Extrapolation (ZNE).\"\"\"\n",
    "    if scale_factor % 2 == 0 or scale_factor < 1:\n",
    "        raise ValueError(\"scale_factor must be an odd positive integer (1, 3, 5, ...)\")\n",
    "    \n",
    "    # For scale factor 1, return the original circuit\n",
    "    if scale_factor == 1:\n",
    "        return circuit.copy()\n",
    "    \n",
    "    # Remove measurements from the original circuit to get clean circuit\n",
    "    clean_circuit = circuit.remove_final_measurements(inplace=False)\n",
    "    \n",
    "    # Create folded circuit - following your backend-optimized approach\n",
    "    folded_circuit = QuantumCircuit(clean_circuit.num_qubits, circuit.num_clbits)\n",
    "    \n",
    "    # Calculate number of repetitions: n_repeat = (scale_factor - 1) // 2\n",
    "    n_repeat = (scale_factor - 1) // 2\n",
    "    \n",
    "    # Apply global folding following your specific pattern:\n",
    "    # For scale_factor=3: C → C† → C \n",
    "    # For scale_factor=5: C → C† → C → C† → C\n",
    "    \n",
    "    # Method 1: Direct append with qargs (matching your style)\n",
    "    # Get available qubits for the circuit\n",
    "    available_qubits = list(range(min(clean_circuit.num_qubits, folded_circuit.num_qubits)))\n",
    "    \n",
    "    # Add original circuit (C)\n",
    "    folded_circuit.append(clean_circuit, qargs=available_qubits)\n",
    "    \n",
    "    # Add the folding pairs (C† C)^n_repeat\n",
    "    for _ in range(n_repeat):\n",
    "        # Add C† (inverse circuit)\n",
    "        folded_circuit.append(clean_circuit.inverse(), qargs=available_qubits) \n",
    "        # Add C (original circuit)\n",
    "        folded_circuit.append(clean_circuit, qargs=available_qubits)\n",
    "    \n",
    "    # Add measurements back at the end\n",
    "    folded_circuit.measure_all()\n",
    "    \n",
    "    return folded_circuit"
   ]
  },
  {
   "cell_type": "code",
   "execution_count": 74,
   "metadata": {},
   "outputs": [
    {
     "name": "stdout",
     "output_type": "stream",
     "text": [
      "Submitting your answer. Please wait...\n",
      "Oops 😕! Hmm not quite: Your folding method is not correct :(\n",
      "Please review your answer and try again.\n"
     ]
    }
   ],
   "source": [
    "# Submit your answer using the following code\n",
    "grade_lab2_ex6a(fold_global_circuit)"
   ]
  },
  {
   "cell_type": "markdown",
   "metadata": {},
   "source": [
    "#### Folding Local\n",
    "\n",
    "O folding local foca em aumentar seletivamente o ruído em partes específicas do circuito quântico, geralmente em torno das portas ou subcircuitos mais propensos a erros. Em vez de dobrar todo o circuito como um bloco, este método foca em portas quânticas individuais ou grupos de portas. Isso fornece maior controle e calibração mais precisa do processo de amplificação de ruído. Sua operação é pegar de cada circuito quântico cada porta quântica $G$. Podemos aplicar folding local envolvendo-a com sua operação inversa da seguinte forma:\n",
    "\n",
    "$$ G \\rightarrow G \\cdot G^\\dagger \\cdot G $$\n",
    "\n",
    "Esta transformação logicamente cancela o par inserido $G^\\dagger \\cdot G$, deixando a computação inalterada. No entanto, a execução agora envolve três vezes mais operações de porta, aumentando assim a exposição ao ruído local. Isso o torna ideal para simular diferentes níveis de ruído de forma seletiva e sistemática.\n",
    "\n",
    "<a id=\"exercise_6b\"></a>\n",
    "\n",
    "<div class=\"alert alert-block alert-success\">\n",
    "<b>Exercício 6b: Folding Local</b>\n",
    "\n",
    "**Seu Objetivo:** Implementar folding local em circuitos quânticos.\n",
    "\n",
    "Nesta segunda parte do Exercício 6 (Seção b), sua tarefa é escrever uma função que aplica folding local a um circuito quântico. Diferentemente do folding global, este método foca em portas individuais e as dobra seletivamente para amplificar o ruído em áreas específicas do circuito. A função deve permitir controle flexível das portas sendo dobradas (por exemplo, não podemos dobrar uma porta de medição) e sua avaliação em diferentes escalas de amplificação de ruído.\n",
    "</div>"
   ]
  },
  {
   "cell_type": "code",
   "execution_count": null,
   "metadata": {},
   "outputs": [],
   "source": [
    "O primeiro estágio, **Amplificação de Ruído**, está no coração da ZNE. A ideia é executar o circuito quântico em versões que têm mais ruído do que o usual, mas de uma forma controlada e reversível. Comparando como a saída muda conforme o ruído aumenta, torna-se possível inferir qual seria o resultado sem ruído algum. Isso é tipicamente alcançado usando uma técnica chamada folding de circuito.\n",
    "\n",
    "O folding de circuito aumenta artificialmente o ruído em uma computação quântica inserindo portas adicionais que, em teoria, não alteram o resultado lógico. Essas portas adicionais são as operações adjuntas (inversas) de portas aplicadas anteriormente. Por exemplo, uma operação unitária $U$ pode ser transformada em $ U \\cdot U^\\dagger \\cdot U$, que logicamente ainda computa $U$, mas leva mais tempo para executar, ficando assim exposta a mais ruído do hardware."
   ]
  },
  {
   "cell_type": "code",
   "execution_count": null,
   "metadata": {},
   "outputs": [],
   "source": [
    "# Submit your answer using the following code\n",
    "grade_lab2_ex6b(fold_local_circuit)"
   ]
  },
  {
   "cell_type": "markdown",
   "metadata": {},
   "source": [
    "### Extrapolação\n",
    "\n",
    "Após amplificar o ruído através do folding, o circuito quântico é executado múltiplas vezes em diferentes níveis de ruído. Finalmente, no terceiro passo, **Extrapolação**, os resultados das execuções ruidosas são pós-processados usando métodos de ajuste clássicos, como extrapolação linear, polinomial ou exponencial, para estimar qual seria o resultado em um cenário hipotético de ruído zero. Através deste pipeline, ZNE ajuda a recuperar resultados de maior fidelidade do hardware quântico ruidoso atual, tornando-se uma ferramenta valiosa no cenário de computação quântica de curto prazo.\n",
    "\n",
    "Agora, integraremos ZNE na execução de um circuito QAOA, melhorando a precisão dos resultados em hardware quântico ruidoso."
   ]
  },
  {
   "cell_type": "code",
   "execution_count": null,
   "metadata": {},
   "outputs": [],
   "source": [
    "def basic_zne(\n",
    "    circuit,\n",
    "    scales,\n",
    "    backend,\n",
    "    opt_params,\n",
    "    observable,\n",
    "):\n",
    "    \"\"\"ZNE básica (Extrapolação de Ruído Zero) usando folding local.\"\"\"\n",
    "\n",
    "    exp_vals = []\n",
    "    xdata = np.array(scales)\n",
    "    estimator = Estimator(mode=backend)\n",
    "\n",
    "    for scale in scales:\n",
    "        # Aplicar folding local\n",
    "        folded = fold_local_circuit(circuit, scale)\n",
    "\n",
    "        # Transpilar para o backend\n",
    "        basis_gates = backend.target.operation_names\n",
    "        transpiled_folded = generate_preset_pass_manager(\n",
    "            basis_gates=basis_gates, optimization_level=0, seed_transpiler=seed\n",
    "        ).run(folded)\n",
    "        pub = (\n",
    "            transpiled_folded,\n",
    "            observable.apply_layout(circuit.layout),\n",
    "            opt_params,\n",
    "        )\n",
    "        # Avaliar o valor esperado\n",
    "        job = estimator.run([pub])\n",
    "        results = job.result()[0]\n",
    "        exp_vals.append(results.data.evs)\n",
    "\n",
    "    return xdata, exp_vals, pub"
   ]
  },
  {
   "cell_type": "markdown",
   "metadata": {},
   "source": [
    "#### Folding Global\n",
    "\n",
    "No folding global, todo o circuito quântico é dobrado como um único bloco. Isso significa que a operação unitária completa $U$ que o circuito representa é envolvida com sua operação adjunta, produzindo a transformação:\n",
    "\n",
    "$$U \\rightarrow U (U^\\dagger U)^k$$\n",
    "\n",
    "onde $k$ é um número inteiro não negativo que controla o grau de amplificação de ruído.\n",
    "\n",
    "O folding global é particularmente útil para aplicar rapidamente um aumento uniforme de ruído em todo o circuito. É direto de implementar e não requer conhecimento da estrutura interna do circuito. Como tal, serve como uma abordagem de granularidade grossa para amplificação de ruído, adequada para extrapolação de propósito geral quando o controle fino não é necessário."
   ]
  },
  {
   "cell_type": "markdown",
   "metadata": {},
   "source": [
    "<a id=\"exercise_6a\"></a>\n",
    "\n",
    "<b>Exercício 6a: Folding Global</b>\n",
    "\n",
    "**Seu Objetivo:** Implementar folding global nos circuitos quânticos.\n",
    "\n",
    "Nesta parte do Exercício 6 (Seção a), você criará uma função que aplica folding global a qualquer circuito quântico. Sua implementação deve permitir a avaliação do circuito em diferentes fatores de escala de ruído, que simulam níveis aumentados de ruído preservando a saída lógica do circuito. O fator de escala de ruído representa o número de vezes que um circuito $U$ ou $U^\\dagger$ é aplicado, sendo 1 o caso sem folding."
   ]
  },
  {
   "cell_type": "code",
   "execution_count": null,
   "metadata": {},
   "outputs": [],
   "source": [
    "methods = [\"linear\", \"quadratic\", \"exponential\"]\n",
    "\n",
    "for method in methods:\n",
    "    print(f\"\\n Extrapolation Method: {method.upper()}\")\n",
    "\n",
    "    # Perform the extrapolation\n",
    "    zero_val, fitted_vals, fit_params, fit_fn = zne_method(method=method, xdata=xdata, ydata=ydata)\n",
    "\n",
    "    # Print the extrapolated expectation value\n",
    "    print(f\"⟨Z⟩ (ZNE Estimate): {zero_val:.3f}\")\n",
    "\n",
    "    # Plot the results\n",
    "    plot_zne(xdata, fitted_vals, zero_val, fit_fn, fit_params, method)"
   ]
  },
  {
   "cell_type": "markdown",
   "metadata": {},
   "source": [
    "#### Folding Local\n",
    "\n",
    "O folding local foca em aumentar seletivamente o ruído em partes específicas do circuito quântico, geralmente em torno das portas ou subcircuitos mais propensos a erros. Em vez de dobrar todo o circuito como um bloco, este método foca em portas quânticas individuais ou grupos de portas. Isso fornece maior controle e calibração mais precisa do processo de amplificação de ruído. Sua operação é pegar de cada porta quântica $G$ do circuito quântico. Podemos aplicar folding local envolvendo-a com sua operação inversa da seguinte forma:\n",
    "\n",
    "$$G \\rightarrow G (G^\\dagger G)^k$$\n",
    "\n",
    "onde $k$ é um número inteiro não negativo que controla quantas vezes a porta é dobrada."
   ]
  },
  {
   "cell_type": "code",
   "execution_count": null,
   "metadata": {},
   "outputs": [],
   "source": [
    "# Check your submission status with the code below\n",
    "from qc_grader.grader.grade import check_lab_completion_status\n",
    "\n",
    "check_lab_completion_status(\"qgss_2025\")"
   ]
  },
  {
   "cell_type": "markdown",
   "metadata": {},
   "source": [
    "<a id=\"exercise_6b\"></a>\n",
    "\n",
    "<b>Exercício 6b: Folding Local</b>\n",
    "\n",
    "**Seu Objetivo:** Implementar folding local em circuitos quânticos.\n",
    "\n",
    "Nesta segunda parte do Exercício 6 (Seção b), sua tarefa é escrever uma função que aplica folding local a um circuito quântico. Diferentemente do folding global, este método foca em portas individuais e as dobra seletivamente para amplificar o ruído em áreas específicas do circuito. A função deve permitir controle flexível das portas sendo dobradas (por exemplo, não podemos dobrar uma porta de medição) e sua avaliação em diferentes escalas de amplificação de ruído."
   ]
  },
  {
   "cell_type": "code",
   "execution_count": null,
   "metadata": {},
   "outputs": [],
   "source": [
    "# We define the number of nodes:\n",
    "n_ext = 7\n",
    "# We define the graph\n",
    "graph_ext = rx.PyGraph()\n",
    "graph_ext.add_nodes_from(np.arange(0, n_ext, 1))\n",
    "generic_backend_ext = GenericBackendV2(n_ext, seed=seed)\n",
    "weights = 1\n",
    "# We make it explicitly asymmetrical to have a smaller set of solutions\n",
    "graph_ext.add_edges_from(\n",
    "    [(edge[0], edge[1], weights) for edge in generic_backend_ext.coupling_map][:-7]\n",
    ")\n",
    "draw_graph(graph_ext, node_size=200, with_labels=True, width=1)\n",
    "max_cut_paulis_ext = graph_to_Pauli(graph_ext)\n",
    "cost_hamiltonian_ext = SparsePauliOp.from_list(max_cut_paulis_ext)\n",
    "pm = generate_preset_pass_manager(\n",
    "    optimization_level=3, backend=generic_backend_ext, seed_transpiler=seed\n",
    ")\n",
    "layers = 2\n",
    "init_params = np.zeros(2 * layers)\n",
    "qaoa_circuit_ext = QAOAAnsatz(cost_operator=cost_hamiltonian_ext, reps=layers)\n",
    "qaoa_circuit_ext.measure_all()\n",
    "qaoa_circuit_ext_transpiled = pm.run(qaoa_circuit_ext)"
   ]
  },
  {
   "cell_type": "markdown",
   "metadata": {},
   "source": [
    "### Escolha do backend"
   ]
  },
  {
   "cell_type": "code",
   "execution_count": null,
   "metadata": {},
   "outputs": [],
   "source": [
    "def accumulated_errors(circuit, properties):\n",
    "    \"\"\"\n",
    "    Calculate the accumulated error rates for a quantum circuit.\n",
    "    \n",
    "    Args:\n",
    "        circuit: The quantum circuit to analyze\n",
    "        properties: Backend properties containing error information\n",
    "        \n",
    "    Returns:\n",
    "        Tuple of (single_qubit_error, two_qubit_error, readout_error, total_error)\n",
    "    \"\"\"\n",
    "    \n",
    "    single_qubit_gate_count = 0\n",
    "    two_qubit_gate_count = 0\n",
    "    acc_single_qubit_error = 0.0\n",
    "    acc_two_qubit_error = 0.0\n",
    "    acc_readout_error = 0.0\n",
    "    \n",
    "    # Determine the two-qubit gate type based on basis gates\n",
    "    basis_gates = properties.gates\n",
    "    basis_gate_names = [gate.gate for gate in basis_gates]\n",
    "    \n",
    "    if \"ecr\" in basis_gate_names:\n",
    "        two_qubit_gate = \"ecr\"\n",
    "    elif \"cz\" in basis_gate_names:\n",
    "        two_qubit_gate = \"cz\"\n",
    "    elif \"cx\" in basis_gate_names:\n",
    "        two_qubit_gate = \"cx\"\n",
    "    else:\n",
    "        two_qubit_gate = None\n",
    "\n",
    "    # Loop over instructions in circuit.data\n",
    "    for instruction in circuit.data:\n",
    "        op = instruction.operation\n",
    "        qubits = [q._index for q in instruction.qubits]\n",
    "        # Single-qubit gates (not measure)\n",
    "        if op.num_qubits == 1 and op.name != \"measure\":\n",
    "            single_qubit_gate_count += 1\n",
    "            acc_single_qubit_error += properties.gate_error(gate=op.name, qubits=qubits[0])\n",
    "        # Two-qubit gates\n",
    "        elif op.num_qubits == 2 and op.name == two_qubit_gate:\n",
    "            two_qubit_gate_count += 1\n",
    "            acc_two_qubit_error += properties.gate_error(gate=op.name, qubits=qubits)\n",
    "        # Measurement operations\n",
    "        elif op.name == \"measure\":\n",
    "            qubit_index = qubits[0]\n",
    "            acc_readout_error += properties.readout_error(qubit_index)\n",
    "\n",
    "    acc_total_error = acc_single_qubit_error + acc_two_qubit_error + acc_readout_error\n",
    "\n",
    "    return acc_single_qubit_error, acc_two_qubit_error, acc_readout_error, acc_total_error"
   ]
  },
  {
   "cell_type": "markdown",
   "metadata": {},
   "source": [
    "Em seguida, amostramos o circuito QAOA com esses circuitos para destacar a importância de uma boa transpilação."
   ]
  },
  {
   "cell_type": "code",
   "execution_count": null,
   "metadata": {},
   "outputs": [],
   "source": [
    "circuit_ext_opt_seed, best_seed_transpiler, min_err_acc_seed, _ = finding_best_seed(\n",
    "    qaoa_circuit_ext, best_backend_ext\n",
    ")\n",
    "print(f\"Best transpiler seed: {best_seed_transpiler}\")\n",
    "print(f\"Minimum accumulated two-qubit gate error: {min_err_acc_seed:.3f}\")"
   ]
  },
  {
   "cell_type": "markdown",
   "metadata": {},
   "source": [
    "### Estimator\n",
    "\n",
    "Não iremos treinar o circuito QAOA em hardware, pois isso consumirá muito da sua cota do Open Plan. Em vez disso, executaremos o estimador com os parâmetros otimizados e aplicaremos técnicas de mitigação de erros posteriormente para ver como podemos melhorar os resultados."
   ]
  },
  {
   "cell_type": "code",
   "execution_count": null,
   "metadata": {},
   "outputs": [],
   "source": [
    "best_backend_sim = AerSimulator.from_backend(best_backend_ext, seed_simulator=seed)\n",
    "result_qaoa_sim, objective_func_vals_sim = train_qaoa(\n",
    "    init_params, circuit_ext_opt_seed, cost_hamiltonian_ext, best_backend_sim\n",
    ")"
   ]
  },
  {
   "cell_type": "markdown",
   "metadata": {},
   "source": [
    "Agora podemos amostrar do circuito QAOA."
   ]
  },
  {
   "cell_type": "code",
   "execution_count": null,
   "metadata": {},
   "outputs": [],
   "source": [
    "opt_params_sim = result_qaoa_sim.x\n",
    "counts_list_sim = sample_qaoa(opt_params_sim, circuit_ext_opt_seed, best_backend_sim)"
   ]
  },
  {
   "cell_type": "markdown",
   "metadata": {},
   "source": [
    "# Verificando os resultados"
   ]
  },
  {
   "cell_type": "code",
   "execution_count": null,
   "metadata": {},
   "outputs": [],
   "source": [
    "eigenvalues_ext, eigenvectors_ext = np.linalg.eig(cost_hamiltonian_ext)\n",
    "ground_energy_ext = min(eigenvalues_ext).real\n",
    "num_solutions_ext = eigenvalues_ext.tolist().count(ground_energy_ext)\n",
    "index_solutions_ext = np.where(eigenvalues_ext == ground_energy_ext)[0].tolist()\n",
    "print(f\"The ground energy of the Hamiltonian is {ground_energy_ext}\")\n",
    "print(f\"The number of solutions of the problem is {num_solutions_ext}\")\n",
    "print(f\"The list of the solutions based on their index is {index_solutions_ext}\")\n",
    "\n",
    "states_solutions_ext = decimal_to_binary(index_solutions_ext, n_ext)\n",
    "# Sort the dictionary items by their counts in descending order\n",
    "sorted_states_sim = sorted(counts_list_sim.items(), key=lambda item: item[1], reverse=True)\n",
    "# Take the top 'num_solutions' entries\n",
    "top_states_sim = sorted_states_sim[:num_solutions_ext]\n",
    "# Extract only the states keys from the top entries\n",
    "qaoa_ground_states_sim = sorted([state for state, count in top_states_sim])\n",
    "print(f\"The analytical solutions for the Max-cut problem are: {states_solutions_ext}\")\n",
    "print(\n",
    "    f\"The QAOA ground states solutions for the Max-cut are: {qaoa_ground_states_sim} for {best_backend_sim.name}\"\n",
    ")"
   ]
  },
  {
   "cell_type": "markdown",
   "metadata": {},
   "source": [
    "Nesta seção, vimos que a transpilação é um passo fundamental na preparação de circuitos quânticos para serem executados em hardware real. Como diferentes dispositivos têm diferentes layouts e conjuntos de portas, um bom transpilador ajuda a adaptar seu circuito para se adequar ao hardware, tentando manter baixos fatores como profundidade quântica e taxas de erro, alcançando assim um melhor desempenho de seus algoritmos quânticos."
   ]
  },
  {
   "cell_type": "markdown",
   "metadata": {},
   "source": [
    "### Estimador\n",
    "\n",
    "Não iremos treinar o circuito QAOA em hardware, pois isso consumirá muito da sua cota do Open Plan. Em vez disso, executaremos o estimador com os parâmetros otimizados e aplicaremos técnicas de mitigação de erros posteriormente para ver como podemos melhorar os resultados.\n",
    "\n",
    "Primeiro calculamos a energia do estado fundamental em hardware sem mitigação de erros."
   ]
  },
  {
   "cell_type": "code",
   "execution_count": null,
   "metadata": {},
   "outputs": [],
   "source": [
    "# ---- TODO : Tarefa Bônus ---\n",
    "\n",
    "# Baseado na seção anterior, escolha o melhor backend para executar o código em hardware\n",
    "best_backend_hw = \n",
    "\n",
    "# --- Fim do TODO ---\n",
    "\n",
    "options = EstimatorOptions(default_shots=100000)\n",
    "estimator = Estimator(mode=best_backend_hw, options=options)\n",
    "ground_energy_ext_hw = cost_func_estimator(\n",
    "    opt_params_sim, circuit_ext_opt_seed, cost_hamiltonian_ext, estimator\n",
    ")\n",
    "print(\n",
    "    f\"A energia do estado fundamental do circuito QAOA executado em {best_backend_hw.name} sem EM é: {ground_energy_ext_hw}\"\n",
    ")"
   ]
  },
  {
   "cell_type": "markdown",
   "metadata": {},
   "source": [
    "Agora aplicamos diferentes técnicas de mitigação e supressão de erros.\n",
    "As diferentes técnicas que aplicaremos são:\n",
    "\n",
    "- **Desacoplamento dinâmico**: esta técnica de supressão de erros envolve aplicar uma sequência de pulsos de controle aos qubits ociosos para cancelar interações indesejadas e erros coerentes. Ajuda a preservar a coerência quântica \"desacoplando\" efetivamente o sistema das fontes de ruído ao longo do tempo.\n",
    "- **Pauli twirling**: esta técnica de mitigação de erros transforma ruído arbitrário em ruído de Pauli mais simples, aplicando e desfazendo aleatoriamente portas de Pauli em torno das operações, reduzindo o impacto de erros coerentes e permitindo uma modelagem e correção de ruído mais eficazes.\n",
    "- **TREX**: Twirled Readout Error eXtinction é uma técnica de mitigação de erros de leitura que reduz os erros de medição, invertendo aleatoriamente os qubits antes da medição e corrigindo classicamente os resultados, diagonalizando efetivamente a matriz de erros de leitura e simplificando sua inversão para uma estimativa mais precisa do valor esperado.\n",
    "- **ZNE**: como explicado anteriormente, ZNE é uma técnica de mitigação de erros que estima o resultado de uma computação quântica como se fosse executada em um dispositivo sem ruído. Para isso, aumenta deliberadamente o ruído de forma controlada, mede os resultados e, em seguida, extrapola de volta para o limite de ruído zero."
   ]
  },
  {
   "cell_type": "code",
   "execution_count": null,
   "metadata": {},
   "outputs": [],
   "source": [
    "options = EstimatorOptions(default_shots=100000)\n",
    "# Desacoplamento Dinâmico\n",
    "options.dynamical_decoupling.enable = True\n",
    "\n",
    "# Pauli Twirling Probabilístico\n",
    "options.twirling.enable_gates = True\n",
    "options.twirling.num_randomizations = 10\n",
    "options.twirling.shots_per_randomization = 10000\n",
    "\n",
    "# TREX\n",
    "options.resilience.measure_mitigation = True\n",
    "options.resilience.measure_noise_learning.num_randomizations = 10\n",
    "options.resilience.measure_noise_learning.shots_per_randomization = 10000\n",
    "\n",
    "# Configuração ZNE\n",
    "options.resilience.zne_mitigation = True\n",
    "options.resilience.zne.amplifier = \"gate_folding\"\n",
    "options.resilience.zne.extrapolator = \"polynomial_degree_2\"\n",
    "options.resilience.zne.noise_factors = (1, 3, 5)\n",
    "\n",
    "# Executamos em hardware\n",
    "estimator_EM = Estimator(mode=best_backend_hw, options=options)\n",
    "ground_energy_ext_hw_EM = cost_func_estimator(\n",
    "    opt_params_sim, circuit_ext_opt_seed, cost_hamiltonian_ext, estimator_EM\n",
    ")\n",
    "print(\n",
    "    f\"A energia do estado fundamental do circuito QAOA executado em {best_backend_hw.name} com EM é: {ground_energy_ext_hw_EM}\"\n",
    ")"
   ]
  },
  {
   "cell_type": "markdown",
   "metadata": {},
   "source": [
    "Agora podemos usar o primitivo Sampler em hardware real sem nenhuma técnica de mitigação e supressão de erros."
   ]
  },
  {
   "cell_type": "code",
   "execution_count": null,
   "metadata": {},
   "outputs": [],
   "source": [
    "opt_params_sim = result_qaoa_sim.x\n",
    "# Executamos em hardware\n",
    "sampler = Sampler(mode=best_backend_hw)\n",
    "job = sampler.run([(circuit_ext_opt_seed, opt_params_sim)], shots=SHOTS)\n",
    "results_sampler = job.result()\n",
    "counts_list_hw = results_sampler[0].data.meas.get_counts()\n",
    "display(plot_histogram(counts_list_hw, title=f\"Max cut com {best_backend_hw.name} \"))"
   ]
  },
  {
   "cell_type": "markdown",
   "metadata": {},
   "source": [
    "Agora incluímos técnicas de supressão de erros no Sampler."
   ]
  },
  {
   "cell_type": "code",
   "execution_count": null,
   "metadata": {},
   "outputs": [],
   "source": [
    "opt_params_sim = result_qaoa_sim.x\n",
    "# Executamos em hardware\n",
    "sampler = Sampler(mode=best_backend_hw)\n",
    "# Definir opções de runtime diretamente no sampler\n",
    "sampler.options.dynamical_decoupling.enable = True\n",
    "job = sampler.run([(circuit_ext_opt_seed, opt_params_sim)], shots=SHOTS)\n",
    "results_sampler = job.result()\n",
    "counts_list_hw_EM = results_sampler[0].data.meas.get_counts()\n",
    "display(plot_histogram(counts_list_hw_EM, title=f\"Max cut com {best_backend_hw.name} com EM\"))"
   ]
  },
  {
   "cell_type": "markdown",
   "metadata": {},
   "source": [
    "### Verificar resultados"
   ]
  },
  {
   "cell_type": "code",
   "execution_count": null,
   "metadata": {},
   "outputs": [],
   "source": [
    "sorted_states_hw = sorted(counts_list_hw.items(), key=lambda item: item[1], reverse=True)\n",
    "top_states_hw = sorted_states_hw[:num_solutions_ext]\n",
    "qaoa_ground_states_hw = sorted([state for state, count in top_states_hw])\n",
    "\n",
    "sorted_states_hw_EM = sorted(counts_list_hw_EM.items(), key=lambda item: item[1], reverse=True)\n",
    "top_states_hw_EM = sorted_states_hw_EM[:num_solutions_ext]\n",
    "qaoa_ground_states_hw_EM = sorted([state for state, count in top_states_hw_EM])\n",
    "\n",
    "print(f\"The analytical solutions for the Max-cut problem are: {states_solutions_ext}\")\n",
    "print(\n",
    "    f\"The QAOA ground states solutions for the Max-cut are: {qaoa_ground_states_hw} for {best_backend_hw.name}\"\n",
    ")\n",
    "print(\n",
    "    f\"The QAOA ground states solutions for the Max-cut are: {qaoa_ground_states_hw_EM} for {best_backend_hw.name} with EM\"\n",
    ")"
   ]
  },
  {
   "cell_type": "markdown",
   "metadata": {},
   "source": [
    "# Referências"
   ]
  },
  {
   "cell_type": "markdown",
   "metadata": {},
   "source": [
    "# Referências:\n",
    "\n",
    "[1] Fahri et al., \"A Quantum Approximate Optimization Algorithm\" (2014). [arXiv:quant-ph/1411.4028](https://arxiv.org/abs/1411.4028)\n",
    "\n",
    "[2] Nation et al., \"Suppressing Quantum Circuit Errors Due to System Variability\" (2023). [PRX Quantum 4, 010327](https://journals.aps.org/prxquantum/abstract/10.1103/PRXQuantum.4.010327)\n",
    "\n",
    "[3] Temme et al., \"Error Mitigation for Short-Depth Quantum Circuits\" (2017).  [Phys. Rev. Lett. 119, 180509](https://journals.aps.org/prl/abstract/10.1103/PhysRevLett.119.180509)\n",
    "\n",
    "# Informações adicionais\n",
    "\n",
    "**Criado por:** Jorge Martínez de Lejarza, Alberto Maldonado\n",
    "\n",
    "**Orientado por:** Marcel Pfaffhauser, Paul Nation, Junye Huang, Sophy Shin\n",
    "\n",
    "**Versão:** 1.0.1"
   ]
  }
 ],
 "metadata": {
  "kernelspec": {
   "display_name": "Python 3",
   "language": "python",
   "name": "python3"
  },
  "language_info": {
   "codemirror_mode": {
    "name": "ipython",
    "version": 3
   },
   "file_extension": ".py",
   "mimetype": "text/x-python",
   "name": "python",
   "nbconvert_exporter": "python",
   "pygments_lexer": "ipython3",
   "version": "3.11.13"
  },
  "widgets": {
   "application/vnd.jupyter.widget-state+json": {
    "state": {},
    "version_major": 2,
    "version_minor": 0
   }
  }
 },
 "nbformat": 4,
 "nbformat_minor": 4
}
